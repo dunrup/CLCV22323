{
 "cells": [
  {
   "cell_type": "raw",
   "id": "ddad9289",
   "metadata": {},
   "source": [
    "Write a function def export_coordinates(input_list, filename) that takes a list of PleiadesIDs as an input and creates an csv file with four columns (named 'title', 'pleiadesID', 'longitude', 'latitude'). The function should:\n",
    "\n",
    "    - Test if a particular path (e.g., ['features'][0]['geometry']['coordinates']) exists in the JSON file. \n",
    "        - If such a path does not exist, the function should handle the error/exception. \n",
    "        - Hint: do not use if statements.\n",
    "    - Make requests to the Pleiades and return the respective fields for the mentioned columns\n",
    "    - Export the results to a csv file, whose name will be passed as an argument.\n"
   ]
  },
  {
   "cell_type": "code",
   "execution_count": 1,
   "id": "6231e4ab",
   "metadata": {},
   "outputs": [],
   "source": [
    "import json\n",
    "import urllib.request\n",
    "import csv"
   ]
  },
  {
   "cell_type": "code",
   "execution_count": 2,
   "id": "1adbca0e",
   "metadata": {},
   "outputs": [],
   "source": [
    "# steps:\n",
    "# import JSON file\n",
    "# parse the JSON file to get the info we want\n",
    "# write those coordinates to a csv\n",
    "# export the csv"
   ]
  },
  {
   "cell_type": "code",
   "execution_count": null,
   "id": "7e2bd9dd",
   "metadata": {},
   "outputs": [],
   "source": []
  },
  {
   "cell_type": "code",
   "execution_count": 3,
   "id": "43ba1d8c",
   "metadata": {},
   "outputs": [],
   "source": [
    "#the first function here calls all the helpers underneath at different times. The 'names' variable holds all the \n",
    "# information to be printed. The rest of the 'export' function prints this to a csv with the field names on top, using the\n",
    "# writer and dictwriter functions.\n",
    "\n",
    "def export_coordinates(input_list, filename):\n",
    "    names = getinfo(input_list)\n",
    "    output_filename = filename+'.csv'\n",
    "    with open(output_filename, mode='w', newline='') as csvfile:\n",
    "        fieldnames = names[0].keys()\n",
    "        csvwriter = csv.writer(csvfile)\n",
    "        csvwriter.writerow(fieldnames)\n",
    "        dictwriter = csv.DictWriter(csvfile, fieldnames=fieldnames)\n",
    "        for row in names:\n",
    "            dictwriter.writerow(row)\n",
    "            \n",
    "#this function first creates an empty list, then fills it with dictionaries. The dictionaries will each represent one site\n",
    "#from Pleiades. getting the info happens in the helpers underneath\n",
    "            \n",
    "def getinfo(input_list):\n",
    "    names = []\n",
    "    for ids in input_list :\n",
    "        one_site = {}\n",
    "        one_site['title'] = getname(ids)\n",
    "        one_site['pleiadesID'] = ids\n",
    "        one_site['longitude'] = getcords(ids)[0]\n",
    "        one_site['latitude'] = getcords(ids)[1]\n",
    "        names.append(one_site)\n",
    "    return names\n",
    "\n",
    "#the main helper. This returns the JSON file from Pleiades' database. If the URI is different from this, I don't know how to \n",
    "#get the information.\n",
    "def getjson(uri) :\n",
    "    uri = f'https://pleiades.stoa.org/places/{uri}/json'\n",
    "    with urllib.request.urlopen(uri) as f:\n",
    "        data = json.loads(f.read().decode())\n",
    "    return data\n",
    "\n",
    "#getname and getcords both do the same thing for different keys. Each check to see if there is a value associated with the \n",
    "#key we want to find (first romanized name, then representative point), and then return either that value or \"na\"\n",
    "def getname(uri) : \n",
    "    if bool(getfirstname(getjson(uri).get('names')[0].get('romanized'))):\n",
    "        return getfirstname(getjson(uri).get('names')[0].get('romanized'))\n",
    "    else:\n",
    "        return \"NA\"\n",
    "    \n",
    "def getcords(uri):\n",
    "    if bool(getjson(uri).get('reprPoint')):\n",
    "        return getjson(uri).get('reprPoint')\n",
    "    else :\n",
    "        return ['NA','NA']\n",
    "    \n",
    "#if there are multiple romanized names, this says just get the first    \n",
    "def getfirstname(string):\n",
    "    return string.partition(\",\")[0]"
   ]
  },
  {
   "cell_type": "code",
   "execution_count": 4,
   "id": "c3b420e1",
   "metadata": {},
   "outputs": [],
   "source": [
    "#a tester case\n",
    "testerids = [579885, 589918, 570685, 541138, 727070]"
   ]
  },
  {
   "cell_type": "code",
   "execution_count": 5,
   "id": "d96c5752",
   "metadata": {},
   "outputs": [],
   "source": [
    "export_coordinates(testerids, 'Athens, Lytos, Sparta, Thebes, Alexandria')"
   ]
  },
  {
   "cell_type": "code",
   "execution_count": null,
   "id": "a1c11a0b",
   "metadata": {},
   "outputs": [],
   "source": []
  },
  {
   "cell_type": "code",
   "execution_count": null,
   "id": "af503664",
   "metadata": {},
   "outputs": [],
   "source": []
  },
  {
   "cell_type": "code",
   "execution_count": null,
   "id": "a4b4f810",
   "metadata": {},
   "outputs": [],
   "source": []
  },
  {
   "cell_type": "code",
   "execution_count": null,
   "id": "88572f6c",
   "metadata": {},
   "outputs": [],
   "source": []
  },
  {
   "cell_type": "code",
   "execution_count": null,
   "id": "19266a76",
   "metadata": {},
   "outputs": [],
   "source": []
  },
  {
   "cell_type": "code",
   "execution_count": null,
   "id": "f383698d",
   "metadata": {},
   "outputs": [],
   "source": []
  },
  {
   "cell_type": "code",
   "execution_count": null,
   "id": "e68a961c",
   "metadata": {},
   "outputs": [],
   "source": []
  }
 ],
 "metadata": {
  "kernelspec": {
   "display_name": "Python 3 (ipykernel)",
   "language": "python",
   "name": "python3"
  },
  "language_info": {
   "codemirror_mode": {
    "name": "ipython",
    "version": 3
   },
   "file_extension": ".py",
   "mimetype": "text/x-python",
   "name": "python",
   "nbconvert_exporter": "python",
   "pygments_lexer": "ipython3",
   "version": "3.11.5"
  }
 },
 "nbformat": 4,
 "nbformat_minor": 5
}
