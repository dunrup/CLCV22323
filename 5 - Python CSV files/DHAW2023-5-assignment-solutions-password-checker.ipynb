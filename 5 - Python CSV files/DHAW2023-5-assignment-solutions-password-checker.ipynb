{
 "cells": [
  {
   "cell_type": "markdown",
   "id": "d96ae38a",
   "metadata": {},
   "source": [
    "# Password Strength Checker:\n",
    "Write a function that takes a password as input and checks its strength based on the following criteria:\n",
    "\n",
    "- At least 8 characters long\n",
    "- Contains both uppercase and lowercase letters\n",
    "- Contains at least one digit\n",
    "\n",
    "Hint: use the string methods `.isupper()`, `.islower()` and `.isdigit()`"
   ]
  },
  {
   "cell_type": "markdown",
   "id": "2118159e",
   "metadata": {},
   "source": [
    "\n",
    "# Solutions"
   ]
  },
  {
   "cell_type": "markdown",
   "id": "2c85e9ce",
   "metadata": {},
   "source": [
    "Let's define a list with a few password that will help us to check our code."
   ]
  },
  {
   "cell_type": "code",
   "execution_count": 1,
   "id": "089e4f9b",
   "metadata": {},
   "outputs": [],
   "source": [
    "mypasswords = [\"1254\", \"54643486\",  \"sadwaw\", \"sadwawdWAAWDSADWDW\", \"aGDsTa156sdfrsQWd\"]"
   ]
  },
  {
   "cell_type": "markdown",
   "id": "0533f652",
   "metadata": {},
   "source": [
    "## Solution 1"
   ]
  },
  {
   "cell_type": "markdown",
   "id": "2a35bde3",
   "metadata": {},
   "source": [
    "One way to approach this problem is to compartmentalize the criteria required for our password. Let's define a function that checks if the length of a password is more than eight characters long."
   ]
  },
  {
   "cell_type": "code",
   "execution_count": 2,
   "id": "d7e8e09c",
   "metadata": {},
   "outputs": [],
   "source": [
    "def password_strength(password):\n",
    "    if len(password)>=8:\n",
    "        return \"Strong\"\n",
    "    else:\n",
    "        return \"Weak\""
   ]
  },
  {
   "cell_type": "markdown",
   "id": "e3e7d1cb",
   "metadata": {},
   "source": [
    "Let's test it."
   ]
  },
  {
   "cell_type": "code",
   "execution_count": 3,
   "id": "87b174be",
   "metadata": {},
   "outputs": [
    {
     "name": "stdout",
     "output_type": "stream",
     "text": [
      "Weak\n",
      "Strong\n",
      "Weak\n",
      "Strong\n",
      "Strong\n"
     ]
    }
   ],
   "source": [
    "for password in mypasswords:\n",
    "    print(password_strength(password))"
   ]
  },
  {
   "cell_type": "code",
   "execution_count": 5,
   "id": "ba26878a",
   "metadata": {},
   "outputs": [],
   "source": [
    "def password_strength(password):\n",
    "    if len(password)>=8:\n",
    "        return \"Strong\"\n",
    "    else:\n",
    "        return \"Weak\""
   ]
  },
  {
   "cell_type": "markdown",
   "id": "00208818",
   "metadata": {},
   "source": [
    "### `.islower()`"
   ]
  },
  {
   "cell_type": "markdown",
   "id": "efbd1330",
   "metadata": {},
   "source": [
    "Let's see how the method `.islower()` is used."
   ]
  },
  {
   "cell_type": "code",
   "execution_count": 6,
   "id": "75f75a41",
   "metadata": {},
   "outputs": [
    {
     "name": "stdout",
     "output_type": "stream",
     "text": [
      "True\n",
      "True\n",
      "False\n",
      "True\n",
      "True\n",
      "False\n",
      "True\n",
      "True\n",
      "True\n",
      "True\n",
      "True\n"
     ]
    }
   ],
   "source": [
    "randompassword = \"sdWeaAwdasd\"\n",
    "for i in randompassword:\n",
    "    print(i.islower())"
   ]
  },
  {
   "cell_type": "markdown",
   "id": "6b9fa604",
   "metadata": {},
   "source": [
    "The loop returns `True` or `False` for every character. Thus, it checks all the characters individually if they are lowercase and not if a word has lowercase characters. \n",
    "\n",
    "A workaround solution for this limitation is to set a variable, e.g., `x = 0`, and if any characters are lowercase, we can add 1 to the variable x. Thus, if the variable is more than 0, our word has lowercase characters."
   ]
  },
  {
   "cell_type": "code",
   "execution_count": 7,
   "id": "eb68ffd2",
   "metadata": {},
   "outputs": [
    {
     "name": "stdout",
     "output_type": "stream",
     "text": [
      "There is a lowercase letter\n"
     ]
    }
   ],
   "source": [
    "randompassword = \"sdWeaAwdasd\"\n",
    "x = 0\n",
    "for i in randompassword:\n",
    "    if i.islower():\n",
    "        x += 1\n",
    "if x>0:\n",
    "    print(\"There is a lowercase letter\")\n",
    "else:\n",
    "    print(\"There no lowecase letters\")"
   ]
  },
  {
   "cell_type": "markdown",
   "id": "a75e5590",
   "metadata": {},
   "source": [
    "Now we can put the above code in a function and test it."
   ]
  },
  {
   "cell_type": "code",
   "execution_count": 8,
   "id": "e9bcb67a",
   "metadata": {},
   "outputs": [],
   "source": [
    "def password_strength(password):\n",
    "    x = 0\n",
    "    for i in password:\n",
    "        if i.islower():\n",
    "            x += 1\n",
    "    if x>0:\n",
    "        return \"Strong\"\n",
    "    else:\n",
    "        return \"Weak\""
   ]
  },
  {
   "cell_type": "code",
   "execution_count": 9,
   "id": "3221c128",
   "metadata": {},
   "outputs": [
    {
     "name": "stdout",
     "output_type": "stream",
     "text": [
      "Weak\n",
      "Weak\n",
      "Strong\n",
      "Strong\n",
      "Strong\n"
     ]
    }
   ],
   "source": [
    "for password in mypasswords:\n",
    "    print(password_strength(password))"
   ]
  },
  {
   "cell_type": "markdown",
   "id": "3d8d2595",
   "metadata": {},
   "source": [
    "### `isupper`"
   ]
  },
  {
   "cell_type": "markdown",
   "id": "1845a59d",
   "metadata": {},
   "source": [
    "In a similar way, we can create functions that test for uppercase letters or digits."
   ]
  },
  {
   "cell_type": "code",
   "execution_count": 10,
   "id": "d893535b",
   "metadata": {},
   "outputs": [],
   "source": [
    "def password_strength(password):\n",
    "    x = 0\n",
    "    for i in password:\n",
    "        if i.isupper():\n",
    "            x += 1\n",
    "    if x>0:\n",
    "        return \"Strong\"\n",
    "    else:\n",
    "        return \"Weak\""
   ]
  },
  {
   "cell_type": "code",
   "execution_count": 11,
   "id": "470305f3",
   "metadata": {},
   "outputs": [
    {
     "name": "stdout",
     "output_type": "stream",
     "text": [
      "Weak\n",
      "Weak\n",
      "Weak\n",
      "Strong\n",
      "Strong\n"
     ]
    }
   ],
   "source": [
    "for password in mypasswords:\n",
    "    print(password_strength(password))"
   ]
  },
  {
   "cell_type": "markdown",
   "id": "87358eb8",
   "metadata": {},
   "source": [
    "### `isdigit`"
   ]
  },
  {
   "cell_type": "code",
   "execution_count": 12,
   "id": "2a5629a1",
   "metadata": {},
   "outputs": [],
   "source": [
    "def password_strength(password):\n",
    "    x = 0\n",
    "    for i in password:\n",
    "        if i.isdigit():\n",
    "            x += 1\n",
    "    if x>0:\n",
    "        return \"Strong\"\n",
    "    else:\n",
    "        return \"Weak\""
   ]
  },
  {
   "cell_type": "code",
   "execution_count": 13,
   "id": "7bdf763c",
   "metadata": {},
   "outputs": [
    {
     "name": "stdout",
     "output_type": "stream",
     "text": [
      "Strong\n",
      "Strong\n",
      "Weak\n",
      "Weak\n",
      "Strong\n"
     ]
    }
   ],
   "source": [
    "for password in mypasswords:\n",
    "    print(password_strength(password))"
   ]
  },
  {
   "cell_type": "markdown",
   "id": "0b5dbbb4",
   "metadata": {},
   "source": [
    "In the function below, I have included all the above criteria, but instead for variable `x`, I have `test1`, `test2`, `test3`, and `test4` that check for length, uppercase, lowercase, and digits, respectively."
   ]
  },
  {
   "cell_type": "code",
   "execution_count": 14,
   "id": "e42b969d",
   "metadata": {},
   "outputs": [
    {
     "name": "stdout",
     "output_type": "stream",
     "text": [
      "Weak\n",
      "Weak\n",
      "Weak\n",
      "Weak\n",
      "Strong\n"
     ]
    }
   ],
   "source": [
    "def password_strength(password):\n",
    "    test1 = 0\n",
    "    test2 = 0\n",
    "    test3 = 0\n",
    "    test4 = 0\n",
    "    \n",
    "    if len(password)>=8:\n",
    "        test1 +=1 \n",
    "        \n",
    "    mypassword_as_list = list(password)\n",
    "    for i in mypassword_as_list:\n",
    "        if i.isupper():\n",
    "            test2 +=1 \n",
    "            \n",
    "    for i in mypassword_as_list:            \n",
    "        if i.islower():\n",
    "            test3 +=1 \n",
    "            \n",
    "    for i in mypassword_as_list:            \n",
    "        if i.isdigit():\n",
    "            test4 +=1 \n",
    "\n",
    "        \n",
    "    if test1>0:\n",
    "        if test2>0:\n",
    "            if test3>0:\n",
    "                if test4>0:\n",
    "                    return \"Strong\"\n",
    "                else:\n",
    "                    return \"Weak\"\n",
    "            else:\n",
    "                return \"Weak\"\n",
    "        else:\n",
    "            return \"Weak\"               \n",
    "    else:\n",
    "        return \"Weak\"\n",
    "    \n",
    "for password in mypasswords:\n",
    "    print(password_strength(password))"
   ]
  },
  {
   "cell_type": "markdown",
   "id": "85fce62f",
   "metadata": {},
   "source": [
    "---"
   ]
  },
  {
   "cell_type": "markdown",
   "id": "0f29bead",
   "metadata": {},
   "source": [
    "## Solution 2"
   ]
  },
  {
   "cell_type": "markdown",
   "id": "39b037c6",
   "metadata": {},
   "source": [
    "Solution 1 seems (and is) quite a long code. We can combine the above if statements if we use the logical operator `and`. Let's see with an example how this works. Let's say that we want to buy a T-Shirt that costs less than \\\\$40 but more that \\\\$5."
   ]
  },
  {
   "cell_type": "code",
   "execution_count": 15,
   "id": "0d178b40",
   "metadata": {},
   "outputs": [
    {
     "name": "stdout",
     "output_type": "stream",
     "text": [
      "Buy that T-shirt\n"
     ]
    }
   ],
   "source": [
    "price = 35\n",
    "\n",
    "if price < 40: \n",
    "    if price > 5:\n",
    "        print(\"Buy that T-shirt\")\n",
    "    else:\n",
    "        print(\"Do not buy that T-shirt\")   \n",
    "else:\n",
    "    print(\"Do not buy that T-shirt\")"
   ]
  },
  {
   "cell_type": "markdown",
   "id": "bcba96eb",
   "metadata": {},
   "source": [
    "With the `and` logical operator, we can combine conditional statements."
   ]
  },
  {
   "cell_type": "code",
   "execution_count": 16,
   "id": "9cd6cf83",
   "metadata": {},
   "outputs": [
    {
     "name": "stdout",
     "output_type": "stream",
     "text": [
      "Buy that T-shirt\n"
     ]
    }
   ],
   "source": [
    "price = 35\n",
    "\n",
    "if price < 40 and price > 5:\n",
    "    print(\"Buy that T-shirt\")\n",
    "else:\n",
    "    print(\"Do not buy that T-shirt\")"
   ]
  },
  {
   "cell_type": "markdown",
   "id": "e21c936a",
   "metadata": {},
   "source": [
    "Taking into account how `and` logical operator works, we can rewrite the Solution 1 as below. Also since the `for i in mypassword_as_list:` was repeated three times, I kept only the first."
   ]
  },
  {
   "cell_type": "code",
   "execution_count": 17,
   "id": "2e0e7eb9",
   "metadata": {},
   "outputs": [
    {
     "name": "stdout",
     "output_type": "stream",
     "text": [
      "Weak\n",
      "Weak\n",
      "Weak\n",
      "Weak\n",
      "Strong\n"
     ]
    }
   ],
   "source": [
    "def password_strength(password):\n",
    "    passed_test1 = 0\n",
    "    passed_test2 = 0\n",
    "    passed_test3 = 0\n",
    "    passed_test4 = 0\n",
    "    \n",
    "    if len(password)>=8:\n",
    "        passed_test1 +=1 \n",
    "        \n",
    "    mypassword_as_list = list(password)\n",
    "    for i in mypassword_as_list:\n",
    "        if i.isupper():\n",
    "            passed_test2 +=1 \n",
    "            \n",
    "        if i.islower():\n",
    "            passed_test3 +=1 \n",
    "            \n",
    "        if i.isdigit():\n",
    "            passed_test4 +=1 \n",
    "\n",
    "        \n",
    "    if passed_test1>0 and passed_test2>0 and passed_test3>0 and passed_test4>0:\n",
    "        return \"Strong\"      \n",
    "    else:\n",
    "        return \"Weak\"\n",
    "    \n",
    "for password in mypasswords:\n",
    "    print(password_strength(password))"
   ]
  },
  {
   "cell_type": "markdown",
   "id": "56794955",
   "metadata": {},
   "source": [
    "---"
   ]
  },
  {
   "cell_type": "markdown",
   "id": "1ee77df5",
   "metadata": {},
   "source": [
    "## Solition 3"
   ]
  },
  {
   "cell_type": "markdown",
   "id": "65b89067",
   "metadata": {},
   "source": [
    "Before we move to the third solution, we need two tool, the [list comprehension](https://www.w3schools.com/python/python_lists_comprehension.asp) and the function [any()](https://www.w3schools.com/python/ref_func_any.asp)."
   ]
  },
  {
   "cell_type": "markdown",
   "id": "8e40cf71",
   "metadata": {},
   "source": [
    "### List Comprehension\n",
    "Up to this point when we wanted to create a new list based on an old one, we were following the following syntax"
   ]
  },
  {
   "cell_type": "code",
   "execution_count": 18,
   "id": "dc3e193b",
   "metadata": {},
   "outputs": [
    {
     "name": "stdout",
     "output_type": "stream",
     "text": [
      "['P', 'a', 's', 's', 'w', 'o', 'r', 'd']\n"
     ]
    }
   ],
   "source": [
    "## example 1\n",
    "\n",
    "mypassword = \"Password\"\n",
    "\n",
    "newlist = []\n",
    "\n",
    "for i in mypassword:\n",
    "    newlist.append(i)\n",
    "    \n",
    "print(newlist)"
   ]
  },
  {
   "cell_type": "code",
   "execution_count": 19,
   "id": "44120360",
   "metadata": {},
   "outputs": [
    {
     "name": "stdout",
     "output_type": "stream",
     "text": [
      "[8, 9, 10, 11, 12]\n"
     ]
    }
   ],
   "source": [
    "## example 2\n",
    "\n",
    "numbers = [1, 2, 3, 4, 5]\n",
    "newnumbers = []\n",
    "\n",
    "for i in numbers:\n",
    "    newnumbers.append(i+7)\n",
    "    \n",
    "print(newnumbers)"
   ]
  },
  {
   "cell_type": "code",
   "execution_count": 20,
   "id": "47abebcf",
   "metadata": {},
   "outputs": [
    {
     "name": "stdout",
     "output_type": "stream",
     "text": [
      "[10, 11, 12]\n"
     ]
    }
   ],
   "source": [
    "## example 4\n",
    "\n",
    "numbers = [1, 2, 3, 4, 5]\n",
    "newnumbers = []\n",
    "\n",
    "for i in numbers:\n",
    "    if i>2:\n",
    "        newnumbers.append(i+7)\n",
    "    \n",
    "print(newnumbers)"
   ]
  },
  {
   "cell_type": "markdown",
   "id": "61639e42",
   "metadata": {},
   "source": [
    "- In the first example, we add every single character of the string to the new list. \n",
    "- In the second example, for every item in the list we add it to the new list after we add 7. \n",
    "- In the third example, for every item in the list, if the item is greater than 2, we add it to the new list after we add 7.\n",
    "\n",
    "We can compress the above code in one line.\n",
    "\n",
    "newlist = \\[`item` for `item` in `iterable list` if `condition`\\]"
   ]
  },
  {
   "cell_type": "code",
   "execution_count": 21,
   "id": "fbba5651",
   "metadata": {},
   "outputs": [
    {
     "name": "stdout",
     "output_type": "stream",
     "text": [
      "['P', 'a', 's', 's', 'w', 'o', 'r', 'd']\n"
     ]
    }
   ],
   "source": [
    "## example 1\n",
    "\n",
    "mypassword = \"Password\"\n",
    "\n",
    "newlist = [i for i in mypassword]\n",
    "\n",
    "print(newlist)"
   ]
  },
  {
   "cell_type": "code",
   "execution_count": 22,
   "id": "7a640249",
   "metadata": {},
   "outputs": [
    {
     "name": "stdout",
     "output_type": "stream",
     "text": [
      "[8, 9, 10, 11, 12]\n"
     ]
    }
   ],
   "source": [
    "## example 2\n",
    "\n",
    "numbers = [1, 2, 3, 4, 5]\n",
    "newnumbers = [i+7 for i in numbers]\n",
    "    \n",
    "print(newnumbers)"
   ]
  },
  {
   "cell_type": "code",
   "execution_count": 23,
   "id": "72582726",
   "metadata": {},
   "outputs": [
    {
     "name": "stdout",
     "output_type": "stream",
     "text": [
      "[10, 11, 12]\n"
     ]
    }
   ],
   "source": [
    "## example 3\n",
    "\n",
    "numbers = [1, 2, 3, 4, 5]\n",
    "newnumbers = [i+7 for i in numbers if i>2]\n",
    "    \n",
    "print(newnumbers)"
   ]
  },
  {
   "cell_type": "markdown",
   "id": "b3c96a64",
   "metadata": {},
   "source": [
    "### any()\n",
    "This function checks a iterable (e.g., list) and returns True if \n",
    "- at least one item of the iterable is True (i.e., it's not False or 0)\n",
    "- if the iterable is not empty\n",
    "\n",
    "If you ever need to check if all items are True, you should use the `all()` function."
   ]
  },
  {
   "cell_type": "code",
   "execution_count": 24,
   "id": "1055e63e",
   "metadata": {},
   "outputs": [
    {
     "name": "stdout",
     "output_type": "stream",
     "text": [
      "True\n",
      "True\n",
      "False\n",
      "True\n",
      "False\n"
     ]
    }
   ],
   "source": [
    "# True since there is a True in the list\n",
    "a = [False, True, False]\n",
    "print(any(a))\n",
    "\n",
    "# True since 1 and 2 are True\n",
    "b = [0, 1, 2]\n",
    "print(any(b))\n",
    "\n",
    "# False since both 0 and False are False\n",
    "c = [0, False]\n",
    "print(any(c))\n",
    "\n",
    "# True since True is True\n",
    "d = [0, True]\n",
    "print(any(d))\n",
    "\n",
    "# False since it is an empty list\n",
    "e = []\n",
    "print(any(e))"
   ]
  },
  {
   "cell_type": "markdown",
   "id": "6d06c980",
   "metadata": {},
   "source": [
    "### Applying list comprehension and the function any()\n",
    "Take [the function above]() for that checks for lowercase..."
   ]
  },
  {
   "cell_type": "code",
   "execution_count": 25,
   "id": "d1895ac0",
   "metadata": {},
   "outputs": [
    {
     "name": "stdout",
     "output_type": "stream",
     "text": [
      "Weak\n",
      "Weak\n",
      "Strong\n",
      "Strong\n",
      "Strong\n"
     ]
    }
   ],
   "source": [
    "def password_strength(password):\n",
    "    x = 0\n",
    "    for i in password:\n",
    "        if i.islower():\n",
    "            x += 1\n",
    "    if x>0:\n",
    "        return \"Strong\"\n",
    "    else:\n",
    "        return \"Weak\"\n",
    "    \n",
    "for password in mypasswords:\n",
    "    print(password_strength(password))"
   ]
  },
  {
   "cell_type": "markdown",
   "id": "6a8b3feb",
   "metadata": {},
   "source": [
    "...and apply the function `any()` and list comprehension."
   ]
  },
  {
   "cell_type": "code",
   "execution_count": 26,
   "id": "4b3bd6e3",
   "metadata": {},
   "outputs": [
    {
     "name": "stdout",
     "output_type": "stream",
     "text": [
      "Weak\n",
      "Weak\n",
      "Strong\n",
      "Strong\n",
      "Strong\n"
     ]
    }
   ],
   "source": [
    "def password_strength(password):\n",
    "    if any(i.islower() for i in password):\n",
    "        return \"Strong\"\n",
    "    else:\n",
    "        return \"Weak\"\n",
    "    \n",
    "for password in mypasswords:\n",
    "    print(password_strength(password))"
   ]
  },
  {
   "cell_type": "markdown",
   "id": "40350562",
   "metadata": {},
   "source": [
    "We apply the function `any()` and list comprehension for all four criteria."
   ]
  },
  {
   "cell_type": "code",
   "execution_count": 27,
   "id": "43183a2d",
   "metadata": {},
   "outputs": [
    {
     "name": "stdout",
     "output_type": "stream",
     "text": [
      "Weak\n",
      "Weak\n",
      "Weak\n",
      "Weak\n",
      "Strong\n"
     ]
    }
   ],
   "source": [
    "# I put all the conditional statements in parentheses to write my code in multiple lines.\n",
    "\n",
    "def password_strength(password):\n",
    "    if (len(password)>=8 and \n",
    "    any(i.isupper() for i in password) and \n",
    "    any(i.islower() for i in password) and \n",
    "    any(i.isdigit() for i in password)):        \n",
    "        return \"Strong\"\n",
    "    else:\n",
    "        return \"Weak\"\n",
    "    \n",
    "for password in mypasswords:\n",
    "    print(password_strength(password))"
   ]
  },
  {
   "cell_type": "markdown",
   "id": "5fa2fc6d",
   "metadata": {},
   "source": [
    "---"
   ]
  }
 ],
 "metadata": {
  "kernelspec": {
   "display_name": "Python 3 (ipykernel)",
   "language": "python",
   "name": "python3"
  },
  "language_info": {
   "codemirror_mode": {
    "name": "ipython",
    "version": 3
   },
   "file_extension": ".py",
   "mimetype": "text/x-python",
   "name": "python",
   "nbconvert_exporter": "python",
   "pygments_lexer": "ipython3",
   "version": "3.11.4"
  },
  "vscode": {
   "interpreter": {
    "hash": "60486a05ab6ace32977486fcfbebc3ad7adfe2c9848311c9760f2effeddac2bf"
   }
  }
 },
 "nbformat": 4,
 "nbformat_minor": 5
}
