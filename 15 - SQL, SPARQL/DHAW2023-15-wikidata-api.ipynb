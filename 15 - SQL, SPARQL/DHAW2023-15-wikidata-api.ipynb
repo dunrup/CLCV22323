{
 "cells": [
  {
   "cell_type": "markdown",
   "id": "db28a5db",
   "metadata": {},
   "source": [
    "#### Use Wikidata API to search for entities (items or properties)"
   ]
  },
  {
   "cell_type": "code",
   "execution_count": 15,
   "id": "39459f0f",
   "metadata": {},
   "outputs": [
    {
     "name": "stdout",
     "output_type": "stream",
     "text": [
      "Enter the string to search for: date of death\n",
      "\n",
      "Items:\n",
      "Entity ID: Q18748141 - Label: date of death - Description: date when a person died - http://www.wikidata.org/entity/Q18748141\n",
      "Entity ID: Q56273941 - Label: Date of Death - Description: 13th episode of the second season of Fear the Walking Dead - http://www.wikidata.org/entity/Q56273941\n",
      "Entity ID: Q29940705 - Label: 100 years or more after author(s) death - Description: copyright protection duration of 100 years from the death of the author(s) - http://www.wikidata.org/entity/Q29940705\n",
      "Entity ID: Q29870196 - Label: 70 years or more after author(s) death - Description: copyright determination method of 70 years from the death of the author(s) - http://www.wikidata.org/entity/Q29870196\n",
      "Entity ID: Q29870405 - Label: 50 years or more after author(s) death - Description: copyright protection duration of 50 years from the death of the author(s) - http://www.wikidata.org/entity/Q29870405\n",
      "Entity ID: Q108697943 - Label: date of death of author(s) - Description: date of death of the last (or only) author of a work to die - http://www.wikidata.org/entity/Q108697943\n",
      "Entity ID: Q84243408 - Label: 74 years after author's death - Description: copyright protection duration of 74 years from the death of the author(s) for those who fought or worked for Soviet Union victory during the Great Patriotic War or unlawfully prosecuted and posthumously rehabilitated - http://www.wikidata.org/entity/Q84243408\n",
      "\n",
      "Properties:\n",
      "Entity ID: P570 - Label: date of death - Description: date on which the subject died - http://www.wikidata.org/entity/P570\n"
     ]
    }
   ],
   "source": [
    "# this code gives you the wikidata query ctrl+space function\n",
    "\n",
    "import requests\n",
    "\n",
    "def search_entities(search_string, entity_type, language='en'):\n",
    "    endpoint_url = \"https://www.wikidata.org/w/api.php\"\n",
    "\n",
    "    # Define the parameters for the API call\n",
    "    params = {\n",
    "        'action': 'wbsearchentities',\n",
    "        'format': 'json',\n",
    "        'search': search_string,\n",
    "        'type': entity_type,\n",
    "        'language': language   \n",
    "    }\n",
    "\n",
    "    # Make the API call\n",
    "    response = requests.get(endpoint_url, params=params)\n",
    "    data = response.json()\n",
    "\n",
    "    # Extract and return entity IDs and labels\n",
    "    entities = data.get('search', [])\n",
    "    return entities\n",
    "\n",
    "def display_entities(entities, entity_type):\n",
    "    print(f\"\\n{entity_type.capitalize()}:\")\n",
    "    for entity in entities:\n",
    "        print(f\"Entity ID: {entity['id']} - Label: {entity['label']} - Description: {entity['display']['description']['value']} - {entity['concepturi']}\")\n",
    "\n",
    "if __name__ == \"__main__\":\n",
    "    search_string = input(\"Enter the string to search for: \")\n",
    "    \n",
    "    # Search for items\n",
    "    items = search_entities(search_string, 'item')\n",
    "    display_entities(items, 'items')\n",
    "\n",
    "    # Search for properties\n",
    "    properties = search_entities(search_string, 'property')\n",
    "    display_entities(properties, 'properties')"
   ]
  },
  {
   "cell_type": "markdown",
   "id": "8c65961f",
   "metadata": {},
   "source": [
    "---"
   ]
  }
 ],
 "metadata": {
  "kernelspec": {
   "display_name": "Python 3 (ipykernel)",
   "language": "python",
   "name": "python3"
  },
  "language_info": {
   "codemirror_mode": {
    "name": "ipython",
    "version": 3
   },
   "file_extension": ".py",
   "mimetype": "text/x-python",
   "name": "python",
   "nbconvert_exporter": "python",
   "pygments_lexer": "ipython3",
   "version": "3.11.4"
  }
 },
 "nbformat": 4,
 "nbformat_minor": 5
}
