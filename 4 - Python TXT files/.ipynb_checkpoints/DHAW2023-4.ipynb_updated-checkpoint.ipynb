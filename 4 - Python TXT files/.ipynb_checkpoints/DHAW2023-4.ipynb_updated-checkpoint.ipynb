{
 "cells": [
  {
   "cell_type": "markdown",
   "id": "5fee1e86",
   "metadata": {},
   "source": [
    "## Read and Write to files"
   ]
  },
  {
   "cell_type": "markdown",
   "id": "a9db91d8",
   "metadata": {},
   "source": [
    "When we use the `open()` function in Python, we pass two argument: __1)__ the file and __2)__ the mode, e.g., `open(\"mydiary.text, \"r\")`. Some times, you may need to declare also __3)__ the encoding.\n",
    "\n",
    "__1.__ The file should always contain the extension of the file (e.g., \".txt\" or \".html\"). If the file we want to open is not in the same directory as the Jupyter Notebook, we must write the directory of the file. E.g.:\n",
    "\n",
    "For Mac users: \n",
    "\n",
    "- `open(\"/Users/Georgios/Desktop/Downloads/GitHub/4/mydiary.text\", \"r\")`\n",
    "\n",
    "For Windows users: \n",
    "\n",
    "- `open(\"C:/Users/Georgios/Downloads/GitHub/4/mydiary.text\", \"r\")`\n",
    "    \n",
    "    or:\n",
    "    \n",
    "- `open(r\"C:\\Users\\Georgios\\Downloads\\GitHub\\4\\mydiary.text\", \"r\")`\n",
    "      \n",
    "__2.__ There are several modes. The most useful:\n",
    "- `\"r\"`: This is the default mode. It opens a file only for reading.\n",
    "- `\"a\"`: It opens a file for appending.\n",
    "- `\"w\"`: It opens a file for writing.\n",
    "\n",
    "__3__ To specify the encoding, you can pass the following parameters:\n",
    "- encoding=\"utf-8\"\n",
    "- encoding=\"ascii\""
   ]
  },
  {
   "cell_type": "markdown",
   "id": "c4eb7e42",
   "metadata": {},
   "source": [
    "### Read"
   ]
  },
  {
   "cell_type": "markdown",
   "id": "ae9b4d05",
   "metadata": {},
   "source": [
    "#### Reading a file (slow way)"
   ]
  },
  {
   "cell_type": "code",
   "execution_count": 3,
   "id": "54692e75",
   "metadata": {},
   "outputs": [],
   "source": [
    "f = open(\"myfile.txt\",\"r\")\n",
    "text = f.readlines()\n",
    "f.close()"
   ]
  },
  {
   "cell_type": "code",
   "execution_count": 4,
   "id": "0e6bf627",
   "metadata": {},
   "outputs": [
    {
     "name": "stdout",
     "output_type": "stream",
     "text": [
      "['When Mr Bilbo Baggins of Bag End announced that he would shortly be celebrating his eleventyifirst birthday with a party of special magnificence, there was much talk and excitement in Hobbiton.\\n']\n"
     ]
    }
   ],
   "source": [
    "print(text)"
   ]
  },
  {
   "cell_type": "markdown",
   "id": "69860168",
   "metadata": {},
   "source": [
    "#### Reading a file (fast way)"
   ]
  },
  {
   "cell_type": "code",
   "execution_count": 5,
   "id": "b39544d9",
   "metadata": {},
   "outputs": [],
   "source": [
    "with open(\"myfile.txt\", \"r\", encoding=\"utf-8\") as f:\n",
    "    text = f.readlines()"
   ]
  },
  {
   "cell_type": "code",
   "execution_count": 6,
   "id": "2db15bfa",
   "metadata": {},
   "outputs": [
    {
     "name": "stdout",
     "output_type": "stream",
     "text": [
      "['When Mr Bilbo Baggins of Bag End announced that he would shortly be celebrating his eleventyifirst birthday with a party of special magnificence, there was much talk and excitement in Hobbiton.\\n']\n"
     ]
    }
   ],
   "source": [
    "print(text)"
   ]
  },
  {
   "cell_type": "markdown",
   "id": "a73cd60e",
   "metadata": {},
   "source": [
    "#### Reading a file with encoding"
   ]
  },
  {
   "cell_type": "code",
   "execution_count": 7,
   "id": "b96b3bdb",
   "metadata": {},
   "outputs": [
    {
     "ename": "UnicodeDecodeError",
     "evalue": "'charmap' codec can't decode byte 0x81 in position 7: character maps to <undefined>",
     "output_type": "error",
     "traceback": [
      "\u001b[1;31m---------------------------------------------------------------------------\u001b[0m",
      "\u001b[1;31mUnicodeDecodeError\u001b[0m                        Traceback (most recent call last)",
      "Cell \u001b[1;32mIn[7], line 2\u001b[0m\n\u001b[0;32m      1\u001b[0m \u001b[38;5;28;01mwith\u001b[39;00m \u001b[38;5;28mopen\u001b[39m(\u001b[38;5;124m\"\u001b[39m\u001b[38;5;124mmyGreekfile.txt\u001b[39m\u001b[38;5;124m\"\u001b[39m, \u001b[38;5;124m\"\u001b[39m\u001b[38;5;124mr\u001b[39m\u001b[38;5;124m\"\u001b[39m) \u001b[38;5;28;01mas\u001b[39;00m f:\n\u001b[1;32m----> 2\u001b[0m     text \u001b[38;5;241m=\u001b[39m f\u001b[38;5;241m.\u001b[39mreadlines()\n",
      "File \u001b[1;32m~\\anaconda3\\Lib\\encodings\\cp1252.py:23\u001b[0m, in \u001b[0;36mIncrementalDecoder.decode\u001b[1;34m(self, input, final)\u001b[0m\n\u001b[0;32m     22\u001b[0m \u001b[38;5;28;01mdef\u001b[39;00m \u001b[38;5;21mdecode\u001b[39m(\u001b[38;5;28mself\u001b[39m, \u001b[38;5;28minput\u001b[39m, final\u001b[38;5;241m=\u001b[39m\u001b[38;5;28;01mFalse\u001b[39;00m):\n\u001b[1;32m---> 23\u001b[0m     \u001b[38;5;28;01mreturn\u001b[39;00m codecs\u001b[38;5;241m.\u001b[39mcharmap_decode(\u001b[38;5;28minput\u001b[39m,\u001b[38;5;28mself\u001b[39m\u001b[38;5;241m.\u001b[39merrors,decoding_table)[\u001b[38;5;241m0\u001b[39m]\n",
      "\u001b[1;31mUnicodeDecodeError\u001b[0m: 'charmap' codec can't decode byte 0x81 in position 7: character maps to <undefined>"
     ]
    }
   ],
   "source": [
    "with open(\"myGreekfile.txt\", \"r\") as f:\n",
    "    text = f.readlines()"
   ]
  },
  {
   "cell_type": "markdown",
   "id": "34768c02",
   "metadata": {},
   "source": [
    "You have probably received an error messge. Try the opening the file with encoding."
   ]
  },
  {
   "cell_type": "code",
   "execution_count": 8,
   "id": "c4d4cbc5",
   "metadata": {},
   "outputs": [],
   "source": [
    "with open(\"myGreekfile.txt\", \"r\", encoding=\"utf-8\") as f:\n",
    "    text = f.readlines()"
   ]
  },
  {
   "cell_type": "code",
   "execution_count": 9,
   "id": "f2a1d993",
   "metadata": {},
   "outputs": [
    {
     "name": "stdout",
     "output_type": "stream",
     "text": [
      "['Γεώργιος Τσολάκης']\n"
     ]
    }
   ],
   "source": [
    "print(text)"
   ]
  },
  {
   "cell_type": "markdown",
   "id": "1ec4264a",
   "metadata": {},
   "source": [
    "#### Writing a file (slow way)"
   ]
  },
  {
   "cell_type": "markdown",
   "id": "dca53fe0",
   "metadata": {},
   "source": [
    "### Write"
   ]
  },
  {
   "cell_type": "markdown",
   "id": "753d4375",
   "metadata": {},
   "source": [
    "#### Append\n",
    "The following code will either create a new file and will write a text or will _append_ the text to an existing file. Run the cell once and open the file in your computer (not with Python). Then close the file and run the following cell three times. Open the file again. What do you notice?"
   ]
  },
  {
   "cell_type": "code",
   "execution_count": 12,
   "id": "ac498cfe",
   "metadata": {},
   "outputs": [],
   "source": [
    "f = open(\"newfile.txt\", \"a\")\n",
    "f.write(\"I love Digital Humanities!\")\n",
    "f.close()"
   ]
  },
  {
   "cell_type": "markdown",
   "id": "352a7d3c",
   "metadata": {},
   "source": [
    "#### Writing a file\n",
    "The following code will either create a new file and will write a text or will _overwrite_ the text to an existing file."
   ]
  },
  {
   "cell_type": "code",
   "execution_count": 14,
   "id": "13707ca2",
   "metadata": {},
   "outputs": [],
   "source": [
    "f = open(\"newfile.txt\", \"w\")\n",
    "f.write(\"I love Digital Humanities! (take two)\")\n",
    "f.close()"
   ]
  },
  {
   "cell_type": "markdown",
   "id": "e4fe2631",
   "metadata": {},
   "source": [
    "Regardless of how many times you run the code, the result will remain the same."
   ]
  },
  {
   "cell_type": "markdown",
   "id": "b0ffdc0e",
   "metadata": {},
   "source": [
    "#### Writing a file (fast way)"
   ]
  },
  {
   "cell_type": "code",
   "execution_count": null,
   "id": "eb9d4e12",
   "metadata": {},
   "outputs": [],
   "source": [
    "with open(\"newfile.txt\", \"w\") as f:\n",
    "    f.write(\"I love Digital Humanities!\")"
   ]
  },
  {
   "cell_type": "markdown",
   "id": "074ab6af",
   "metadata": {},
   "source": [
    "Make the necessary changes to the following code to run without errors."
   ]
  },
  {
   "cell_type": "code",
   "execution_count": null,
   "id": "af6dc9d7",
   "metadata": {},
   "outputs": [],
   "source": [
    "with open(\"newfile.txt\", \"w\") as f:\n",
    "    f.write(\"I love Digital Humanities! Γεώργιος is teaching the course!\")"
   ]
  },
  {
   "cell_type": "markdown",
   "id": "0c8e2ac7",
   "metadata": {},
   "source": [
    "## Pandas and CSV/EXCEL"
   ]
  },
  {
   "cell_type": "markdown",
   "id": "e5fe950a",
   "metadata": {},
   "source": [
    "For some types of files, we need specific libraries. Those libraries are included by default with the Python distribution, while other need to be installed manually.\n",
    "\n",
    "For files in a tabular format, like .csv (comma seperated values) or .xslx (Excel), Pandas are a powerful tool. In order to install Pandas:\n",
    "\n",
    "For Mac users:\n",
    "- Click the Launchpad icon in the Dock, type \"Terminal\" in the search field, then click Terminal or (Click the magnifying glass icon in the menu bar or press Command + Space. Type \"Terminal\" and double-click the Terminal app).\n",
    "- Type `pip3 install pandas` and press Return.\n",
    "\n",
    "For Windows users:\n",
    "- Press the Windows button and type \"cmd\". \n",
    "- Open the `Command Prompt`\n",
    "- Type `pip install pandas` and press enter.\n"
   ]
  },
  {
   "cell_type": "markdown",
   "id": "77233ab4",
   "metadata": {},
   "source": [
    "#### Libraries - Imports"
   ]
  },
  {
   "cell_type": "markdown",
   "id": "81c738fa",
   "metadata": {},
   "source": [
    "Installing a library is not enough. We must import it."
   ]
  },
  {
   "cell_type": "code",
   "execution_count": 1,
   "id": "dd048359",
   "metadata": {},
   "outputs": [],
   "source": [
    "import pandas as pd # This is a convention in Python community."
   ]
  },
  {
   "cell_type": "markdown",
   "id": "8af336a0",
   "metadata": {},
   "source": [
    "#### Read"
   ]
  },
  {
   "cell_type": "markdown",
   "id": "4c8ddf8e",
   "metadata": {},
   "source": [
    "Download the csv of [Roman Amphitheaters](https://github.com/roman-amphitheaters/roman-amphitheaters/blob/main/roman-amphitheaters.csv) and place it in the same directory as your notebook. Run the following cells."
   ]
  },
  {
   "cell_type": "code",
   "execution_count": null,
   "id": "365363bb",
   "metadata": {},
   "outputs": [],
   "source": [
    "df = pd.read_csv('.csv') # "
   ]
  },
  {
   "cell_type": "markdown",
   "id": "73fcd28f",
   "metadata": {},
   "source": [
    "`df` stands for dataframe, i.e., rows and columns of data."
   ]
  },
  {
   "cell_type": "code",
   "execution_count": null,
   "id": "c20c15a1",
   "metadata": {},
   "outputs": [],
   "source": [
    "df"
   ]
  },
  {
   "cell_type": "code",
   "execution_count": null,
   "id": "957b78fd",
   "metadata": {},
   "outputs": [],
   "source": [
    "df.head()"
   ]
  },
  {
   "cell_type": "code",
   "execution_count": null,
   "id": "9703070c",
   "metadata": {},
   "outputs": [],
   "source": [
    "df.tail()"
   ]
  },
  {
   "cell_type": "markdown",
   "id": "682c9941",
   "metadata": {},
   "source": [
    "#### Data types in our csv"
   ]
  },
  {
   "cell_type": "code",
   "execution_count": null,
   "id": "eca38ded",
   "metadata": {},
   "outputs": [],
   "source": [
    "df.shape # notice that this is an attribute so no parentheses"
   ]
  },
  {
   "cell_type": "code",
   "execution_count": null,
   "id": "caada7ac",
   "metadata": {},
   "outputs": [],
   "source": [
    "df.info() # notice that this is a methon, so we need parentheses"
   ]
  }
 ],
 "metadata": {
  "kernelspec": {
   "display_name": "Python 3 (ipykernel)",
   "language": "python",
   "name": "python3"
  },
  "language_info": {
   "codemirror_mode": {
    "name": "ipython",
    "version": 3
   },
   "file_extension": ".py",
   "mimetype": "text/x-python",
   "name": "python",
   "nbconvert_exporter": "python",
   "pygments_lexer": "ipython3",
   "version": "3.11.4"
  }
 },
 "nbformat": 4,
 "nbformat_minor": 5
}
