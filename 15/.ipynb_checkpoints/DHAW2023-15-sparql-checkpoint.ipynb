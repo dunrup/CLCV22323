{
 "cells": [
  {
   "cell_type": "markdown",
   "id": "99903a25",
   "metadata": {},
   "source": [
    "# SPARQL\n",
    "\n",
    "The __Semantic Web__ is an extension of the World Wide Web that aims to make information on the web more meaningful and interconnected. It's based on the idea that web content should not only be readable by humans but also interpretable by machines. The goal is to enable machines to understand the context, meaning, and relationships between different pieces of information. Key components of the Semantic Web include:\n",
    "\n",
    "1. __Resource Description Framework (RDF)__ is a standard model for representing and interchanging data on the Web. RDF's basic unit of information is given as a __triple__ composed of a subject (s), a predicate (p), and an object (o). In each triple: \n",
    "    - the __subject__ represents a fact on a thing being \n",
    "    - the __predicate__ represents a specific property \n",
    "    - the __object__ a given value. (Curâe and Blin. 2014)\n",
    "\n",
    "    \n",
    "2. __Web Ontology Language (OWL)__: A language for creating ontologies, which define relationships and categories of things in a specific domain. OWL allows for the formal description of concepts and their relationships.\n",
    "\n",
    "3. __SPARQL__ is a recursive acronym for SPARQL Protocol and RDF Query Language. SPARQL is able to retrieve and manipulate data stored in Resource Description Framework (RDF) format and allows for a query to consist of triple patterns. A __SPARQL Endpoint__ is web service that allows you to query and interact with RDF (Resource Description Framework) data using SPARQL.\n",
    "\n",
    "\n",
    "__Linked Open Data (LOD)__ is essentially a specific implementation or application of Semantic Web principles."
   ]
  },
  {
   "cell_type": "markdown",
   "id": "8a6dd63d",
   "metadata": {},
   "source": [
    "## Useful Sites"
   ]
  },
  {
   "cell_type": "markdown",
   "id": "16dc3545",
   "metadata": {},
   "source": [
    "#### General\n",
    "- [Introduction to SPARQL, RDF, and LOD](https://github.com/o-date/sparql-and-lod/blob/master/sparql-intro.ipynb), a Jupyter Notebook by Shawn Graham\n",
    "- [SPARQL 1.1 Query Language](https://www.w3.org/TR/sparql11-query/)\n",
    "- [SPARQL Query Validator](https://sparql.org/query-validator.html)\n",
    "\n",
    "#### Nomisma.org\n",
    "- [Nomisma.org SPARQL Endpoint](http://nomisma.org/sparql/)\n",
    "- [SPARQL Examples from Nomisma.org](http://nomisma.org/documentation/sparql/)\n",
    "\n",
    "#### Wikidata\n",
    "- [Wikidata](https://www.wikidata.org/wiki/Wikidata:Main_Page)\n",
    "- [Wikidata's SPARQL Tutorial](https://www.wikidata.org/wiki/Wikidata:SPARQL_tutorial)\n",
    "- [Wikidata Query Service](https://query.wikidata.org/)\n",
    "- [Tutorial on how to build SPARQL queries on Wikidata](https://www.youtube.com/watch?v=YC6jyl4hAxQ)\n",
    "- [Petscan](https://petscan.wmflabs.org/)"
   ]
  },
  {
   "cell_type": "markdown",
   "id": "bf771590",
   "metadata": {},
   "source": [
    "#### Imports"
   ]
  },
  {
   "cell_type": "code",
   "execution_count": null,
   "id": "7e92a201",
   "metadata": {},
   "outputs": [],
   "source": [
    "# pip3 install SPARQLwrapper"
   ]
  },
  {
   "cell_type": "code",
   "execution_count": 1,
   "id": "a0ee8430",
   "metadata": {},
   "outputs": [],
   "source": [
    "from SPARQLWrapper import SPARQLWrapper, JSON\n",
    "import pandas as pd\n",
    "pd.set_option('display.max_rows', None)\n",
    "pd.set_option('display.max_columns', None)\n",
    "pd.set_option('display.precision', 3)"
   ]
  },
  {
   "cell_type": "markdown",
   "id": "f9b77503",
   "metadata": {},
   "source": [
    "__SPARQLWrapper__ is a simple Python wrapper around a SPARQL service to remotelly execute your queries. It helps in creating the query invokation and, possibly, convert the result into a more manageable format. [Link](https://rdflib.dev/sparqlwrapper/doc/1.8.5/main.html)"
   ]
  },
  {
   "cell_type": "markdown",
   "id": "85d7c66f",
   "metadata": {},
   "source": [
    "#### Make Clickable\n",
    "The function `make_clickable` takes a string `link` as an argument and returns a formatted string containing an HTML anchor (`<a>`) element. "
   ]
  },
  {
   "cell_type": "code",
   "execution_count": 2,
   "id": "d14829d2",
   "metadata": {},
   "outputs": [],
   "source": [
    "def make_clickable(link):\n",
    "    return f'<a href=\"{link}\" target=\"_blank\">{link}</a>'"
   ]
  },
  {
   "cell_type": "markdown",
   "id": "84a47b3e",
   "metadata": {},
   "source": [
    "---"
   ]
  },
  {
   "cell_type": "markdown",
   "id": "9e0e0ee3",
   "metadata": {},
   "source": [
    "## Nomisma.org"
   ]
  },
  {
   "cell_type": "markdown",
   "id": "2c7c192f",
   "metadata": {},
   "source": [
    "#### Prefixes"
   ]
  },
  {
   "cell_type": "markdown",
   "id": "7906080e",
   "metadata": {},
   "source": [
    "#### A simple query. Example from [Wikidata](https://www.wikidata.org/wiki/Wikidata:SPARQL_query_service/queries/examples#Cats)"
   ]
  },
  {
   "cell_type": "code",
   "execution_count": 14,
   "id": "7979ea6b",
   "metadata": {},
   "outputs": [],
   "source": [
    "ns_dict = {\"crm\": \"http://www.cidoc-crm.org/cidoc-crm/\",\n",
    "            \"dcterms\": \"http://purl.org/dc/terms/\",\n",
    "            \"dcmitype\": \"http://purl.org/dc/dcmitype/\",\n",
    "            \"foaf\": \"http://xmlns.com/foaf/0.1/\",\n",
    "            \"geo\": \"http://www.w3.org/2003/01/geo/wgs84_pos#\",\n",
    "            \"nm\": \"http://nomisma.org/id/\",\n",
    "            \"nmo\": \"http://nomisma.org/ontology#\",\n",
    "            \"org\": \"http://www.w3.org/ns/org#\",\n",
    "            \"rdf\": \"http://www.w3.org/1999/02/22-rdf-syntax-ns#\",\n",
    "            \"rdfs\": \"http://www.w3.org/2000/01/rdf-schema#\",\n",
    "            \"skos\": \"http://www.w3.org/2004/02/skos/core#\",\n",
    "            \"xsd\": \"http://www.w3.org/2001/XMLSchema#\"}"
   ]
  },
  {
   "cell_type": "code",
   "execution_count": 15,
   "id": "7e436fb5",
   "metadata": {},
   "outputs": [],
   "source": [
    "# define the API\n",
    "sparql = SPARQLWrapper(\"http://nomisma.org/query\")"
   ]
  },
  {
   "cell_type": "code",
   "execution_count": 16,
   "id": "4620a03e",
   "metadata": {},
   "outputs": [],
   "source": [
    "# Create the query: select the thing you want, under the conditions (WHERE)\n",
    "# would be a lotta data, so let's just get 10\n",
    "\n",
    "sparql.setQuery(\"\"\"\n",
    "SELECT ?identifier\n",
    "\n",
    "WHERE {\n",
    "?identifier a <http://nomisma.org/ontology#Hoard>\n",
    "\n",
    "}\n",
    "LIMIT 10\n",
    "\n",
    "\"\"\")\n",
    "sparql.setReturnFormat(JSON)\n",
    "results = sparql.query().convert()"
   ]
  },
  {
   "cell_type": "code",
   "execution_count": 17,
   "id": "7af1a292",
   "metadata": {},
   "outputs": [
    {
     "data": {
      "text/plain": [
       "{'head': {'vars': ['identifier']},\n",
       " 'results': {'bindings': [{'identifier': {'type': 'uri',\n",
       "     'value': 'http://coinhoards.org/id/igch1670'}},\n",
       "   {'identifier': {'type': 'uri',\n",
       "     'value': 'http://coinhoards.org/id/igch1664'}},\n",
       "   {'identifier': {'type': 'uri',\n",
       "     'value': 'http://coinhoards.org/id/igch1794'}},\n",
       "   {'identifier': {'type': 'uri',\n",
       "     'value': 'http://coinhoards.org/id/igch1795'}},\n",
       "   {'identifier': {'type': 'uri',\n",
       "     'value': 'http://coinhoards.org/id/igch1472'}},\n",
       "   {'identifier': {'type': 'uri',\n",
       "     'value': 'http://nomisma.org/id/lliria_hoard'}},\n",
       "   {'identifier': {'type': 'uri',\n",
       "     'value': 'http://coinhoards.org/id/igch0271'}},\n",
       "   {'identifier': {'type': 'uri',\n",
       "     'value': 'http://coinhoards.org/id/igch1667'}},\n",
       "   {'identifier': {'type': 'uri',\n",
       "     'value': 'http://coinhoards.org/id/igch0083'}},\n",
       "   {'identifier': {'type': 'uri',\n",
       "     'value': 'http://coinhoards.org/id/igch1395'}}]}}"
      ]
     },
     "execution_count": 17,
     "metadata": {},
     "output_type": "execute_result"
    }
   ],
   "source": [
    "# this is a JSON file\n",
    "results"
   ]
  },
  {
   "cell_type": "code",
   "execution_count": 18,
   "id": "c705bc5b",
   "metadata": {
    "scrolled": true
   },
   "outputs": [
    {
     "data": {
      "text/html": [
       "<div>\n",
       "<style scoped>\n",
       "    .dataframe tbody tr th:only-of-type {\n",
       "        vertical-align: middle;\n",
       "    }\n",
       "\n",
       "    .dataframe tbody tr th {\n",
       "        vertical-align: top;\n",
       "    }\n",
       "\n",
       "    .dataframe thead th {\n",
       "        text-align: right;\n",
       "    }\n",
       "</style>\n",
       "<table border=\"1\" class=\"dataframe\">\n",
       "  <thead>\n",
       "    <tr style=\"text-align: right;\">\n",
       "      <th></th>\n",
       "      <th>identifier.type</th>\n",
       "      <th>identifier.value</th>\n",
       "    </tr>\n",
       "  </thead>\n",
       "  <tbody>\n",
       "    <tr>\n",
       "      <th>0</th>\n",
       "      <td>uri</td>\n",
       "      <td>http://coinhoards.org/id/igch1670</td>\n",
       "    </tr>\n",
       "    <tr>\n",
       "      <th>1</th>\n",
       "      <td>uri</td>\n",
       "      <td>http://coinhoards.org/id/igch1664</td>\n",
       "    </tr>\n",
       "    <tr>\n",
       "      <th>2</th>\n",
       "      <td>uri</td>\n",
       "      <td>http://coinhoards.org/id/igch1794</td>\n",
       "    </tr>\n",
       "    <tr>\n",
       "      <th>3</th>\n",
       "      <td>uri</td>\n",
       "      <td>http://coinhoards.org/id/igch1795</td>\n",
       "    </tr>\n",
       "    <tr>\n",
       "      <th>4</th>\n",
       "      <td>uri</td>\n",
       "      <td>http://coinhoards.org/id/igch1472</td>\n",
       "    </tr>\n",
       "    <tr>\n",
       "      <th>5</th>\n",
       "      <td>uri</td>\n",
       "      <td>http://nomisma.org/id/lliria_hoard</td>\n",
       "    </tr>\n",
       "    <tr>\n",
       "      <th>6</th>\n",
       "      <td>uri</td>\n",
       "      <td>http://coinhoards.org/id/igch0271</td>\n",
       "    </tr>\n",
       "    <tr>\n",
       "      <th>7</th>\n",
       "      <td>uri</td>\n",
       "      <td>http://coinhoards.org/id/igch1667</td>\n",
       "    </tr>\n",
       "    <tr>\n",
       "      <th>8</th>\n",
       "      <td>uri</td>\n",
       "      <td>http://coinhoards.org/id/igch0083</td>\n",
       "    </tr>\n",
       "    <tr>\n",
       "      <th>9</th>\n",
       "      <td>uri</td>\n",
       "      <td>http://coinhoards.org/id/igch1395</td>\n",
       "    </tr>\n",
       "  </tbody>\n",
       "</table>\n",
       "</div>"
      ],
      "text/plain": [
       "  identifier.type                    identifier.value\n",
       "0             uri   http://coinhoards.org/id/igch1670\n",
       "1             uri   http://coinhoards.org/id/igch1664\n",
       "2             uri   http://coinhoards.org/id/igch1794\n",
       "3             uri   http://coinhoards.org/id/igch1795\n",
       "4             uri   http://coinhoards.org/id/igch1472\n",
       "5             uri  http://nomisma.org/id/lliria_hoard\n",
       "6             uri   http://coinhoards.org/id/igch0271\n",
       "7             uri   http://coinhoards.org/id/igch1667\n",
       "8             uri   http://coinhoards.org/id/igch0083\n",
       "9             uri   http://coinhoards.org/id/igch1395"
      ]
     },
     "execution_count": 18,
     "metadata": {},
     "output_type": "execute_result"
    }
   ],
   "source": [
    "# all that we want is results>bindings\n",
    "# we are going to normalize it using pandas\n",
    "results_df = pd.json_normalize(results['results']['bindings'])\n",
    "results_df"
   ]
  },
  {
   "cell_type": "code",
   "execution_count": 19,
   "id": "460dec72",
   "metadata": {},
   "outputs": [
    {
     "data": {
      "text/html": [
       "<div>\n",
       "<style scoped>\n",
       "    .dataframe tbody tr th:only-of-type {\n",
       "        vertical-align: middle;\n",
       "    }\n",
       "\n",
       "    .dataframe tbody tr th {\n",
       "        vertical-align: top;\n",
       "    }\n",
       "\n",
       "    .dataframe thead th {\n",
       "        text-align: right;\n",
       "    }\n",
       "</style>\n",
       "<table border=\"1\" class=\"dataframe\">\n",
       "  <thead>\n",
       "    <tr style=\"text-align: right;\">\n",
       "      <th></th>\n",
       "      <th>identifier.value</th>\n",
       "    </tr>\n",
       "  </thead>\n",
       "  <tbody>\n",
       "    <tr>\n",
       "      <th>0</th>\n",
       "      <td>http://coinhoards.org/id/igch1670</td>\n",
       "    </tr>\n",
       "    <tr>\n",
       "      <th>1</th>\n",
       "      <td>http://coinhoards.org/id/igch1664</td>\n",
       "    </tr>\n",
       "    <tr>\n",
       "      <th>2</th>\n",
       "      <td>http://coinhoards.org/id/igch1794</td>\n",
       "    </tr>\n",
       "    <tr>\n",
       "      <th>3</th>\n",
       "      <td>http://coinhoards.org/id/igch1795</td>\n",
       "    </tr>\n",
       "    <tr>\n",
       "      <th>4</th>\n",
       "      <td>http://coinhoards.org/id/igch1472</td>\n",
       "    </tr>\n",
       "    <tr>\n",
       "      <th>5</th>\n",
       "      <td>http://nomisma.org/id/lliria_hoard</td>\n",
       "    </tr>\n",
       "    <tr>\n",
       "      <th>6</th>\n",
       "      <td>http://coinhoards.org/id/igch0271</td>\n",
       "    </tr>\n",
       "    <tr>\n",
       "      <th>7</th>\n",
       "      <td>http://coinhoards.org/id/igch1667</td>\n",
       "    </tr>\n",
       "    <tr>\n",
       "      <th>8</th>\n",
       "      <td>http://coinhoards.org/id/igch0083</td>\n",
       "    </tr>\n",
       "    <tr>\n",
       "      <th>9</th>\n",
       "      <td>http://coinhoards.org/id/igch1395</td>\n",
       "    </tr>\n",
       "  </tbody>\n",
       "</table>\n",
       "</div>"
      ],
      "text/plain": [
       "                     identifier.value\n",
       "0   http://coinhoards.org/id/igch1670\n",
       "1   http://coinhoards.org/id/igch1664\n",
       "2   http://coinhoards.org/id/igch1794\n",
       "3   http://coinhoards.org/id/igch1795\n",
       "4   http://coinhoards.org/id/igch1472\n",
       "5  http://nomisma.org/id/lliria_hoard\n",
       "6   http://coinhoards.org/id/igch0271\n",
       "7   http://coinhoards.org/id/igch1667\n",
       "8   http://coinhoards.org/id/igch0083\n",
       "9   http://coinhoards.org/id/igch1395"
      ]
     },
     "execution_count": 19,
     "metadata": {},
     "output_type": "execute_result"
    }
   ],
   "source": [
    "# get just the values\n",
    "# double brackets gives dataframe\n",
    "results_df[['identifier.value']]"
   ]
  },
  {
   "cell_type": "code",
   "execution_count": 20,
   "id": "8bc75348",
   "metadata": {},
   "outputs": [
    {
     "data": {
      "text/plain": [
       "0     http://coinhoards.org/id/igch1670\n",
       "1     http://coinhoards.org/id/igch1664\n",
       "2     http://coinhoards.org/id/igch1794\n",
       "3     http://coinhoards.org/id/igch1795\n",
       "4     http://coinhoards.org/id/igch1472\n",
       "5    http://nomisma.org/id/lliria_hoard\n",
       "6     http://coinhoards.org/id/igch0271\n",
       "7     http://coinhoards.org/id/igch1667\n",
       "8     http://coinhoards.org/id/igch0083\n",
       "9     http://coinhoards.org/id/igch1395\n",
       "Name: identifier.value, dtype: object"
      ]
     },
     "execution_count": 20,
     "metadata": {},
     "output_type": "execute_result"
    }
   ],
   "source": [
    "# single brackets gives series\n",
    "results_df['identifier.value']"
   ]
  },
  {
   "cell_type": "markdown",
   "id": "18f5aef0",
   "metadata": {},
   "source": [
    "---"
   ]
  },
  {
   "cell_type": "markdown",
   "id": "d8fa95be",
   "metadata": {},
   "source": [
    "## Wikipedia\n",
    "\n",
    "\n",
    "#### [Wikidata identifiers](https://www.wikidata.org/wiki/Wikidata:Identifiers)\n",
    "Each Wikidata entity is identified by an entity ID, which is a number prefixed by a letter.\n",
    "\n",
    "- items, also known as Q-items, are prefixed with Q (e.g. Q12345),\n",
    "- properties are prefixed by P (e.g. P569) and\n",
    "- lexemes are prefixed by L (e.g. L1).\n",
    "\n",
    "Entity IDs can also be used as globally unique URIs that follow the pattern http://www.wikidata.org/entity/ID where ID is an entity ID.\n",
    "\n",
    "In SPARQL, prefixes are a way to define shorthand abbreviations for URIs in order to make queries more concise and readable. They are used to create a namespace for the URIs, allowing you to refer to them with a shorter alias."
   ]
  },
  {
   "cell_type": "raw",
   "id": "e7910085",
   "metadata": {},
   "source": [
    "PREFIX bd: <http://www.bigdata.com/rdf#>\n",
    "PREFIX cc: <http://creativecommons.org/ns#>\n",
    "PREFIX dct: <http://purl.org/dc/terms/>\n",
    "PREFIX geo: <http://www.opengis.net/ont/geosparql#>\n",
    "PREFIX ontolex: <http://www.w3.org/ns/lemon/ontolex#>\n",
    "PREFIX owl: <http://www.w3.org/2002/07/owl#>\n",
    "PREFIX p: <http://www.wikidata.org/prop/>\n",
    "PREFIX pq: <http://www.wikidata.org/prop/qualifier/>\n",
    "PREFIX pqn: <http://www.wikidata.org/prop/qualifier/value-normalized/>\n",
    "PREFIX pqv: <http://www.wikidata.org/prop/qualifier/value/>\n",
    "PREFIX pr: <http://www.wikidata.org/prop/reference/>\n",
    "PREFIX prn: <http://www.wikidata.org/prop/reference/value-normalized/>\n",
    "PREFIX prov: <http://www.w3.org/ns/prov#>\n",
    "PREFIX prv: <http://www.wikidata.org/prop/reference/value/>\n",
    "PREFIX ps: <http://www.wikidata.org/prop/statement/>\n",
    "PREFIX psn: <http://www.wikidata.org/prop/statement/value-normalized/>\n",
    "PREFIX psv: <http://www.wikidata.org/prop/statement/value/>\n",
    "PREFIX rdf: <http://www.w3.org/1999/02/22-rdf-syntax-ns#>\n",
    "PREFIX rdfs: <http://www.w3.org/2000/01/rdf-schema#>\n",
    "PREFIX schema: <http://schema.org/>\n",
    "PREFIX skos: <http://www.w3.org/2004/02/skos/core#>\n",
    "PREFIX wd: <http://www.wikidata.org/entity/>\n",
    "PREFIX wdata: <http://www.wikidata.org/wiki/Special:EntityData/>\n",
    "PREFIX wdno: <http://www.wikidata.org/prop/novalue/>\n",
    "PREFIX wdref: <http://www.wikidata.org/reference/>\n",
    "PREFIX wds: <http://www.wikidata.org/entity/statement/>\n",
    "PREFIX wdt: <http://www.wikidata.org/prop/direct/>\n",
    "PREFIX wdtn: <http://www.wikidata.org/prop/direct-normalized/>\n",
    "PREFIX wdv: <http://www.wikidata.org/value/>\n",
    "PREFIX wikibase: <http://wikiba.se/ontology#>\n",
    "PREFIX xsd: <http://www.w3.org/2001/XMLSchema#>"
   ]
  },
  {
   "cell_type": "code",
   "execution_count": 23,
   "id": "5986379c",
   "metadata": {},
   "outputs": [],
   "source": [
    "sparql = SPARQLWrapper(\"https://query.wikidata.org/sparql\")"
   ]
  },
  {
   "cell_type": "markdown",
   "id": "82f7605d",
   "metadata": {},
   "source": [
    "From \n",
    "    https://www.wikidata.org/wiki/Wikidata:SPARQL_query_service/queries/examples#Cats\n",
    "this line tells wikidata we want to use english\n",
    "    SERVICE wikibase:label { bd:serviceParam wikibase:language \"[AUTO_LANGUAGE],en\". }"
   ]
  },
  {
   "cell_type": "code",
   "execution_count": 24,
   "id": "92a3942a",
   "metadata": {},
   "outputs": [],
   "source": [
    "# let's get all of wikipedia's cats\n",
    "# ?item gives all the URIS\n",
    "# ?itemLabel gives names\n",
    "#     with a capital L in label\n",
    "# wdt:P31 means \"is\"\n",
    "# wd:Q146 means cats\n",
    "\n",
    "sparql.setQuery(\"\"\"\n",
    "SELECT ?item ?itemLabel\n",
    "\n",
    "WHERE {\n",
    "?item wdt:P31  wd:Q146 .\n",
    "\n",
    "SERVICE wikibase:label { bd:serviceParam wikibase:language \"[AUTO_LANGUAGE],en\". }\n",
    "}\n",
    "LIMIT 10\n",
    "\n",
    "\"\"\")\n",
    "sparql.setReturnFormat(JSON)\n",
    "results = sparql.query().convert()"
   ]
  },
  {
   "cell_type": "code",
   "execution_count": 25,
   "id": "32f5737b",
   "metadata": {},
   "outputs": [
    {
     "name": "stdout",
     "output_type": "stream",
     "text": [
      "<class 'dict'>\n"
     ]
    },
    {
     "data": {
      "text/plain": [
       "{'head': {'vars': ['item', 'itemLabel']},\n",
       " 'results': {'bindings': [{'item': {'type': 'uri',\n",
       "     'value': 'http://www.wikidata.org/entity/Q378619'},\n",
       "    'itemLabel': {'xml:lang': 'en', 'type': 'literal', 'value': 'CC'}},\n",
       "   {'item': {'type': 'uri', 'value': 'http://www.wikidata.org/entity/Q498787'},\n",
       "    'itemLabel': {'xml:lang': 'en', 'type': 'literal', 'value': 'Muezza'}},\n",
       "   {'item': {'type': 'uri', 'value': 'http://www.wikidata.org/entity/Q677525'},\n",
       "    'itemLabel': {'xml:lang': 'en', 'type': 'literal', 'value': 'Orangey'}},\n",
       "   {'item': {'type': 'uri', 'value': 'http://www.wikidata.org/entity/Q851190'},\n",
       "    'itemLabel': {'xml:lang': 'en',\n",
       "     'type': 'literal',\n",
       "     'value': 'Mrs. Chippy'}},\n",
       "   {'item': {'type': 'uri', 'value': 'http://www.wikidata.org/entity/Q893453'},\n",
       "    'itemLabel': {'xml:lang': 'en',\n",
       "     'type': 'literal',\n",
       "     'value': 'Unsinkable Sam'}},\n",
       "   {'item': {'type': 'uri',\n",
       "     'value': 'http://www.wikidata.org/entity/Q1050083'},\n",
       "    'itemLabel': {'xml:lang': 'en', 'type': 'literal', 'value': 'Catmando'}},\n",
       "   {'item': {'type': 'uri',\n",
       "     'value': 'http://www.wikidata.org/entity/Q1185550'},\n",
       "    'itemLabel': {'xml:lang': 'en', 'type': 'literal', 'value': 'Oscar'}},\n",
       "   {'item': {'type': 'uri',\n",
       "     'value': 'http://www.wikidata.org/entity/Q1201902'},\n",
       "    'itemLabel': {'xml:lang': 'en', 'type': 'literal', 'value': 'Tama'}},\n",
       "   {'item': {'type': 'uri',\n",
       "     'value': 'http://www.wikidata.org/entity/Q1207136'},\n",
       "    'itemLabel': {'xml:lang': 'en',\n",
       "     'type': 'literal',\n",
       "     'value': 'Dewey Readmore Books'}},\n",
       "   {'item': {'type': 'uri',\n",
       "     'value': 'http://www.wikidata.org/entity/Q1371145'},\n",
       "    'itemLabel': {'xml:lang': 'en', 'type': 'literal', 'value': 'Socks'}}]}}"
      ]
     },
     "execution_count": 25,
     "metadata": {},
     "output_type": "execute_result"
    }
   ],
   "source": [
    "print(type(results))\n",
    "results"
   ]
  },
  {
   "cell_type": "code",
   "execution_count": 26,
   "id": "8f214ca5",
   "metadata": {},
   "outputs": [
    {
     "data": {
      "text/html": [
       "<div>\n",
       "<style scoped>\n",
       "    .dataframe tbody tr th:only-of-type {\n",
       "        vertical-align: middle;\n",
       "    }\n",
       "\n",
       "    .dataframe tbody tr th {\n",
       "        vertical-align: top;\n",
       "    }\n",
       "\n",
       "    .dataframe thead th {\n",
       "        text-align: right;\n",
       "    }\n",
       "</style>\n",
       "<table border=\"1\" class=\"dataframe\">\n",
       "  <thead>\n",
       "    <tr style=\"text-align: right;\">\n",
       "      <th></th>\n",
       "      <th>item.type</th>\n",
       "      <th>item.value</th>\n",
       "      <th>itemLabel.xml:lang</th>\n",
       "      <th>itemLabel.type</th>\n",
       "      <th>itemLabel.value</th>\n",
       "    </tr>\n",
       "  </thead>\n",
       "  <tbody>\n",
       "    <tr>\n",
       "      <th>0</th>\n",
       "      <td>uri</td>\n",
       "      <td>http://www.wikidata.org/entity/Q378619</td>\n",
       "      <td>en</td>\n",
       "      <td>literal</td>\n",
       "      <td>CC</td>\n",
       "    </tr>\n",
       "    <tr>\n",
       "      <th>1</th>\n",
       "      <td>uri</td>\n",
       "      <td>http://www.wikidata.org/entity/Q498787</td>\n",
       "      <td>en</td>\n",
       "      <td>literal</td>\n",
       "      <td>Muezza</td>\n",
       "    </tr>\n",
       "    <tr>\n",
       "      <th>2</th>\n",
       "      <td>uri</td>\n",
       "      <td>http://www.wikidata.org/entity/Q677525</td>\n",
       "      <td>en</td>\n",
       "      <td>literal</td>\n",
       "      <td>Orangey</td>\n",
       "    </tr>\n",
       "    <tr>\n",
       "      <th>3</th>\n",
       "      <td>uri</td>\n",
       "      <td>http://www.wikidata.org/entity/Q851190</td>\n",
       "      <td>en</td>\n",
       "      <td>literal</td>\n",
       "      <td>Mrs. Chippy</td>\n",
       "    </tr>\n",
       "    <tr>\n",
       "      <th>4</th>\n",
       "      <td>uri</td>\n",
       "      <td>http://www.wikidata.org/entity/Q893453</td>\n",
       "      <td>en</td>\n",
       "      <td>literal</td>\n",
       "      <td>Unsinkable Sam</td>\n",
       "    </tr>\n",
       "    <tr>\n",
       "      <th>5</th>\n",
       "      <td>uri</td>\n",
       "      <td>http://www.wikidata.org/entity/Q1050083</td>\n",
       "      <td>en</td>\n",
       "      <td>literal</td>\n",
       "      <td>Catmando</td>\n",
       "    </tr>\n",
       "    <tr>\n",
       "      <th>6</th>\n",
       "      <td>uri</td>\n",
       "      <td>http://www.wikidata.org/entity/Q1185550</td>\n",
       "      <td>en</td>\n",
       "      <td>literal</td>\n",
       "      <td>Oscar</td>\n",
       "    </tr>\n",
       "    <tr>\n",
       "      <th>7</th>\n",
       "      <td>uri</td>\n",
       "      <td>http://www.wikidata.org/entity/Q1201902</td>\n",
       "      <td>en</td>\n",
       "      <td>literal</td>\n",
       "      <td>Tama</td>\n",
       "    </tr>\n",
       "    <tr>\n",
       "      <th>8</th>\n",
       "      <td>uri</td>\n",
       "      <td>http://www.wikidata.org/entity/Q1207136</td>\n",
       "      <td>en</td>\n",
       "      <td>literal</td>\n",
       "      <td>Dewey Readmore Books</td>\n",
       "    </tr>\n",
       "    <tr>\n",
       "      <th>9</th>\n",
       "      <td>uri</td>\n",
       "      <td>http://www.wikidata.org/entity/Q1371145</td>\n",
       "      <td>en</td>\n",
       "      <td>literal</td>\n",
       "      <td>Socks</td>\n",
       "    </tr>\n",
       "  </tbody>\n",
       "</table>\n",
       "</div>"
      ],
      "text/plain": [
       "  item.type                               item.value itemLabel.xml:lang  \\\n",
       "0       uri   http://www.wikidata.org/entity/Q378619                 en   \n",
       "1       uri   http://www.wikidata.org/entity/Q498787                 en   \n",
       "2       uri   http://www.wikidata.org/entity/Q677525                 en   \n",
       "3       uri   http://www.wikidata.org/entity/Q851190                 en   \n",
       "4       uri   http://www.wikidata.org/entity/Q893453                 en   \n",
       "5       uri  http://www.wikidata.org/entity/Q1050083                 en   \n",
       "6       uri  http://www.wikidata.org/entity/Q1185550                 en   \n",
       "7       uri  http://www.wikidata.org/entity/Q1201902                 en   \n",
       "8       uri  http://www.wikidata.org/entity/Q1207136                 en   \n",
       "9       uri  http://www.wikidata.org/entity/Q1371145                 en   \n",
       "\n",
       "  itemLabel.type       itemLabel.value  \n",
       "0        literal                    CC  \n",
       "1        literal                Muezza  \n",
       "2        literal               Orangey  \n",
       "3        literal           Mrs. Chippy  \n",
       "4        literal        Unsinkable Sam  \n",
       "5        literal              Catmando  \n",
       "6        literal                 Oscar  \n",
       "7        literal                  Tama  \n",
       "8        literal  Dewey Readmore Books  \n",
       "9        literal                 Socks  "
      ]
     },
     "execution_count": 26,
     "metadata": {},
     "output_type": "execute_result"
    }
   ],
   "source": [
    "# all that we want is results>bindings\n",
    "# we are going to normalize it using pandas\n",
    "results_df = pd.json_normalize(results['results']['bindings'])\n",
    "results_df"
   ]
  },
  {
   "cell_type": "markdown",
   "id": "14c50588",
   "metadata": {},
   "source": [
    "---"
   ]
  },
  {
   "cell_type": "markdown",
   "id": "897a9742",
   "metadata": {},
   "source": [
    "#### Dogs"
   ]
  },
  {
   "cell_type": "code",
   "execution_count": 45,
   "id": "073a5d9c",
   "metadata": {},
   "outputs": [],
   "source": [
    "# we got the label for dog from the Wikidata API notebook\n",
    "\n",
    "sparql.setQuery(\"\"\"\n",
    "SELECT ?item ?itemLabel\n",
    "\n",
    "WHERE {\n",
    "?item wdt:P31  wd:Q144 .\n",
    "\n",
    "SERVICE wikibase:label { bd:serviceParam wikibase:language \"[AUTO_LANGUAGE],en\". }\n",
    "}\n",
    "LIMIT 5\n",
    "\n",
    "\"\"\")\n",
    "sparql.setReturnFormat(JSON)\n",
    "results = sparql.query().convert()"
   ]
  },
  {
   "cell_type": "code",
   "execution_count": 46,
   "id": "0e6970bd",
   "metadata": {},
   "outputs": [
    {
     "data": {
      "text/html": [
       "<div>\n",
       "<style scoped>\n",
       "    .dataframe tbody tr th:only-of-type {\n",
       "        vertical-align: middle;\n",
       "    }\n",
       "\n",
       "    .dataframe tbody tr th {\n",
       "        vertical-align: top;\n",
       "    }\n",
       "\n",
       "    .dataframe thead th {\n",
       "        text-align: right;\n",
       "    }\n",
       "</style>\n",
       "<table border=\"1\" class=\"dataframe\">\n",
       "  <thead>\n",
       "    <tr style=\"text-align: right;\">\n",
       "      <th></th>\n",
       "      <th>item.type</th>\n",
       "      <th>item.value</th>\n",
       "      <th>itemLabel.xml:lang</th>\n",
       "      <th>itemLabel.type</th>\n",
       "      <th>itemLabel.value</th>\n",
       "    </tr>\n",
       "  </thead>\n",
       "  <tbody>\n",
       "    <tr>\n",
       "      <th>0</th>\n",
       "      <td>uri</td>\n",
       "      <td>http://www.wikidata.org/entity/Q42235</td>\n",
       "      <td>en</td>\n",
       "      <td>literal</td>\n",
       "      <td>Abuwtiyuw</td>\n",
       "    </tr>\n",
       "    <tr>\n",
       "      <th>1</th>\n",
       "      <td>uri</td>\n",
       "      <td>http://www.wikidata.org/entity/Q155695</td>\n",
       "      <td>en</td>\n",
       "      <td>literal</td>\n",
       "      <td>Blondi</td>\n",
       "    </tr>\n",
       "    <tr>\n",
       "      <th>2</th>\n",
       "      <td>uri</td>\n",
       "      <td>http://www.wikidata.org/entity/Q186486</td>\n",
       "      <td>en</td>\n",
       "      <td>literal</td>\n",
       "      <td>Hachikō</td>\n",
       "    </tr>\n",
       "    <tr>\n",
       "      <th>3</th>\n",
       "      <td>uri</td>\n",
       "      <td>http://www.wikidata.org/entity/Q280571</td>\n",
       "      <td>en</td>\n",
       "      <td>literal</td>\n",
       "      <td>Pickles</td>\n",
       "    </tr>\n",
       "    <tr>\n",
       "      <th>4</th>\n",
       "      <td>uri</td>\n",
       "      <td>http://www.wikidata.org/entity/Q384348</td>\n",
       "      <td>en</td>\n",
       "      <td>literal</td>\n",
       "      <td>Mancs</td>\n",
       "    </tr>\n",
       "  </tbody>\n",
       "</table>\n",
       "</div>"
      ],
      "text/plain": [
       "  item.type                              item.value itemLabel.xml:lang  \\\n",
       "0       uri   http://www.wikidata.org/entity/Q42235                 en   \n",
       "1       uri  http://www.wikidata.org/entity/Q155695                 en   \n",
       "2       uri  http://www.wikidata.org/entity/Q186486                 en   \n",
       "3       uri  http://www.wikidata.org/entity/Q280571                 en   \n",
       "4       uri  http://www.wikidata.org/entity/Q384348                 en   \n",
       "\n",
       "  itemLabel.type itemLabel.value  \n",
       "0        literal       Abuwtiyuw  \n",
       "1        literal          Blondi  \n",
       "2        literal         Hachikō  \n",
       "3        literal         Pickles  \n",
       "4        literal           Mancs  "
      ]
     },
     "execution_count": 46,
     "metadata": {},
     "output_type": "execute_result"
    }
   ],
   "source": [
    "# all that we want is results>bindings\n",
    "# we are going to normalize it using pandas\n",
    "results_df = pd.json_normalize(results['results']['bindings'])\n",
    "results_df"
   ]
  },
  {
   "cell_type": "markdown",
   "id": "1cd14872",
   "metadata": {},
   "source": [
    "---"
   ]
  },
  {
   "cell_type": "code",
   "execution_count": 47,
   "id": "73244750",
   "metadata": {},
   "outputs": [],
   "source": [
    "def make_clickable(link):\n",
    "    return f'<a href=\"{link}\" target=\"_blank\">{link}</a>'"
   ]
  },
  {
   "cell_type": "code",
   "execution_count": 48,
   "id": "608246cb",
   "metadata": {},
   "outputs": [
    {
     "data": {
      "text/html": [
       "<div>\n",
       "<style scoped>\n",
       "    .dataframe tbody tr th:only-of-type {\n",
       "        vertical-align: middle;\n",
       "    }\n",
       "\n",
       "    .dataframe tbody tr th {\n",
       "        vertical-align: top;\n",
       "    }\n",
       "\n",
       "    .dataframe thead th {\n",
       "        text-align: right;\n",
       "    }\n",
       "</style>\n",
       "<table border=\"1\" class=\"dataframe\">\n",
       "  <thead>\n",
       "    <tr style=\"text-align: right;\">\n",
       "      <th></th>\n",
       "      <th>item.type</th>\n",
       "      <th>item.value</th>\n",
       "      <th>itemLabel.xml:lang</th>\n",
       "      <th>itemLabel.type</th>\n",
       "      <th>itemLabel.value</th>\n",
       "    </tr>\n",
       "  </thead>\n",
       "  <tbody>\n",
       "    <tr>\n",
       "      <th>0</th>\n",
       "      <td>uri</td>\n",
       "      <td>&lt;a href=\"http://www.wikidata.org/entity/Q42235...</td>\n",
       "      <td>en</td>\n",
       "      <td>literal</td>\n",
       "      <td>Abuwtiyuw</td>\n",
       "    </tr>\n",
       "    <tr>\n",
       "      <th>1</th>\n",
       "      <td>uri</td>\n",
       "      <td>&lt;a href=\"http://www.wikidata.org/entity/Q15569...</td>\n",
       "      <td>en</td>\n",
       "      <td>literal</td>\n",
       "      <td>Blondi</td>\n",
       "    </tr>\n",
       "    <tr>\n",
       "      <th>2</th>\n",
       "      <td>uri</td>\n",
       "      <td>&lt;a href=\"http://www.wikidata.org/entity/Q18648...</td>\n",
       "      <td>en</td>\n",
       "      <td>literal</td>\n",
       "      <td>Hachikō</td>\n",
       "    </tr>\n",
       "    <tr>\n",
       "      <th>3</th>\n",
       "      <td>uri</td>\n",
       "      <td>&lt;a href=\"http://www.wikidata.org/entity/Q28057...</td>\n",
       "      <td>en</td>\n",
       "      <td>literal</td>\n",
       "      <td>Pickles</td>\n",
       "    </tr>\n",
       "    <tr>\n",
       "      <th>4</th>\n",
       "      <td>uri</td>\n",
       "      <td>&lt;a href=\"http://www.wikidata.org/entity/Q38434...</td>\n",
       "      <td>en</td>\n",
       "      <td>literal</td>\n",
       "      <td>Mancs</td>\n",
       "    </tr>\n",
       "  </tbody>\n",
       "</table>\n",
       "</div>"
      ],
      "text/plain": [
       "  item.type                                         item.value  \\\n",
       "0       uri  <a href=\"http://www.wikidata.org/entity/Q42235...   \n",
       "1       uri  <a href=\"http://www.wikidata.org/entity/Q15569...   \n",
       "2       uri  <a href=\"http://www.wikidata.org/entity/Q18648...   \n",
       "3       uri  <a href=\"http://www.wikidata.org/entity/Q28057...   \n",
       "4       uri  <a href=\"http://www.wikidata.org/entity/Q38434...   \n",
       "\n",
       "  itemLabel.xml:lang itemLabel.type itemLabel.value  \n",
       "0                 en        literal       Abuwtiyuw  \n",
       "1                 en        literal          Blondi  \n",
       "2                 en        literal         Hachikō  \n",
       "3                 en        literal         Pickles  \n",
       "4                 en        literal           Mancs  "
      ]
     },
     "execution_count": 48,
     "metadata": {},
     "output_type": "execute_result"
    }
   ],
   "source": [
    "# let's make it clickable\n",
    "results_df = pd.json_normalize(results['results']['bindings'])\n",
    "results_df['item.value'] = results_df['item.value'].apply(make_clickable)\n",
    "results_df"
   ]
  },
  {
   "cell_type": "markdown",
   "id": "ef9415af",
   "metadata": {},
   "source": [
    "#### American policians who were born in Chicago"
   ]
  },
  {
   "cell_type": "code",
   "execution_count": 90,
   "id": "2ec1f8a0",
   "metadata": {},
   "outputs": [
    {
     "data": {
      "text/html": [
       "<style type=\"text/css\">\n",
       "</style>\n",
       "<table id=\"T_a62a7\">\n",
       "  <thead>\n",
       "    <tr>\n",
       "      <th class=\"blank level0\" >&nbsp;</th>\n",
       "      <th id=\"T_a62a7_level0_col0\" class=\"col_heading level0 col0\" >politician.value</th>\n",
       "      <th id=\"T_a62a7_level0_col1\" class=\"col_heading level0 col1\" >politicianLabel.value</th>\n",
       "    </tr>\n",
       "  </thead>\n",
       "  <tbody>\n",
       "    <tr>\n",
       "      <th id=\"T_a62a7_level0_row0\" class=\"row_heading level0 row0\" >0</th>\n",
       "      <td id=\"T_a62a7_row0_col0\" class=\"data row0 col0\" >http://www.wikidata.org/entity/Q311141</td>\n",
       "      <td id=\"T_a62a7_row0_col1\" class=\"data row0 col1\" >John Ashcroft</td>\n",
       "    </tr>\n",
       "    <tr>\n",
       "      <th id=\"T_a62a7_level0_row1\" class=\"row_heading level0 row1\" >1</th>\n",
       "      <td id=\"T_a62a7_row1_col0\" class=\"data row1 col0\" >http://www.wikidata.org/entity/Q321457</td>\n",
       "      <td id=\"T_a62a7_row1_col1\" class=\"data row1 col1\" >Jim McDermott</td>\n",
       "    </tr>\n",
       "    <tr>\n",
       "      <th id=\"T_a62a7_level0_row2\" class=\"row_heading level0 row2\" >2</th>\n",
       "      <td id=\"T_a62a7_row2_col0\" class=\"data row2 col0\" >http://www.wikidata.org/entity/Q325960</td>\n",
       "      <td id=\"T_a62a7_row2_col1\" class=\"data row2 col1\" >Phil Crane</td>\n",
       "    </tr>\n",
       "    <tr>\n",
       "      <th id=\"T_a62a7_level0_row3\" class=\"row_heading level0 row3\" >3</th>\n",
       "      <td id=\"T_a62a7_row3_col0\" class=\"data row3 col0\" >http://www.wikidata.org/entity/Q330519</td>\n",
       "      <td id=\"T_a62a7_row3_col1\" class=\"data row3 col1\" >Greg Nickels</td>\n",
       "    </tr>\n",
       "    <tr>\n",
       "      <th id=\"T_a62a7_level0_row4\" class=\"row_heading level0 row4\" >4</th>\n",
       "      <td id=\"T_a62a7_row4_col0\" class=\"data row4 col0\" >http://www.wikidata.org/entity/Q349922</td>\n",
       "      <td id=\"T_a62a7_row4_col1\" class=\"data row4 col1\" >Arne Duncan</td>\n",
       "    </tr>\n",
       "    <tr>\n",
       "      <th id=\"T_a62a7_level0_row5\" class=\"row_heading level0 row5\" >5</th>\n",
       "      <td id=\"T_a62a7_row5_col0\" class=\"data row5 col0\" >http://www.wikidata.org/entity/Q358505</td>\n",
       "      <td id=\"T_a62a7_row5_col1\" class=\"data row5 col1\" >Eliot Ness</td>\n",
       "    </tr>\n",
       "    <tr>\n",
       "      <th id=\"T_a62a7_level0_row6\" class=\"row_heading level0 row6\" >6</th>\n",
       "      <td id=\"T_a62a7_row6_col0\" class=\"data row6 col0\" >http://www.wikidata.org/entity/Q362118</td>\n",
       "      <td id=\"T_a62a7_row6_col1\" class=\"data row6 col1\" >Edward Reilly Stettinius, Jr.</td>\n",
       "    </tr>\n",
       "    <tr>\n",
       "      <th id=\"T_a62a7_level0_row7\" class=\"row_heading level0 row7\" >7</th>\n",
       "      <td id=\"T_a62a7_row7_col0\" class=\"data row7 col0\" >http://www.wikidata.org/entity/Q257057</td>\n",
       "      <td id=\"T_a62a7_row7_col1\" class=\"data row7 col1\" >George Ernest Foulkes</td>\n",
       "    </tr>\n",
       "    <tr>\n",
       "      <th id=\"T_a62a7_level0_row8\" class=\"row_heading level0 row8\" >8</th>\n",
       "      <td id=\"T_a62a7_row8_col0\" class=\"data row8 col0\" >http://www.wikidata.org/entity/Q258008</td>\n",
       "      <td id=\"T_a62a7_row8_col1\" class=\"data row8 col1\" >Howard Pollock</td>\n",
       "    </tr>\n",
       "    <tr>\n",
       "      <th id=\"T_a62a7_level0_row9\" class=\"row_heading level0 row9\" >9</th>\n",
       "      <td id=\"T_a62a7_row9_col0\" class=\"data row9 col0\" >http://www.wikidata.org/entity/Q263728</td>\n",
       "      <td id=\"T_a62a7_row9_col1\" class=\"data row9 col1\" >Charles J. Kersten</td>\n",
       "    </tr>\n",
       "  </tbody>\n",
       "</table>\n"
      ],
      "text/plain": [
       "<pandas.io.formats.style.Styler at 0x1de2066c390>"
      ]
     },
     "execution_count": 90,
     "metadata": {},
     "output_type": "execute_result"
    }
   ],
   "source": [
    "sparql.setQuery(\"\"\"\n",
    "SELECT ?politician ?politicianLabel\n",
    "\n",
    "WHERE {\n",
    "    ?politician wdt:P31 wd:Q5 .         # instance of human (is human)\n",
    "    ?politician wdt:P27 wd:Q30 .        # citizenship USA\n",
    "    ?politician wdt:P19 wd:Q1297  .     # born in Chicago\n",
    "    ?politician wdt:P106 wd:Q82955 .    # occuipation politician  \n",
    "    \n",
    "    \n",
    "    SERVICE wikibase:label { bd:serviceParam wikibase:language \"[AUTO_LANGUAGE],en\". }\n",
    "\n",
    "}\n",
    "\n",
    "LIMIT 10\n",
    "\n",
    "\"\"\")\n",
    "sparql.setReturnFormat(JSON)\n",
    "results = sparql.query().convert()\n",
    "results_df = pd.json_normalize(results['results']['bindings']) #this converts from an JSON to a dataframe, using the info we want\n",
    "results_df = results_df[['politician.value','politicianLabel.value']] #this filters the dataframe to only show the columns we want\n",
    "results_df.style.format()"
   ]
  },
  {
   "cell_type": "markdown",
   "id": "5c97f782",
   "metadata": {},
   "source": []
  },
  {
   "cell_type": "code",
   "execution_count": null,
   "id": "e32d95c5",
   "metadata": {},
   "outputs": [],
   "source": []
  },
  {
   "cell_type": "markdown",
   "id": "8d441ab4",
   "metadata": {},
   "source": [
    "---"
   ]
  },
  {
   "cell_type": "markdown",
   "id": "c8da5d8a",
   "metadata": {},
   "source": [
    "#### American policians who were not born in Chicago"
   ]
  },
  {
   "cell_type": "code",
   "execution_count": 92,
   "id": "ffc361c1",
   "metadata": {},
   "outputs": [],
   "source": [
    "# we can do 'everyone except' with a minus{}, e.g.,\n",
    "    \n",
    "#     MINUS { \n",
    "#         ?politician wdt:P19 wd:Q1297 . \n",
    "#     } means not born in chicago\n",
    "    \n",
    "# this one will take awhile\n",
    "\n",
    "# sparql.setQuery(\"\"\"\n",
    "# SELECT ?politician ?politicianLabel\n",
    "\n",
    "# WHERE {\n",
    "#     ?politician wdt:P31 wd:Q5 .         # instance of human (is human)\n",
    "#     ?politician wdt:P27 wd:Q30 .        # citizenship USA\n",
    "#     MINUS {?politician wdt:P19 wd:Q1297  .}     # NOT born in Chicago\n",
    "#     ?politician wdt:P106 wd:Q82955 .    # occuipation politician  \n",
    "    \n",
    "    \n",
    "#     SERVICE wikibase:label { bd:serviceParam wikibase:language \"[AUTO_LANGUAGE],en\". }\n",
    "\n",
    "# }\n",
    "\n",
    "# LIMIT 10\n",
    "\n",
    "# \"\"\")\n",
    "# sparql.setReturnFormat(JSON)\n",
    "# results = sparql.query().convert()\n",
    "# results_df = pd.json_normalize(results['results']['bindings']) #this converts from an JSON to a dataframe, using the info we want\n",
    "# results_df = results_df[['politician.value','politicianLabel.value']] #this filters the dataframe to only show the columns we want\n",
    "# results_df.style.format()"
   ]
  },
  {
   "cell_type": "markdown",
   "id": "e263aa59",
   "metadata": {},
   "source": [
    "---"
   ]
  },
  {
   "cell_type": "markdown",
   "id": "ff1e9ed4",
   "metadata": {},
   "source": [
    "#### American policians who were born in Chicago after 1950 and are still alive"
   ]
  },
  {
   "cell_type": "code",
   "execution_count": 99,
   "id": "fcfda0cd",
   "metadata": {},
   "outputs": [
    {
     "data": {
      "text/html": [
       "<style type=\"text/css\">\n",
       "</style>\n",
       "<table id=\"T_1f859\">\n",
       "  <thead>\n",
       "    <tr>\n",
       "      <th class=\"blank level0\" >&nbsp;</th>\n",
       "      <th id=\"T_1f859_level0_col0\" class=\"col_heading level0 col0\" >politician.type</th>\n",
       "      <th id=\"T_1f859_level0_col1\" class=\"col_heading level0 col1\" >politician.value</th>\n",
       "      <th id=\"T_1f859_level0_col2\" class=\"col_heading level0 col2\" >politicianLabel.xml:lang</th>\n",
       "      <th id=\"T_1f859_level0_col3\" class=\"col_heading level0 col3\" >politicianLabel.type</th>\n",
       "      <th id=\"T_1f859_level0_col4\" class=\"col_heading level0 col4\" >politicianLabel.value</th>\n",
       "    </tr>\n",
       "  </thead>\n",
       "  <tbody>\n",
       "    <tr>\n",
       "      <th id=\"T_1f859_level0_row0\" class=\"row_heading level0 row0\" >0</th>\n",
       "      <td id=\"T_1f859_row0_col0\" class=\"data row0 col0\" >uri</td>\n",
       "      <td id=\"T_1f859_row0_col1\" class=\"data row0 col1\" >http://www.wikidata.org/entity/Q11100</td>\n",
       "      <td id=\"T_1f859_row0_col2\" class=\"data row0 col2\" >en</td>\n",
       "      <td id=\"T_1f859_row0_col3\" class=\"data row0 col3\" >literal</td>\n",
       "      <td id=\"T_1f859_row0_col4\" class=\"data row0 col4\" >Deval Patrick</td>\n",
       "    </tr>\n",
       "    <tr>\n",
       "      <th id=\"T_1f859_level0_row1\" class=\"row_heading level0 row1\" >1</th>\n",
       "      <td id=\"T_1f859_row1_col0\" class=\"data row1 col0\" >uri</td>\n",
       "      <td id=\"T_1f859_row1_col1\" class=\"data row1 col1\" >http://www.wikidata.org/entity/Q13133</td>\n",
       "      <td id=\"T_1f859_row1_col2\" class=\"data row1 col2\" >en</td>\n",
       "      <td id=\"T_1f859_row1_col3\" class=\"data row1 col3\" >literal</td>\n",
       "      <td id=\"T_1f859_row1_col4\" class=\"data row1 col4\" >Michelle Obama</td>\n",
       "    </tr>\n",
       "    <tr>\n",
       "      <th id=\"T_1f859_level0_row2\" class=\"row_heading level0 row2\" >2</th>\n",
       "      <td id=\"T_1f859_row2_col0\" class=\"data row2 col0\" >uri</td>\n",
       "      <td id=\"T_1f859_row2_col1\" class=\"data row2 col1\" >http://www.wikidata.org/entity/Q32606</td>\n",
       "      <td id=\"T_1f859_row2_col2\" class=\"data row2 col2\" >en</td>\n",
       "      <td id=\"T_1f859_row2_col3\" class=\"data row2 col3\" >literal</td>\n",
       "      <td id=\"T_1f859_row2_col4\" class=\"data row2 col4\" >Nan Hayworth</td>\n",
       "    </tr>\n",
       "    <tr>\n",
       "      <th id=\"T_1f859_level0_row3\" class=\"row_heading level0 row3\" >3</th>\n",
       "      <td id=\"T_1f859_row3_col0\" class=\"data row3 col0\" >uri</td>\n",
       "      <td id=\"T_1f859_row3_col1\" class=\"data row3 col1\" >http://www.wikidata.org/entity/Q151891</td>\n",
       "      <td id=\"T_1f859_row3_col2\" class=\"data row3 col2\" >en</td>\n",
       "      <td id=\"T_1f859_row3_col3\" class=\"data row3 col3\" >literal</td>\n",
       "      <td id=\"T_1f859_row3_col4\" class=\"data row3 col4\" >Rod Blagojevich</td>\n",
       "    </tr>\n",
       "    <tr>\n",
       "      <th id=\"T_1f859_level0_row4\" class=\"row_heading level0 row4\" >4</th>\n",
       "      <td id=\"T_1f859_row4_col0\" class=\"data row4 col0\" >uri</td>\n",
       "      <td id=\"T_1f859_row4_col1\" class=\"data row4 col1\" >http://www.wikidata.org/entity/Q330519</td>\n",
       "      <td id=\"T_1f859_row4_col2\" class=\"data row4 col2\" >en</td>\n",
       "      <td id=\"T_1f859_row4_col3\" class=\"data row4 col3\" >literal</td>\n",
       "      <td id=\"T_1f859_row4_col4\" class=\"data row4 col4\" >Greg Nickels</td>\n",
       "    </tr>\n",
       "    <tr>\n",
       "      <th id=\"T_1f859_level0_row5\" class=\"row_heading level0 row5\" >5</th>\n",
       "      <td id=\"T_1f859_row5_col0\" class=\"data row5 col0\" >uri</td>\n",
       "      <td id=\"T_1f859_row5_col1\" class=\"data row5 col1\" >http://www.wikidata.org/entity/Q349922</td>\n",
       "      <td id=\"T_1f859_row5_col2\" class=\"data row5 col2\" >en</td>\n",
       "      <td id=\"T_1f859_row5_col3\" class=\"data row5 col3\" >literal</td>\n",
       "      <td id=\"T_1f859_row5_col4\" class=\"data row5 col4\" >Arne Duncan</td>\n",
       "    </tr>\n",
       "    <tr>\n",
       "      <th id=\"T_1f859_level0_row6\" class=\"row_heading level0 row6\" >6</th>\n",
       "      <td id=\"T_1f859_row6_col0\" class=\"data row6 col0\" >uri</td>\n",
       "      <td id=\"T_1f859_row6_col1\" class=\"data row6 col1\" >http://www.wikidata.org/entity/Q165803</td>\n",
       "      <td id=\"T_1f859_row6_col2\" class=\"data row6 col2\" >en</td>\n",
       "      <td id=\"T_1f859_row6_col3\" class=\"data row6 col3\" >literal</td>\n",
       "      <td id=\"T_1f859_row6_col4\" class=\"data row6 col4\" >Phil Gordon</td>\n",
       "    </tr>\n",
       "    <tr>\n",
       "      <th id=\"T_1f859_level0_row7\" class=\"row_heading level0 row7\" >7</th>\n",
       "      <td id=\"T_1f859_row7_col0\" class=\"data row7 col0\" >uri</td>\n",
       "      <td id=\"T_1f859_row7_col1\" class=\"data row7 col1\" >http://www.wikidata.org/entity/Q513807</td>\n",
       "      <td id=\"T_1f859_row7_col2\" class=\"data row7 col2\" >en</td>\n",
       "      <td id=\"T_1f859_row7_col3\" class=\"data row7 col3\" >literal</td>\n",
       "      <td id=\"T_1f859_row7_col4\" class=\"data row7 col4\" >Margaret Hamburg</td>\n",
       "    </tr>\n",
       "    <tr>\n",
       "      <th id=\"T_1f859_level0_row8\" class=\"row_heading level0 row8\" >8</th>\n",
       "      <td id=\"T_1f859_row8_col0\" class=\"data row8 col0\" >uri</td>\n",
       "      <td id=\"T_1f859_row8_col1\" class=\"data row8 col1\" >http://www.wikidata.org/entity/Q518424</td>\n",
       "      <td id=\"T_1f859_row8_col2\" class=\"data row8 col2\" >en</td>\n",
       "      <td id=\"T_1f859_row8_col3\" class=\"data row8 col3\" >literal</td>\n",
       "      <td id=\"T_1f859_row8_col4\" class=\"data row8 col4\" >Dan Lipinski</td>\n",
       "    </tr>\n",
       "    <tr>\n",
       "      <th id=\"T_1f859_level0_row9\" class=\"row_heading level0 row9\" >9</th>\n",
       "      <td id=\"T_1f859_row9_col0\" class=\"data row9 col0\" >uri</td>\n",
       "      <td id=\"T_1f859_row9_col1\" class=\"data row9 col1\" >http://www.wikidata.org/entity/Q529140</td>\n",
       "      <td id=\"T_1f859_row9_col2\" class=\"data row9 col2\" >en</td>\n",
       "      <td id=\"T_1f859_row9_col3\" class=\"data row9 col3\" >literal</td>\n",
       "      <td id=\"T_1f859_row9_col4\" class=\"data row9 col4\" >Lisa Madigan</td>\n",
       "    </tr>\n",
       "  </tbody>\n",
       "</table>\n"
      ],
      "text/plain": [
       "<pandas.io.formats.style.Styler at 0x1de2086b8d0>"
      ]
     },
     "execution_count": 99,
     "metadata": {},
     "output_type": "execute_result"
    }
   ],
   "source": [
    "sparql.setQuery(\"\"\"\n",
    "SELECT ?politician ?politicianLabel\n",
    "\n",
    "WHERE {\n",
    "    ?politician wdt:P31 wd:Q5 .         # instance of human (is human)\n",
    "    ?politician wdt:P27 wd:Q30 .        # citizenship USA\n",
    "    ?politician wdt:P19 wd:Q1297  .     # born in Chicago\n",
    "    ?politician wdt:P106 wd:Q82955 .    # occuipation politician  \n",
    "    ?politician wdt:P569 ?dtb .         # dtb is my variable name; i made it up; ? means it's my variable\n",
    "    FILTER(YEAR(?dtb) > 1950)\n",
    "              \n",
    "    FILTER NOT EXISTS {?politician wdt:P570 ?dtd} # now we want to make sure there is no date of death\n",
    "    \n",
    "    SERVICE wikibase:label { bd:serviceParam wikibase:language \"[AUTO_LANGUAGE],en\". }\n",
    "\n",
    "}\n",
    "\n",
    "LIMIT 10\n",
    "\n",
    "\"\"\")\n",
    "sparql.setReturnFormat(JSON)\n",
    "results = sparql.query().convert()\n",
    "results_df = pd.json_normalize(results['results']['bindings'])\n",
    "# results_df = results_df[['item.value', 'itemLabel.value']]\n",
    "results_df.style.format()"
   ]
  },
  {
   "cell_type": "markdown",
   "id": "86f7522f",
   "metadata": {},
   "source": [
    "---"
   ]
  },
  {
   "cell_type": "markdown",
   "id": "bfdd6db6",
   "metadata": {},
   "source": [
    "#### Greek policians after 1900 and are still alive, along with their place of birth"
   ]
  },
  {
   "cell_type": "code",
   "execution_count": null,
   "id": "7f7d9f72",
   "metadata": {},
   "outputs": [],
   "source": [
    "sparql.setQuery(\"\"\"\n",
    "\n",
    "\n",
    "\"\"\")\n",
    "sparql.setReturnFormat(JSON)\n",
    "results = sparql.query().convert()\n",
    "results_df = pd.json_normalize(results['results']['bindings'])\n",
    "results_df = results_df.loc[:,~results_df.columns.str.contains('.type')] # removes the columns that contain '.type'\n",
    "results_df = results_df.loc[:,~results_df.columns.str.contains('.lang')] # removes the columns that contain '.lang'\n"
   ]
  },
  {
   "cell_type": "markdown",
   "id": "f1f4b21b",
   "metadata": {},
   "source": [
    "---"
   ]
  },
  {
   "cell_type": "markdown",
   "id": "fba96e93",
   "metadata": {},
   "source": [
    "#### Greek policians whose father was a politician"
   ]
  },
  {
   "cell_type": "code",
   "execution_count": null,
   "id": "6f40a31f",
   "metadata": {},
   "outputs": [],
   "source": [
    "sparql.setQuery(\"\"\"\n",
    "\n",
    "\n",
    "\"\"\")\n",
    "sparql.setReturnFormat(JSON)\n",
    "results = sparql.query().convert()\n",
    "results_df = pd.json_normalize(results['results']['bindings'])\n",
    "results_df = results_df.loc[:,~results_df.columns.str.contains('.type')] # removes the columns that contain '.type'\n",
    "results_df = results_df.loc[:,~results_df.columns.str.contains('.lang')] # removes the columns that contain '.lang'\n",
    "results_df[['item.value', 'itemLabel.value', 'father.value', 'fatherLabel.value']]"
   ]
  },
  {
   "cell_type": "markdown",
   "id": "56c99014",
   "metadata": {},
   "source": [
    "---"
   ]
  },
  {
   "cell_type": "markdown",
   "id": "01c22d63",
   "metadata": {},
   "source": [
    "Advanced queries:\n",
    "- [Presidents and their causes of death](https://query.wikidata.org/#%23Presidents%20and%20their%20causes%20of%20death%20ranking%0A%23defaultView%3ABubbleChart%0ASELECT%20%3Fcid%20%3Fcause%20%28count%28%2a%29%20as%20%3Fcount%29%0AWHERE%0A%7B%0A%20%20%3Fpid%20wdt%3AP39%20wd%3AQ11696%20.%0A%20%20%3Fpid%20wdt%3AP509%20%3Fcid%20.%0A%20%20OPTIONAL%20%7B%0A%20%20%20%20%3Fcid%20rdfs%3Alabel%20%3Fcause%20FILTER%20%28lang%28%3Fcause%29%20%3D%20%22en%22%29%20.%0A%20%20%7D%0A%7D%0AGROUP%20BY%20%3Fcid%20%3Fcause%0AORDER%20BY%20DESC%28%3Fcount%29%20ASC%28%3Fcause%29)\n",
    "- [Greek policians after 1900 and are still alive, along with their place of birth](https://query.wikidata.org/#SELECT%20%3Fitem%20%3FitemLabel%20%3Fbirthplace%20%3FbirthplaceLabel%20%3Fgeo%0AWHERE%0A%7B%0A%20%20%20%20%3Fitem%20wdt%3AP31%20wd%3AQ5%20.%20%23%20instance%20of%20human%0A%20%20%20%20%3Fitem%20wdt%3AP27%20wd%3AQ41%20.%20%23%20citizenship%20Greece%0A%20%20%20%20%3Fitem%20wdt%3AP106%20wd%3AQ82955%20.%20%23%20occupation%20politician%0A%20%20%20%20%0A%20%20%20%20%3Fitem%20wdt%3AP19%20%3Fbirthplace%20.%0A%20%20%20%20%3Fbirthplace%20wdt%3AP625%20%3Fgeo%20.%0A%20%20%20%20%20%20%20%20%0A%20%20%20%20%0A%20%20%20%20%3Fitem%20wdt%3AP569%20%3Fbirthdate%20.%20%20%23%20date%20of%20birth%0A%20%20%20%20%0A%20%20%20%20FILTER%28YEAR%28%3Fbirthdate%29%20%3E%201900%29%0A%20%20%0A%20%20%20%20SERVICE%20wikibase%3Alabel%20%7B%20bd%3AserviceParam%20wikibase%3Alanguage%20%22en%22%20%7D%0A%7D%0A)"
   ]
  },
  {
   "cell_type": "markdown",
   "id": "bcf962a2",
   "metadata": {},
   "source": [
    "#### Athenian writers of fifth-century BCE"
   ]
  },
  {
   "cell_type": "code",
   "execution_count": null,
   "id": "0fd36b34",
   "metadata": {
    "scrolled": true
   },
   "outputs": [],
   "source": [
    "sparql.setQuery(\"\"\"\n",
    "\n",
    "\n",
    "\"\"\")\n",
    "sparql.setReturnFormat(JSON)\n",
    "results = sparql.query().convert()\n",
    "results_df = pd.json_normalize(results['results']['bindings'])\n",
    "results_df = results_df.loc[:,~results_df.columns.str.contains('.type')] # removes the columns that contain '.type'\n",
    "results_df = results_df.loc[:,~results_df.columns.str.contains('.lang')] # removes the columns that contain '.lang'\n",
    "results_df"
   ]
  },
  {
   "cell_type": "markdown",
   "id": "13968ea4",
   "metadata": {},
   "source": [
    "---"
   ]
  },
  {
   "cell_type": "markdown",
   "id": "15ada6a0",
   "metadata": {},
   "source": [
    "#### Use Wikidata API to search for entities (items or properties)"
   ]
  },
  {
   "cell_type": "code",
   "execution_count": null,
   "id": "6f24c26d",
   "metadata": {},
   "outputs": [],
   "source": [
    "import requests\n",
    "\n",
    "def search_entities(search_string, entity_type, language='en'):\n",
    "    endpoint_url = \"https://www.wikidata.org/w/api.php\"\n",
    "\n",
    "    # Define the parameters for the API call\n",
    "    params = {\n",
    "        'action': 'wbsearchentities',\n",
    "        'format': 'json',\n",
    "        'search': search_string,\n",
    "        'type': entity_type,\n",
    "        'language': language   \n",
    "    }\n",
    "\n",
    "    # Make the API call\n",
    "    response = requests.get(endpoint_url, params=params)\n",
    "    data = response.json()\n",
    "\n",
    "    # Extract and return entity IDs and labels\n",
    "    entities = data.get('search', [])\n",
    "    return entities\n",
    "\n",
    "def display_entities(entities, entity_type):\n",
    "    print(f\"\\n{entity_type.capitalize()}:\")\n",
    "    for entity in entities:\n",
    "        print(f\"Entity ID: {entity['id']} - Label: {entity['label']} - Description: {entity['display']['description']['value']} - {entity['concepturi']}\")\n",
    "\n",
    "if __name__ == \"__main__\":\n",
    "    search_string = input(\"Enter the string to search for: \")\n",
    "    \n",
    "    # Search for items\n",
    "    items = search_entities(search_string, 'item')\n",
    "    display_entities(items, 'items')\n",
    "\n",
    "    # Search for properties\n",
    "    properties = search_entities(search_string, 'property')\n",
    "    display_entities(properties, 'properties')"
   ]
  },
  {
   "cell_type": "markdown",
   "id": "ccb5bc04",
   "metadata": {},
   "source": [
    "---"
   ]
  }
 ],
 "metadata": {
  "kernelspec": {
   "display_name": "Python 3 (ipykernel)",
   "language": "python",
   "name": "python3"
  },
  "language_info": {
   "codemirror_mode": {
    "name": "ipython",
    "version": 3
   },
   "file_extension": ".py",
   "mimetype": "text/x-python",
   "name": "python",
   "nbconvert_exporter": "python",
   "pygments_lexer": "ipython3",
   "version": "3.11.4"
  }
 },
 "nbformat": 4,
 "nbformat_minor": 5
}
