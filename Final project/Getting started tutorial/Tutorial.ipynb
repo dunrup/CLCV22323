{
 "cells": [
  {
   "cell_type": "code",
   "execution_count": null,
   "id": "83b9bc65",
   "metadata": {},
   "outputs": [],
   "source": [
    "# https://legacy.cltk.org/en/latest/installation.html#with-pip"
   ]
  },
  {
   "cell_type": "code",
   "execution_count": 5,
   "id": "05177452",
   "metadata": {},
   "outputs": [
    {
     "name": "stdout",
     "output_type": "stream",
     "text": [
      "Collecting cltk==0.1.32\n",
      "  Downloading cltk-0.1.32.tar.gz (287 kB)\n",
      "     ---------------------------------------- 0.0/287.6 kB ? eta -:--:--\n",
      "     -------------------------------------  286.7/287.6 kB 8.9 MB/s eta 0:00:01\n",
      "     -------------------------------------- 287.6/287.6 kB 8.9 MB/s eta 0:00:00\n",
      "  Preparing metadata (setup.py): started\n",
      "  Preparing metadata (setup.py): finished with status 'done'\n",
      "Requirement already satisfied: nltk in c:\\users\\danru\\anaconda3\\lib\\site-packages (from cltk==0.1.32) (3.8.1)\n",
      "Collecting gitpython (from cltk==0.1.32)\n",
      "  Obtaining dependency information for gitpython from https://files.pythonhosted.org/packages/8d/c4/82b858fb6483dfb5e338123c154d19c043305b01726a67d89532b8f8f01b/GitPython-3.1.40-py3-none-any.whl.metadata\n",
      "  Using cached GitPython-3.1.40-py3-none-any.whl.metadata (12 kB)\n",
      "Requirement already satisfied: regex in c:\\users\\danru\\anaconda3\\lib\\site-packages (from cltk==0.1.32) (2022.7.9)\n",
      "Collecting whoosh (from cltk==0.1.32)\n",
      "  Using cached Whoosh-2.7.4-py2.py3-none-any.whl (468 kB)\n",
      "Collecting gitdb<5,>=4.0.1 (from gitpython->cltk==0.1.32)\n",
      "  Obtaining dependency information for gitdb<5,>=4.0.1 from https://files.pythonhosted.org/packages/fd/5b/8f0c4a5bb9fd491c277c21eff7ccae71b47d43c4446c9d0c6cff2fe8c2c4/gitdb-4.0.11-py3-none-any.whl.metadata\n",
      "  Using cached gitdb-4.0.11-py3-none-any.whl.metadata (1.2 kB)\n",
      "Requirement already satisfied: click in c:\\users\\danru\\anaconda3\\lib\\site-packages (from nltk->cltk==0.1.32) (8.0.4)\n",
      "Requirement already satisfied: joblib in c:\\users\\danru\\anaconda3\\lib\\site-packages (from nltk->cltk==0.1.32) (1.2.0)\n",
      "Requirement already satisfied: tqdm in c:\\users\\danru\\anaconda3\\lib\\site-packages (from nltk->cltk==0.1.32) (4.65.0)\n",
      "Collecting smmap<6,>=3.0.1 (from gitdb<5,>=4.0.1->gitpython->cltk==0.1.32)\n",
      "  Obtaining dependency information for smmap<6,>=3.0.1 from https://files.pythonhosted.org/packages/a7/a5/10f97f73544edcdef54409f1d839f6049a0d79df68adbc1ceb24d1aaca42/smmap-5.0.1-py3-none-any.whl.metadata\n",
      "  Using cached smmap-5.0.1-py3-none-any.whl.metadata (4.3 kB)\n",
      "Requirement already satisfied: colorama in c:\\users\\danru\\anaconda3\\lib\\site-packages (from click->nltk->cltk==0.1.32) (0.4.6)\n",
      "Using cached GitPython-3.1.40-py3-none-any.whl (190 kB)\n",
      "Using cached gitdb-4.0.11-py3-none-any.whl (62 kB)\n",
      "Using cached smmap-5.0.1-py3-none-any.whl (24 kB)\n",
      "Building wheels for collected packages: cltk\n",
      "  Building wheel for cltk (setup.py): started\n",
      "  Building wheel for cltk (setup.py): finished with status 'done'\n",
      "  Created wheel for cltk: filename=cltk-0.1.32-py3-none-any.whl size=310549 sha256=da6dc5e25320ddce6f37d1190dd020c9248f791ccf3903302b2c1b167260075b\n",
      "  Stored in directory: c:\\users\\danru\\appdata\\local\\pip\\cache\\wheels\\77\\a2\\95\\cc397a7d44a6f52da65ce086a249882c0c899af517c324642f\n",
      "Successfully built cltk\n",
      "Installing collected packages: whoosh, smmap, gitdb, gitpython, cltk\n",
      "Successfully installed cltk-0.1.32 gitdb-4.0.11 gitpython-3.1.40 smmap-5.0.1 whoosh-2.7.4\n",
      "Note: you may need to restart the kernel to use updated packages.\n"
     ]
    }
   ],
   "source": [
    "pip install cltk==0.1.32"
   ]
  },
  {
   "cell_type": "code",
   "execution_count": 6,
   "id": "336370ad",
   "metadata": {},
   "outputs": [
    {
     "name": "stdout",
     "output_type": "stream",
     "text": [
      "['latin_text_perseus', 'latin_treebank_perseus', 'latin_text_lacus_curtius', 'latin_text_latin_library', 'phi5', 'phi7', 'latin_proper_names_cltk', 'latin_models_cltk', 'latin_pos_lemmata_cltk', 'latin_treebank_index_thomisticus', 'latin_lexica_perseus', 'latin_training_set_sentence_cltk', 'latin_word2vec_cltk']\n"
     ]
    }
   ],
   "source": [
    "from cltk.corpus.utils.importer import CorpusImporter\n",
    "corpus_importer = CorpusImporter(\"latin\")\n",
    "print (corpus_importer.list_corpora)\n",
    "corpus_importer.import_corpus(\"latin_models_cltk\")"
   ]
  },
  {
   "cell_type": "code",
   "execution_count": null,
   "id": "d8370dbb",
   "metadata": {},
   "outputs": [],
   "source": []
  }
 ],
 "metadata": {
  "kernelspec": {
   "display_name": "Python 3 (ipykernel)",
   "language": "python",
   "name": "python3"
  },
  "language_info": {
   "codemirror_mode": {
    "name": "ipython",
    "version": 3
   },
   "file_extension": ".py",
   "mimetype": "text/x-python",
   "name": "python",
   "nbconvert_exporter": "python",
   "pygments_lexer": "ipython3",
   "version": "3.11.4"
  }
 },
 "nbformat": 4,
 "nbformat_minor": 5
}
