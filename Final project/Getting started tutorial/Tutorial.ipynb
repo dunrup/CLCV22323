{
 "cells": [
  {
   "cell_type": "code",
   "execution_count": null,
   "id": "83b9bc65",
   "metadata": {},
   "outputs": [],
   "source": [
    "# https://legacy.cltk.org/en/latest/installation.html#with-pip"
   ]
  },
  {
   "cell_type": "code",
   "execution_count": 21,
   "id": "05177452",
   "metadata": {},
   "outputs": [
    {
     "name": "stdout",
     "output_type": "stream",
     "text": [
      "Requirement already satisfied: cltk==0.1.32 in c:\\users\\danru\\anaconda3\\lib\\site-packages (0.1.32)Note: you may need to restart the kernel to use updated packages.\n",
      "\n",
      "Requirement already satisfied: nltk in c:\\users\\danru\\anaconda3\\lib\\site-packages (from cltk==0.1.32) (3.8.1)\n",
      "Requirement already satisfied: gitpython in c:\\users\\danru\\anaconda3\\lib\\site-packages (from cltk==0.1.32) (3.1.40)\n",
      "Requirement already satisfied: regex in c:\\users\\danru\\anaconda3\\lib\\site-packages (from cltk==0.1.32) (2022.7.9)\n",
      "Requirement already satisfied: whoosh in c:\\users\\danru\\anaconda3\\lib\\site-packages (from cltk==0.1.32) (2.7.4)\n",
      "Requirement already satisfied: gitdb<5,>=4.0.1 in c:\\users\\danru\\anaconda3\\lib\\site-packages (from gitpython->cltk==0.1.32) (4.0.11)\n",
      "Requirement already satisfied: click in c:\\users\\danru\\anaconda3\\lib\\site-packages (from nltk->cltk==0.1.32) (8.0.4)\n",
      "Requirement already satisfied: joblib in c:\\users\\danru\\anaconda3\\lib\\site-packages (from nltk->cltk==0.1.32) (1.2.0)\n",
      "Requirement already satisfied: tqdm in c:\\users\\danru\\anaconda3\\lib\\site-packages (from nltk->cltk==0.1.32) (4.65.0)\n",
      "Requirement already satisfied: smmap<6,>=3.0.1 in c:\\users\\danru\\anaconda3\\lib\\site-packages (from gitdb<5,>=4.0.1->gitpython->cltk==0.1.32) (5.0.1)\n",
      "Requirement already satisfied: colorama in c:\\users\\danru\\anaconda3\\lib\\site-packages (from click->nltk->cltk==0.1.32) (0.4.6)\n"
     ]
    }
   ],
   "source": [
    "pip install cltk==0.1.32"
   ]
  },
  {
   "cell_type": "code",
   "execution_count": 22,
   "id": "336370ad",
   "metadata": {},
   "outputs": [
    {
     "name": "stdout",
     "output_type": "stream",
     "text": [
      "['latin_text_perseus', 'latin_treebank_perseus', 'latin_text_lacus_curtius', 'latin_text_latin_library', 'phi5', 'phi7', 'latin_proper_names_cltk', 'latin_models_cltk', 'latin_pos_lemmata_cltk', 'latin_treebank_index_thomisticus', 'latin_lexica_perseus', 'latin_training_set_sentence_cltk', 'latin_word2vec_cltk']\n"
     ]
    }
   ],
   "source": [
    "from cltk.corpus.utils.importer import CorpusImporter\n",
    "corpus_importer = CorpusImporter(\"latin\")\n",
    "print (corpus_importer.list_corpora)\n"
   ]
  },
  {
   "cell_type": "code",
   "execution_count": 30,
   "id": "d8370dbb",
   "metadata": {},
   "outputs": [],
   "source": [
    "# corpus_importer.import_corpus(\"latin_text_perseus\")\n",
    "# corpus_importer.import_corpus(\"latin_treebank_perseus\")\n",
    "# corpus_importer.import_corpus(\"latin_text_lacus_curtius\")\n",
    "corpus_importer.import_corpus(\"latin_text_latin_library\")\n",
    "corpus_importer.import_corpus(\"latin_proper_names_cltk\")\n",
    "corpus_importer.import_corpus(\"latin_models_cltk\")\n",
    "# corpus_importer.import_corpus(\"latin_pos_lemmata_cltk\")\n",
    "# corpus_importer.import_corpus(\"latin_treebank_index_thomisticus\")\n",
    "# corpus_importer.import_corpus(\"laatin_lexica_perseus'\")\n",
    "# corpus_importer.import_corpus(\"latin_training_set_sentence_cltk\")\n",
    "# corpus_importer.import_corpus(\"latin_word2vec_cltk\")"
   ]
  },
  {
   "cell_type": "code",
   "execution_count": 18,
   "id": "e874c1d0",
   "metadata": {},
   "outputs": [
    {
     "ename": "ModuleNotFoundError",
     "evalue": "No module named 'cltk.corpus.readers'",
     "output_type": "error",
     "traceback": [
      "\u001b[1;31m---------------------------------------------------------------------------\u001b[0m",
      "\u001b[1;31mModuleNotFoundError\u001b[0m                       Traceback (most recent call last)",
      "Cell \u001b[1;32mIn[18], line 1\u001b[0m\n\u001b[1;32m----> 1\u001b[0m \u001b[38;5;28;01mfrom\u001b[39;00m \u001b[38;5;21;01mcltk\u001b[39;00m\u001b[38;5;21;01m.\u001b[39;00m\u001b[38;5;21;01mcorpus\u001b[39;00m\u001b[38;5;21;01m.\u001b[39;00m\u001b[38;5;21;01mreaders\u001b[39;00m \u001b[38;5;28;01mimport\u001b[39;00m get_corpus_reader\n",
      "\u001b[1;31mModuleNotFoundError\u001b[0m: No module named 'cltk.corpus.readers'"
     ]
    }
   ],
   "source": [
    "from cltk.corpus.readers import get_corpus_reader\n",
    "# latin_corpus = get_corpus_reader(corpus_name=\"latin_text_perseus\", language=\"latin\")"
   ]
  },
  {
   "cell_type": "code",
   "execution_count": null,
   "id": "f927e5fb",
   "metadata": {},
   "outputs": [],
   "source": []
  }
 ],
 "metadata": {
  "kernelspec": {
   "display_name": "Python 3 (ipykernel)",
   "language": "python",
   "name": "python3"
  },
  "language_info": {
   "codemirror_mode": {
    "name": "ipython",
    "version": 3
   },
   "file_extension": ".py",
   "mimetype": "text/x-python",
   "name": "python",
   "nbconvert_exporter": "python",
   "pygments_lexer": "ipython3",
   "version": "3.11.4"
  }
 },
 "nbformat": 4,
 "nbformat_minor": 5
}
