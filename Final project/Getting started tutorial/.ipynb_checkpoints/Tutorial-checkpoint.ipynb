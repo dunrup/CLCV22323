{
 "cells": [
  {
   "cell_type": "code",
   "execution_count": null,
   "id": "83b9bc65",
   "metadata": {},
   "outputs": [],
   "source": [
    "# https://legacy.cltk.org/en/latest/installation.html#with-pip"
   ]
  },
  {
   "cell_type": "code",
   "execution_count": null,
   "id": "05177452",
   "metadata": {},
   "outputs": [],
   "source": [
    "# pip install cltk==0.1.32"
   ]
  },
  {
   "cell_type": "code",
   "execution_count": 5,
   "id": "336370ad",
   "metadata": {},
   "outputs": [
    {
     "name": "stdout",
     "output_type": "stream",
     "text": [
      "['latin_text_perseus', 'latin_treebank_perseus', 'latin_text_lacus_curtius', 'latin_text_latin_library', 'phi5', 'phi7', 'latin_proper_names_cltk', 'latin_models_cltk', 'latin_pos_lemmata_cltk', 'latin_treebank_index_thomisticus', 'latin_lexica_perseus', 'latin_training_set_sentence_cltk', 'latin_word2vec_cltk']\n"
     ]
    }
   ],
   "source": [
    "from cltk.corpus.utils.importer import CorpusImporter\n",
    "corpus_importer = CorpusImporter(\"latin\")\n",
    "print (corpus_importer.list_corpora)\n"
   ]
  },
  {
   "cell_type": "code",
   "execution_count": 6,
   "id": "d8370dbb",
   "metadata": {},
   "outputs": [],
   "source": [
    "# corpus_importer.import_corpus(\"latin_text_perseus\")\n",
    "# corpus_importer.import_corpus(\"latin_treebank_perseus\")\n",
    "# corpus_importer.import_corpus(\"latin_text_lacus_curtius\")\n",
    "# corpus_importer.import_corpus(\"latin_text_latin_library\")\n",
    "# corpus_importer.import_corpus(\"latin_proper_names_cltk\")\n",
    "# corpus_importer.import_corpus(\"latin_models_cltk\")\n",
    "# corpus_importer.import_corpus(\"latin_pos_lemmata_cltk\")\n",
    "# corpus_importer.import_corpus(\"latin_treebank_index_thomisticus\")\n",
    "# corpus_importer.import_corpus(\"laatin_lexica_perseus'\")\n",
    "# corpus_importer.import_corpus(\"latin_training_set_sentence_cltk\")\n",
    "# corpus_importer.import_corpus(\"latin_word2vec_cltk\")"
   ]
  },
  {
   "cell_type": "code",
   "execution_count": null,
   "id": "d35bb098",
   "metadata": {},
   "outputs": [],
   "source": [
    "from cltk.corpus.readers import get_corpus\n",
    "latin_corpus = get_corpus_reader(corpus_name = \"\")"
   ]
  }
 ],
 "metadata": {
  "kernelspec": {
   "display_name": "Python 3 (ipykernel)",
   "language": "python",
   "name": "python3"
  },
  "language_info": {
   "codemirror_mode": {
    "name": "ipython",
    "version": 3
   },
   "file_extension": ".py",
   "mimetype": "text/x-python",
   "name": "python",
   "nbconvert_exporter": "python",
   "pygments_lexer": "ipython3",
   "version": "3.11.4"
  }
 },
 "nbformat": 4,
 "nbformat_minor": 5
}
