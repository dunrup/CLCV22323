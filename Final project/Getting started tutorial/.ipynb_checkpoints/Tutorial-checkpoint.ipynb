{
 "cells": [
  {
   "cell_type": "code",
   "execution_count": null,
   "id": "de6a0219",
   "metadata": {},
   "outputs": [],
   "source": [
    "# https://legacy.cltk.org/en/latest/installation.html#with-pip"
   ]
  },
  {
   "cell_type": "code",
   "execution_count": null,
   "id": "1ba6a87e",
   "metadata": {},
   "outputs": [],
   "source": [
    "pip install cltk"
   ]
  },
  {
   "cell_type": "code",
   "execution_count": null,
   "id": "3c8e9bb7",
   "metadata": {},
   "outputs": [],
   "source": [
    "from cltk.corpus.utils.importer import CorpusImporter\n",
    "corpus_importer = CorpusImporter(\"latin\")\n",
    "print (corpus_importer.list_corpora)\n",
    "corpus_importer.import_corpus(\"latin_models_cltk\")"
   ]
  },
  {
   "cell_type": "code",
   "execution_count": null,
   "id": "e870fe2f",
   "metadata": {},
   "outputs": [],
   "source": []
  }
 ],
 "metadata": {
  "kernelspec": {
   "display_name": "Python 3 (ipykernel)",
   "language": "python",
   "name": "python3"
  },
  "language_info": {
   "codemirror_mode": {
    "name": "ipython",
    "version": 3
   },
   "file_extension": ".py",
   "mimetype": "text/x-python",
   "name": "python",
   "nbconvert_exporter": "python",
   "pygments_lexer": "ipython3",
   "version": "3.11.4"
  }
 },
 "nbformat": 4,
 "nbformat_minor": 5
}
