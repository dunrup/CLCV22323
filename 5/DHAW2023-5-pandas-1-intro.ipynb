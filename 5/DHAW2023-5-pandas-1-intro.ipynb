{
 "cells": [
  {
   "cell_type": "markdown",
   "id": "0c8e2ac7",
   "metadata": {},
   "source": [
    "## Pandas and CSV/EXCEL"
   ]
  },
  {
   "cell_type": "markdown",
   "id": "77233ab4",
   "metadata": {},
   "source": [
    "#### Libraries - Imports"
   ]
  },
  {
   "cell_type": "code",
   "execution_count": 1,
   "id": "20aa59fd",
   "metadata": {},
   "outputs": [],
   "source": [
    "# pip install pandas"
   ]
  },
  {
   "cell_type": "code",
   "execution_count": 2,
   "id": "dd048359",
   "metadata": {},
   "outputs": [],
   "source": [
    " # This is a convention in Python community."
   ]
  },
  {
   "cell_type": "code",
   "execution_count": 3,
   "id": "049e17f6",
   "metadata": {},
   "outputs": [],
   "source": [
    "import os\n",
    "import pandas as pd #conventional"
   ]
  },
  {
   "cell_type": "markdown",
   "id": "8af336a0",
   "metadata": {},
   "source": [
    "#### Read"
   ]
  },
  {
   "cell_type": "markdown",
   "id": "4c8ddf8e",
   "metadata": {},
   "source": [
    "Download the csv of [Roman Amphitheaters](https://github.com/roman-amphitheaters/roman-amphitheaters/blob/main/roman-amphitheaters.csv)"
   ]
  },
  {
   "cell_type": "code",
   "execution_count": 4,
   "id": "b37f89cb",
   "metadata": {},
   "outputs": [],
   "source": [
    " # df stands for dataframe, i.e., row and columns of data."
   ]
  },
  {
   "cell_type": "code",
   "execution_count": 5,
   "id": "c20c15a1",
   "metadata": {},
   "outputs": [],
   "source": [
    "df = pd.read_csv(\"roman-amphitheaters.csv\")"
   ]
  },
  {
   "cell_type": "code",
   "execution_count": 6,
   "id": "957b78fd",
   "metadata": {},
   "outputs": [],
   "source": [
    "# df"
   ]
  },
  {
   "cell_type": "code",
   "execution_count": 7,
   "id": "9703070c",
   "metadata": {},
   "outputs": [
    {
     "data": {
      "text/html": [
       "<div>\n",
       "<style scoped>\n",
       "    .dataframe tbody tr th:only-of-type {\n",
       "        vertical-align: middle;\n",
       "    }\n",
       "\n",
       "    .dataframe tbody tr th {\n",
       "        vertical-align: top;\n",
       "    }\n",
       "\n",
       "    .dataframe thead th {\n",
       "        text-align: right;\n",
       "    }\n",
       "</style>\n",
       "<table border=\"1\" class=\"dataframe\">\n",
       "  <thead>\n",
       "    <tr style=\"text-align: right;\">\n",
       "      <th></th>\n",
       "      <th>id</th>\n",
       "      <th>title</th>\n",
       "      <th>label</th>\n",
       "      <th>latintoponym</th>\n",
       "      <th>pleiades</th>\n",
       "      <th>welchid</th>\n",
       "      <th>golvinid</th>\n",
       "      <th>buildingtype</th>\n",
       "      <th>chronogroup</th>\n",
       "      <th>secondcentury</th>\n",
       "      <th>...</th>\n",
       "      <th>amphitheatrum</th>\n",
       "      <th>dimensionsunknown</th>\n",
       "      <th>arenamajor</th>\n",
       "      <th>arenaminor</th>\n",
       "      <th>extmajor</th>\n",
       "      <th>extminor</th>\n",
       "      <th>exteriorheight</th>\n",
       "      <th>longitude</th>\n",
       "      <th>latitude</th>\n",
       "      <th>elevation</th>\n",
       "    </tr>\n",
       "  </thead>\n",
       "  <tbody>\n",
       "    <tr>\n",
       "      <th>270</th>\n",
       "      <td>saintGeorgesDuBoisAmphitheater</td>\n",
       "      <td>Amphitheater at Saint-Georges-du-Bois</td>\n",
       "      <td>Saint-Georges-du-Bois</td>\n",
       "      <td>NaN</td>\n",
       "      <td>NaN</td>\n",
       "      <td>NaN</td>\n",
       "      <td>103.0</td>\n",
       "      <td>amphitheater</td>\n",
       "      <td>first-century</td>\n",
       "      <td>True</td>\n",
       "      <td>...</td>\n",
       "      <td>https://amphi-theatrum.de/1529.html</td>\n",
       "      <td>False</td>\n",
       "      <td>54.0</td>\n",
       "      <td>30.0</td>\n",
       "      <td>65.0</td>\n",
       "      <td>50.0</td>\n",
       "      <td>NaN</td>\n",
       "      <td>-0.749919</td>\n",
       "      <td>46.142723</td>\n",
       "      <td>39</td>\n",
       "    </tr>\n",
       "    <tr>\n",
       "      <th>271</th>\n",
       "      <td>toledoAmphitheater</td>\n",
       "      <td>Amphitheater at Toledo</td>\n",
       "      <td>Toledo</td>\n",
       "      <td>Toletum</td>\n",
       "      <td>https://pleiades.stoa.org/places/266066</td>\n",
       "      <td>NaN</td>\n",
       "      <td>NaN</td>\n",
       "      <td>amphitheater</td>\n",
       "      <td>imperial</td>\n",
       "      <td>True</td>\n",
       "      <td>...</td>\n",
       "      <td>https://amphi-theatrum.de/3090.html</td>\n",
       "      <td>True</td>\n",
       "      <td>NaN</td>\n",
       "      <td>NaN</td>\n",
       "      <td>NaN</td>\n",
       "      <td>NaN</td>\n",
       "      <td>NaN</td>\n",
       "      <td>-4.022888</td>\n",
       "      <td>39.865349</td>\n",
       "      <td>482</td>\n",
       "    </tr>\n",
       "    <tr>\n",
       "      <th>272</th>\n",
       "      <td>kaiseraugustAmphitheater</td>\n",
       "      <td>Amphitheater at Kaiseraugst</td>\n",
       "      <td>Kaiseraugst</td>\n",
       "      <td>Castrum Rauracense</td>\n",
       "      <td>https://pleiades.stoa.org/places/81716458</td>\n",
       "      <td>NaN</td>\n",
       "      <td>NaN</td>\n",
       "      <td>amphitheater</td>\n",
       "      <td>fourth-century</td>\n",
       "      <td>False</td>\n",
       "      <td>...</td>\n",
       "      <td>https://amphi-theatrum.de/3066.html</td>\n",
       "      <td>False</td>\n",
       "      <td>NaN</td>\n",
       "      <td>NaN</td>\n",
       "      <td>50.0</td>\n",
       "      <td>40.0</td>\n",
       "      <td>NaN</td>\n",
       "      <td>7.721596</td>\n",
       "      <td>47.540822</td>\n",
       "      <td>482</td>\n",
       "    </tr>\n",
       "    <tr>\n",
       "      <th>273</th>\n",
       "      <td>ammaiaAmphitheater</td>\n",
       "      <td>Amphitheater at Ammaia</td>\n",
       "      <td>Ammaia</td>\n",
       "      <td>Ammaia</td>\n",
       "      <td>https://pleiades.stoa.org/places/255975</td>\n",
       "      <td>NaN</td>\n",
       "      <td>NaN</td>\n",
       "      <td>amphitheater</td>\n",
       "      <td>imperial</td>\n",
       "      <td>True</td>\n",
       "      <td>...</td>\n",
       "      <td>https://amphi-theatrum.de/3020.html</td>\n",
       "      <td>False</td>\n",
       "      <td>NaN</td>\n",
       "      <td>NaN</td>\n",
       "      <td>60.0</td>\n",
       "      <td>NaN</td>\n",
       "      <td>NaN</td>\n",
       "      <td>-7.391970</td>\n",
       "      <td>39.369905</td>\n",
       "      <td>566</td>\n",
       "    </tr>\n",
       "    <tr>\n",
       "      <th>274</th>\n",
       "      <td>contributaAmphitheater</td>\n",
       "      <td>Amphitheater at Contributa Iulia Ugultunia</td>\n",
       "      <td>Contributa</td>\n",
       "      <td>Contributa Iulia Ugultunia</td>\n",
       "      <td>https://pleiades.stoa.org/places/256126</td>\n",
       "      <td>NaN</td>\n",
       "      <td>NaN</td>\n",
       "      <td>amphitheater</td>\n",
       "      <td>imperial</td>\n",
       "      <td>True</td>\n",
       "      <td>...</td>\n",
       "      <td>https://amphi-theatrum.de/3093.html</td>\n",
       "      <td>False</td>\n",
       "      <td>NaN</td>\n",
       "      <td>NaN</td>\n",
       "      <td>72.0</td>\n",
       "      <td>NaN</td>\n",
       "      <td>NaN</td>\n",
       "      <td>-6.389320</td>\n",
       "      <td>38.347751</td>\n",
       "      <td>501</td>\n",
       "    </tr>\n",
       "  </tbody>\n",
       "</table>\n",
       "<p>5 rows × 24 columns</p>\n",
       "</div>"
      ],
      "text/plain": [
       "                                 id  \\\n",
       "270  saintGeorgesDuBoisAmphitheater   \n",
       "271              toledoAmphitheater   \n",
       "272        kaiseraugustAmphitheater   \n",
       "273              ammaiaAmphitheater   \n",
       "274          contributaAmphitheater   \n",
       "\n",
       "                                          title                  label  \\\n",
       "270       Amphitheater at Saint-Georges-du-Bois  Saint-Georges-du-Bois   \n",
       "271                      Amphitheater at Toledo                 Toledo   \n",
       "272                 Amphitheater at Kaiseraugst            Kaiseraugst   \n",
       "273                      Amphitheater at Ammaia                 Ammaia   \n",
       "274  Amphitheater at Contributa Iulia Ugultunia             Contributa   \n",
       "\n",
       "                   latintoponym                                   pleiades  \\\n",
       "270                         NaN                                        NaN   \n",
       "271                     Toletum    https://pleiades.stoa.org/places/266066   \n",
       "272          Castrum Rauracense  https://pleiades.stoa.org/places/81716458   \n",
       "273                      Ammaia    https://pleiades.stoa.org/places/255975   \n",
       "274  Contributa Iulia Ugultunia    https://pleiades.stoa.org/places/256126   \n",
       "\n",
       "     welchid  golvinid  buildingtype     chronogroup  secondcentury  ...  \\\n",
       "270      NaN     103.0  amphitheater   first-century           True  ...   \n",
       "271      NaN       NaN  amphitheater        imperial           True  ...   \n",
       "272      NaN       NaN  amphitheater  fourth-century          False  ...   \n",
       "273      NaN       NaN  amphitheater        imperial           True  ...   \n",
       "274      NaN       NaN  amphitheater        imperial           True  ...   \n",
       "\n",
       "                           amphitheatrum dimensionsunknown arenamajor  \\\n",
       "270  https://amphi-theatrum.de/1529.html             False       54.0   \n",
       "271  https://amphi-theatrum.de/3090.html              True        NaN   \n",
       "272  https://amphi-theatrum.de/3066.html             False        NaN   \n",
       "273  https://amphi-theatrum.de/3020.html             False        NaN   \n",
       "274  https://amphi-theatrum.de/3093.html             False        NaN   \n",
       "\n",
       "    arenaminor extmajor  extminor  exteriorheight  longitude   latitude  \\\n",
       "270       30.0     65.0      50.0             NaN  -0.749919  46.142723   \n",
       "271        NaN      NaN       NaN             NaN  -4.022888  39.865349   \n",
       "272        NaN     50.0      40.0             NaN   7.721596  47.540822   \n",
       "273        NaN     60.0       NaN             NaN  -7.391970  39.369905   \n",
       "274        NaN     72.0       NaN             NaN  -6.389320  38.347751   \n",
       "\n",
       "     elevation  \n",
       "270         39  \n",
       "271        482  \n",
       "272        482  \n",
       "273        566  \n",
       "274        501  \n",
       "\n",
       "[5 rows x 24 columns]"
      ]
     },
     "execution_count": 7,
     "metadata": {},
     "output_type": "execute_result"
    }
   ],
   "source": [
    "df.head(10) #first x rows\n",
    "df.tail(5) # last x rows"
   ]
  },
  {
   "cell_type": "markdown",
   "id": "682c9941",
   "metadata": {},
   "source": [
    "#### Data types in our csv"
   ]
  },
  {
   "cell_type": "code",
   "execution_count": 8,
   "id": "eca38ded",
   "metadata": {},
   "outputs": [
    {
     "data": {
      "text/plain": [
       "(275, 24)"
      ]
     },
     "execution_count": 8,
     "metadata": {},
     "output_type": "execute_result"
    }
   ],
   "source": [
    "df.shape # notice that this is an attribute so no parentheses"
   ]
  },
  {
   "cell_type": "code",
   "execution_count": 9,
   "id": "caada7ac",
   "metadata": {},
   "outputs": [
    {
     "name": "stdout",
     "output_type": "stream",
     "text": [
      "<class 'pandas.core.frame.DataFrame'>\n",
      "RangeIndex: 275 entries, 0 to 274\n",
      "Data columns (total 24 columns):\n",
      " #   Column             Non-Null Count  Dtype  \n",
      "---  ------             --------------  -----  \n",
      " 0   id                 275 non-null    object \n",
      " 1   title              275 non-null    object \n",
      " 2   label              275 non-null    object \n",
      " 3   latintoponym       261 non-null    object \n",
      " 4   pleiades           274 non-null    object \n",
      " 5   welchid            19 non-null     float64\n",
      " 6   golvinid           166 non-null    float64\n",
      " 7   buildingtype       275 non-null    object \n",
      " 8   chronogroup        275 non-null    object \n",
      " 9   secondcentury      275 non-null    bool   \n",
      " 10  capacity           153 non-null    float64\n",
      " 11  modcountry         275 non-null    object \n",
      " 12  romanregion        274 non-null    object \n",
      " 13  zotero             56 non-null     object \n",
      " 14  amphitheatrum      239 non-null    object \n",
      " 15  dimensionsunknown  275 non-null    bool   \n",
      " 16  arenamajor         184 non-null    float64\n",
      " 17  arenaminor         179 non-null    float64\n",
      " 18  extmajor           219 non-null    float64\n",
      " 19  extminor           198 non-null    float64\n",
      " 20  exteriorheight     3 non-null      float64\n",
      " 21  longitude          275 non-null    float64\n",
      " 22  latitude           275 non-null    float64\n",
      " 23  elevation          275 non-null    int64  \n",
      "dtypes: bool(2), float64(10), int64(1), object(11)\n",
      "memory usage: 47.9+ KB\n"
     ]
    }
   ],
   "source": [
    "df.info() # notice that this is a methon, so we need parentheses"
   ]
  },
  {
   "cell_type": "code",
   "execution_count": 10,
   "id": "f1f2b695",
   "metadata": {},
   "outputs": [],
   "source": [
    "pd.set_option('display.max_rows', 500)\n",
    "pd.set_option('display.max_columns', 500)\n",
    "pd.set_option('display.width', 1000)"
   ]
  },
  {
   "cell_type": "markdown",
   "id": "1d881d32",
   "metadata": {},
   "source": [
    "### Example: Shipwrecks Database"
   ]
  },
  {
   "cell_type": "markdown",
   "id": "e00ed8c9",
   "metadata": {},
   "source": [
    "Download the [Shipwrecks Database](http://oxrep.classics.ox.ac.uk/docs/StraussShipwrecks.zip) for the [The Oxford Roman Economy Project](http://oxrep.classics.ox.ac.uk/). "
   ]
  },
  {
   "cell_type": "code",
   "execution_count": 11,
   "id": "f9d4e8d4",
   "metadata": {},
   "outputs": [],
   "source": [
    "df = pd.read_excel(\"StraussShipwrecks.xlsx\")"
   ]
  },
  {
   "cell_type": "code",
   "execution_count": 12,
   "id": "a27c2093",
   "metadata": {},
   "outputs": [],
   "source": [
    "# df"
   ]
  },
  {
   "cell_type": "markdown",
   "id": "6613f0ff",
   "metadata": {},
   "source": [
    "#### Access one column"
   ]
  },
  {
   "cell_type": "code",
   "execution_count": 13,
   "id": "6a416ad1",
   "metadata": {},
   "outputs": [
    {
     "data": {
      "text/plain": [
       "0       Adriatic\n",
       "1       Adriatic\n",
       "2       Adriatic\n",
       "3       Adriatic\n",
       "4       Adriatic\n",
       "          ...   \n",
       "1779         NaN\n",
       "1780         NaN\n",
       "1781         NaN\n",
       "1782         NaN\n",
       "1783         NaN\n",
       "Name: Sea area, Length: 1784, dtype: object"
      ]
     },
     "execution_count": 13,
     "metadata": {},
     "output_type": "execute_result"
    }
   ],
   "source": [
    "df['Sea area']"
   ]
  },
  {
   "cell_type": "markdown",
   "id": "4ab8df50",
   "metadata": {},
   "source": [
    "#### What datatype is this?"
   ]
  },
  {
   "cell_type": "code",
   "execution_count": 14,
   "id": "61375761",
   "metadata": {},
   "outputs": [
    {
     "data": {
      "text/plain": [
       "pandas.core.series.Series"
      ]
     },
     "execution_count": 14,
     "metadata": {},
     "output_type": "execute_result"
    }
   ],
   "source": [
    "type(df['Sea area'])"
   ]
  },
  {
   "cell_type": "markdown",
   "id": "2ef984b1",
   "metadata": {},
   "source": [
    "#### Access two columns"
   ]
  },
  {
   "cell_type": "code",
   "execution_count": 15,
   "id": "cb3f421a",
   "metadata": {},
   "outputs": [
    {
     "data": {
      "text/html": [
       "<div>\n",
       "<style scoped>\n",
       "    .dataframe tbody tr th:only-of-type {\n",
       "        vertical-align: middle;\n",
       "    }\n",
       "\n",
       "    .dataframe tbody tr th {\n",
       "        vertical-align: top;\n",
       "    }\n",
       "\n",
       "    .dataframe thead th {\n",
       "        text-align: right;\n",
       "    }\n",
       "</style>\n",
       "<table border=\"1\" class=\"dataframe\">\n",
       "  <thead>\n",
       "    <tr style=\"text-align: right;\">\n",
       "      <th></th>\n",
       "      <th>Name</th>\n",
       "      <th>Sea area</th>\n",
       "    </tr>\n",
       "  </thead>\n",
       "  <tbody>\n",
       "    <tr>\n",
       "      <th>0</th>\n",
       "      <td>Komiza</td>\n",
       "      <td>Adriatic</td>\n",
       "    </tr>\n",
       "    <tr>\n",
       "      <th>1</th>\n",
       "      <td>Lokunji</td>\n",
       "      <td>Adriatic</td>\n",
       "    </tr>\n",
       "    <tr>\n",
       "      <th>2</th>\n",
       "      <td>Maharac Cape</td>\n",
       "      <td>Adriatic</td>\n",
       "    </tr>\n",
       "    <tr>\n",
       "      <th>3</th>\n",
       "      <td>Mlin</td>\n",
       "      <td>Adriatic</td>\n",
       "    </tr>\n",
       "    <tr>\n",
       "      <th>4</th>\n",
       "      <td>Plavac B</td>\n",
       "      <td>Adriatic</td>\n",
       "    </tr>\n",
       "    <tr>\n",
       "      <th>...</th>\n",
       "      <td>...</td>\n",
       "      <td>...</td>\n",
       "    </tr>\n",
       "    <tr>\n",
       "      <th>1779</th>\n",
       "      <td>Olbia Late Roman 2</td>\n",
       "      <td>NaN</td>\n",
       "    </tr>\n",
       "    <tr>\n",
       "      <th>1780</th>\n",
       "      <td>Olbia medieval</td>\n",
       "      <td>NaN</td>\n",
       "    </tr>\n",
       "    <tr>\n",
       "      <th>1781</th>\n",
       "      <td>Isola della Gallinara (Savona)</td>\n",
       "      <td>NaN</td>\n",
       "    </tr>\n",
       "    <tr>\n",
       "      <th>1782</th>\n",
       "      <td>San Vito Lo Capo</td>\n",
       "      <td>NaN</td>\n",
       "    </tr>\n",
       "    <tr>\n",
       "      <th>1783</th>\n",
       "      <td>Capo Colonna and Capo Alfieri</td>\n",
       "      <td>NaN</td>\n",
       "    </tr>\n",
       "  </tbody>\n",
       "</table>\n",
       "<p>1784 rows × 2 columns</p>\n",
       "</div>"
      ],
      "text/plain": [
       "                                Name  Sea area\n",
       "0                             Komiza  Adriatic\n",
       "1                            Lokunji  Adriatic\n",
       "2                       Maharac Cape  Adriatic\n",
       "3                               Mlin  Adriatic\n",
       "4                           Plavac B  Adriatic\n",
       "...                              ...       ...\n",
       "1779              Olbia Late Roman 2       NaN\n",
       "1780                  Olbia medieval       NaN\n",
       "1781  Isola della Gallinara (Savona)       NaN\n",
       "1782                San Vito Lo Capo       NaN\n",
       "1783   Capo Colonna and Capo Alfieri       NaN\n",
       "\n",
       "[1784 rows x 2 columns]"
      ]
     },
     "execution_count": 15,
     "metadata": {},
     "output_type": "execute_result"
    }
   ],
   "source": [
    "df[['Name','Sea area']]"
   ]
  },
  {
   "cell_type": "code",
   "execution_count": 16,
   "id": "556d4b41",
   "metadata": {},
   "outputs": [
    {
     "data": {
      "text/html": [
       "<div>\n",
       "<style scoped>\n",
       "    .dataframe tbody tr th:only-of-type {\n",
       "        vertical-align: middle;\n",
       "    }\n",
       "\n",
       "    .dataframe tbody tr th {\n",
       "        vertical-align: top;\n",
       "    }\n",
       "\n",
       "    .dataframe thead th {\n",
       "        text-align: right;\n",
       "    }\n",
       "</style>\n",
       "<table border=\"1\" class=\"dataframe\">\n",
       "  <thead>\n",
       "    <tr style=\"text-align: right;\">\n",
       "      <th></th>\n",
       "      <th>Wreck ID</th>\n",
       "      <th>Name</th>\n",
       "      <th>Sea area</th>\n",
       "    </tr>\n",
       "  </thead>\n",
       "  <tbody>\n",
       "    <tr>\n",
       "      <th>0</th>\n",
       "      <td>1</td>\n",
       "      <td>Komiza</td>\n",
       "      <td>Adriatic</td>\n",
       "    </tr>\n",
       "    <tr>\n",
       "      <th>1</th>\n",
       "      <td>2</td>\n",
       "      <td>Lokunji</td>\n",
       "      <td>Adriatic</td>\n",
       "    </tr>\n",
       "    <tr>\n",
       "      <th>2</th>\n",
       "      <td>3</td>\n",
       "      <td>Maharac Cape</td>\n",
       "      <td>Adriatic</td>\n",
       "    </tr>\n",
       "    <tr>\n",
       "      <th>3</th>\n",
       "      <td>4</td>\n",
       "      <td>Mlin</td>\n",
       "      <td>Adriatic</td>\n",
       "    </tr>\n",
       "    <tr>\n",
       "      <th>4</th>\n",
       "      <td>5</td>\n",
       "      <td>Plavac B</td>\n",
       "      <td>Adriatic</td>\n",
       "    </tr>\n",
       "    <tr>\n",
       "      <th>...</th>\n",
       "      <td>...</td>\n",
       "      <td>...</td>\n",
       "      <td>...</td>\n",
       "    </tr>\n",
       "    <tr>\n",
       "      <th>1779</th>\n",
       "      <td>9058</td>\n",
       "      <td>Olbia Late Roman 2</td>\n",
       "      <td>NaN</td>\n",
       "    </tr>\n",
       "    <tr>\n",
       "      <th>1780</th>\n",
       "      <td>9059</td>\n",
       "      <td>Olbia medieval</td>\n",
       "      <td>NaN</td>\n",
       "    </tr>\n",
       "    <tr>\n",
       "      <th>1781</th>\n",
       "      <td>9060</td>\n",
       "      <td>Isola della Gallinara (Savona)</td>\n",
       "      <td>NaN</td>\n",
       "    </tr>\n",
       "    <tr>\n",
       "      <th>1782</th>\n",
       "      <td>9061</td>\n",
       "      <td>San Vito Lo Capo</td>\n",
       "      <td>NaN</td>\n",
       "    </tr>\n",
       "    <tr>\n",
       "      <th>1783</th>\n",
       "      <td>9063</td>\n",
       "      <td>Capo Colonna and Capo Alfieri</td>\n",
       "      <td>NaN</td>\n",
       "    </tr>\n",
       "  </tbody>\n",
       "</table>\n",
       "<p>1784 rows × 3 columns</p>\n",
       "</div>"
      ],
      "text/plain": [
       "      Wreck ID                            Name  Sea area\n",
       "0            1                          Komiza  Adriatic\n",
       "1            2                         Lokunji  Adriatic\n",
       "2            3                    Maharac Cape  Adriatic\n",
       "3            4                            Mlin  Adriatic\n",
       "4            5                        Plavac B  Adriatic\n",
       "...        ...                             ...       ...\n",
       "1779      9058              Olbia Late Roman 2       NaN\n",
       "1780      9059                  Olbia medieval       NaN\n",
       "1781      9060  Isola della Gallinara (Savona)       NaN\n",
       "1782      9061                San Vito Lo Capo       NaN\n",
       "1783      9063   Capo Colonna and Capo Alfieri       NaN\n",
       "\n",
       "[1784 rows x 3 columns]"
      ]
     },
     "execution_count": 16,
     "metadata": {},
     "output_type": "execute_result"
    }
   ],
   "source": [
    "df[['Wreck ID','Name','Sea area']]"
   ]
  },
  {
   "cell_type": "markdown",
   "id": "325c7c81",
   "metadata": {},
   "source": [
    "Check [here](https://www.w3schools.com/python/pandas/pandas_series.asp)."
   ]
  },
  {
   "cell_type": "markdown",
   "id": "5feb0fab",
   "metadata": {},
   "source": [
    "#### What datatype is this now?"
   ]
  },
  {
   "cell_type": "code",
   "execution_count": 17,
   "id": "ce9195e8",
   "metadata": {},
   "outputs": [
    {
     "data": {
      "text/plain": [
       "pandas.core.frame.DataFrame"
      ]
     },
     "execution_count": 17,
     "metadata": {},
     "output_type": "execute_result"
    }
   ],
   "source": [
    "type(df[['Name','Sea area']])"
   ]
  },
  {
   "cell_type": "markdown",
   "id": "47acf9c8",
   "metadata": {},
   "source": [
    "#### Get all columns"
   ]
  },
  {
   "cell_type": "code",
   "execution_count": 18,
   "id": "003b5903",
   "metadata": {},
   "outputs": [],
   "source": [
    "# df"
   ]
  },
  {
   "cell_type": "markdown",
   "id": "9ea2ac31",
   "metadata": {},
   "source": [
    "### Get all rows\n",
    "- iloc (integer location)\n",
    "- loc"
   ]
  },
  {
   "cell_type": "markdown",
   "id": "73032866",
   "metadata": {},
   "source": [
    "### 1) iloc"
   ]
  },
  {
   "cell_type": "code",
   "execution_count": 19,
   "id": "df067ff2",
   "metadata": {},
   "outputs": [
    {
     "data": {
      "text/plain": [
       "Wreck ID                                                                   1\n",
       "Strauss ID                                                               331\n",
       "Name                                                                  Komiza\n",
       "Parker Number                                                            NaN\n",
       "Sea area                                                            Adriatic\n",
       "Country                                                              Croatia\n",
       "Region                                                            Vis Island\n",
       "Latitude                                                            43.03333\n",
       "Longitude                                                           16.08333\n",
       "Min depth                                                               30.0\n",
       "Max depth                                                               30.0\n",
       "Depth                                                                    30m\n",
       "Period                                                        Roman Imperial\n",
       "Dating                                                           C1st-2nd AD\n",
       "Earliest date                                                            1.0\n",
       "Latest date                                                            200.0\n",
       "Date range                                                               NaN\n",
       "Mid point of date range                                                  NaN\n",
       "Probability                                                              NaN\n",
       "Place of origin                                                        Egypt\n",
       "Place of destination                                          Northern Italy\n",
       "Reference                  M. Jurišić, Ancient Shipwrecks of the Adriatic...\n",
       "Comments                   Completely looted site with sherds of Egyptian...\n",
       "Amphorae                                                                True\n",
       "Marble                                                                 False\n",
       "Columns etc                                                            False\n",
       "Sarcophagi                                                             False\n",
       "Blocks                                                                 False\n",
       "Marble type                                                              NaN\n",
       "Other cargo                                                              NaN\n",
       "Hull remains                                                             NaN\n",
       "Shipboard paraphernalia                                                  NaN\n",
       "Ship equipment                                                           NaN\n",
       "Estimated tonnage                                                        NaN\n",
       "Amphora type                                                             NaN\n",
       "Name: 0, dtype: object"
      ]
     },
     "execution_count": 19,
     "metadata": {},
     "output_type": "execute_result"
    }
   ],
   "source": [
    "df.iloc[0] #gives the first row"
   ]
  },
  {
   "cell_type": "markdown",
   "id": "8392da4b",
   "metadata": {},
   "source": [
    "#### How can we get the first two rows?"
   ]
  },
  {
   "cell_type": "code",
   "execution_count": 20,
   "id": "7b447287",
   "metadata": {},
   "outputs": [
    {
     "data": {
      "text/html": [
       "<div>\n",
       "<style scoped>\n",
       "    .dataframe tbody tr th:only-of-type {\n",
       "        vertical-align: middle;\n",
       "    }\n",
       "\n",
       "    .dataframe tbody tr th {\n",
       "        vertical-align: top;\n",
       "    }\n",
       "\n",
       "    .dataframe thead th {\n",
       "        text-align: right;\n",
       "    }\n",
       "</style>\n",
       "<table border=\"1\" class=\"dataframe\">\n",
       "  <thead>\n",
       "    <tr style=\"text-align: right;\">\n",
       "      <th></th>\n",
       "      <th>Wreck ID</th>\n",
       "      <th>Strauss ID</th>\n",
       "      <th>Name</th>\n",
       "      <th>Parker Number</th>\n",
       "      <th>Sea area</th>\n",
       "      <th>Country</th>\n",
       "      <th>Region</th>\n",
       "      <th>Latitude</th>\n",
       "      <th>Longitude</th>\n",
       "      <th>Min depth</th>\n",
       "      <th>Max depth</th>\n",
       "      <th>Depth</th>\n",
       "      <th>Period</th>\n",
       "      <th>Dating</th>\n",
       "      <th>Earliest date</th>\n",
       "      <th>Latest date</th>\n",
       "      <th>Date range</th>\n",
       "      <th>Mid point of date range</th>\n",
       "      <th>Probability</th>\n",
       "      <th>Place of origin</th>\n",
       "      <th>Place of destination</th>\n",
       "      <th>Reference</th>\n",
       "      <th>Comments</th>\n",
       "      <th>Amphorae</th>\n",
       "      <th>Marble</th>\n",
       "      <th>Columns etc</th>\n",
       "      <th>Sarcophagi</th>\n",
       "      <th>Blocks</th>\n",
       "      <th>Marble type</th>\n",
       "      <th>Other cargo</th>\n",
       "      <th>Hull remains</th>\n",
       "      <th>Shipboard paraphernalia</th>\n",
       "      <th>Ship equipment</th>\n",
       "      <th>Estimated tonnage</th>\n",
       "      <th>Amphora type</th>\n",
       "    </tr>\n",
       "  </thead>\n",
       "  <tbody>\n",
       "    <tr>\n",
       "      <th>0</th>\n",
       "      <td>1</td>\n",
       "      <td>331</td>\n",
       "      <td>Komiza</td>\n",
       "      <td>NaN</td>\n",
       "      <td>Adriatic</td>\n",
       "      <td>Croatia</td>\n",
       "      <td>Vis Island</td>\n",
       "      <td>43.03333</td>\n",
       "      <td>16.08333</td>\n",
       "      <td>30.0</td>\n",
       "      <td>30.0</td>\n",
       "      <td>30m</td>\n",
       "      <td>Roman Imperial</td>\n",
       "      <td>C1st-2nd AD</td>\n",
       "      <td>1.0</td>\n",
       "      <td>200.0</td>\n",
       "      <td>NaN</td>\n",
       "      <td>NaN</td>\n",
       "      <td>NaN</td>\n",
       "      <td>Egypt</td>\n",
       "      <td>Northern Italy</td>\n",
       "      <td>M. Jurišić, Ancient Shipwrecks of the Adriatic...</td>\n",
       "      <td>Completely looted site with sherds of Egyptian...</td>\n",
       "      <td>True</td>\n",
       "      <td>False</td>\n",
       "      <td>False</td>\n",
       "      <td>False</td>\n",
       "      <td>False</td>\n",
       "      <td>NaN</td>\n",
       "      <td>NaN</td>\n",
       "      <td>NaN</td>\n",
       "      <td>NaN</td>\n",
       "      <td>NaN</td>\n",
       "      <td>NaN</td>\n",
       "      <td>NaN</td>\n",
       "    </tr>\n",
       "    <tr>\n",
       "      <th>1</th>\n",
       "      <td>2</td>\n",
       "      <td>328</td>\n",
       "      <td>Lokunji</td>\n",
       "      <td>NaN</td>\n",
       "      <td>Adriatic</td>\n",
       "      <td>Croatia</td>\n",
       "      <td>Kvarner region</td>\n",
       "      <td>44.70000</td>\n",
       "      <td>14.28333</td>\n",
       "      <td>4.0</td>\n",
       "      <td>12.0</td>\n",
       "      <td>12m</td>\n",
       "      <td>Roman Imperial</td>\n",
       "      <td>C 1st AD</td>\n",
       "      <td>1.0</td>\n",
       "      <td>100.0</td>\n",
       "      <td>NaN</td>\n",
       "      <td>NaN</td>\n",
       "      <td>NaN</td>\n",
       "      <td>Cos</td>\n",
       "      <td>Northern Italy</td>\n",
       "      <td>D. Vrsalović, Istraživanja i Zaštita Podmorški...</td>\n",
       "      <td>NaN</td>\n",
       "      <td>True</td>\n",
       "      <td>False</td>\n",
       "      <td>False</td>\n",
       "      <td>False</td>\n",
       "      <td>False</td>\n",
       "      <td>NaN</td>\n",
       "      <td>NaN</td>\n",
       "      <td>NaN</td>\n",
       "      <td>NaN</td>\n",
       "      <td>NaN</td>\n",
       "      <td>NaN</td>\n",
       "      <td>NaN</td>\n",
       "    </tr>\n",
       "  </tbody>\n",
       "</table>\n",
       "</div>"
      ],
      "text/plain": [
       "   Wreck ID  Strauss ID     Name Parker Number  Sea area  Country          Region  Latitude  Longitude  Min depth  Max depth Depth          Period       Dating  Earliest date  Latest date  Date range  Mid point of date range  Probability Place of origin Place of destination                                          Reference                                           Comments  Amphorae  Marble  Columns etc  Sarcophagi  Blocks Marble type Other cargo Hull remains Shipboard paraphernalia Ship equipment  Estimated tonnage Amphora type\n",
       "0         1         331   Komiza           NaN  Adriatic  Croatia      Vis Island  43.03333   16.08333       30.0       30.0   30m  Roman Imperial  C1st-2nd AD            1.0        200.0         NaN                      NaN          NaN           Egypt       Northern Italy  M. Jurišić, Ancient Shipwrecks of the Adriatic...  Completely looted site with sherds of Egyptian...      True   False        False       False   False         NaN         NaN          NaN                     NaN            NaN                NaN          NaN\n",
       "1         2         328  Lokunji           NaN  Adriatic  Croatia  Kvarner region  44.70000   14.28333        4.0       12.0   12m  Roman Imperial     C 1st AD            1.0        100.0         NaN                      NaN          NaN             Cos       Northern Italy  D. Vrsalović, Istraživanja i Zaštita Podmorški...                                                NaN      True   False        False       False   False         NaN         NaN          NaN                     NaN            NaN                NaN          NaN"
      ]
     },
     "execution_count": 20,
     "metadata": {},
     "output_type": "execute_result"
    }
   ],
   "source": [
    "df.iloc[0:2] #gets the first two rows"
   ]
  },
  {
   "cell_type": "markdown",
   "id": "87390de7",
   "metadata": {},
   "source": [
    "#### How can we get the first column of the above df?"
   ]
  },
  {
   "cell_type": "code",
   "execution_count": 21,
   "id": "4001feb5",
   "metadata": {},
   "outputs": [
    {
     "data": {
      "text/plain": [
       "0    Adriatic\n",
       "1    Adriatic\n",
       "Name: Sea area, dtype: object"
      ]
     },
     "execution_count": 21,
     "metadata": {},
     "output_type": "execute_result"
    }
   ],
   "source": [
    "df.iloc[0:2]['Sea area'] #gets the \"Sea Area\" for the first two rows"
   ]
  },
  {
   "cell_type": "markdown",
   "id": "0b054d28",
   "metadata": {},
   "source": [
    "### 2) loc\n",
    "In this way, we do not get the first, second, etc., row. We get the row that has the index we specify."
   ]
  },
  {
   "cell_type": "code",
   "execution_count": 22,
   "id": "3866d872",
   "metadata": {},
   "outputs": [
    {
     "data": {
      "text/plain": [
       "Wreck ID                                                                  16\n",
       "Strauss ID                                                               503\n",
       "Name                                                                  Tyre F\n",
       "Parker Number                                                           1189\n",
       "Sea area                                               Eastern Mediterranean\n",
       "Country                                                              Lebanon\n",
       "Region                                             On the south side of Tyre\n",
       "Latitude                                                                 NaN\n",
       "Longitude                                                                NaN\n",
       "Min depth                                                                NaN\n",
       "Max depth                                                                NaN\n",
       "Depth                                                                Shallow\n",
       "Period                                                    Hellenistic/ Roman\n",
       "Dating                                                          C 3rd-2nd BC\n",
       "Earliest date                                                         -200.0\n",
       "Latest date                                                           -100.0\n",
       "Date range                                                               NaN\n",
       "Mid point of date range                                                  NaN\n",
       "Probability                                                              NaN\n",
       "Place of origin                                                            ?\n",
       "Place of destination                                                       ?\n",
       "Reference                  Summary reports, R. Marx, IJNA 3 (1974), 332; ...\n",
       "Comments                   Presumably amphorae were found at this looted ...\n",
       "Amphorae                                                                True\n",
       "Marble                                                                 False\n",
       "Columns etc                                                            False\n",
       "Sarcophagi                                                             False\n",
       "Blocks                                                                 False\n",
       "Marble type                                                              NaN\n",
       "Other cargo                                                              NaN\n",
       "Hull remains                                                             NaN\n",
       "Shipboard paraphernalia                                                  NaN\n",
       "Ship equipment                                                           NaN\n",
       "Estimated tonnage                                                        NaN\n",
       "Amphora type                                                             NaN\n",
       "Name: 15, dtype: object"
      ]
     },
     "execution_count": 22,
     "metadata": {},
     "output_type": "execute_result"
    }
   ],
   "source": [
    "df.loc[15] #gets the 15th row"
   ]
  },
  {
   "cell_type": "markdown",
   "id": "f8c0d476",
   "metadata": {},
   "source": [
    "### Let's grab some data"
   ]
  },
  {
   "cell_type": "markdown",
   "id": "f02b86c7",
   "metadata": {},
   "source": [
    "#### Get the Country column"
   ]
  },
  {
   "cell_type": "code",
   "execution_count": 23,
   "id": "1bee83f5",
   "metadata": {},
   "outputs": [
    {
     "data": {
      "text/plain": [
       "0       Croatia\n",
       "1       Croatia\n",
       "2       Croatia\n",
       "3       Croatia\n",
       "4       Croatia\n",
       "         ...   \n",
       "1779      Italy\n",
       "1780      Italy\n",
       "1781      Italy\n",
       "1782      Italy\n",
       "1783      Italy\n",
       "Name: Country, Length: 1784, dtype: object"
      ]
     },
     "execution_count": 23,
     "metadata": {},
     "output_type": "execute_result"
    }
   ],
   "source": [
    "df['Country'] #gets the entire country column"
   ]
  },
  {
   "cell_type": "markdown",
   "id": "02d7e21e",
   "metadata": {},
   "source": [
    "#### Count with `.value_counts()`"
   ]
  },
  {
   "cell_type": "code",
   "execution_count": 24,
   "id": "11c79d10",
   "metadata": {},
   "outputs": [
    {
     "data": {
      "text/plain": [
       "Italy                   247\n",
       "France                  217\n",
       "Greece                   94\n",
       "ZZ-Non-Mediterranean     69\n",
       "Croatia                  63\n",
       "Turkey                   62\n",
       "Israel                   56\n",
       "Spain                    30\n",
       "Bulgaria                 18\n",
       "Cyprus                   13\n",
       "Albania                  11\n",
       "International waters      9\n",
       "Libya                     6\n",
       "Lebanon                   5\n",
       "Egypt                     5\n",
       "Tunisia                   2\n",
       "Montenegro                2\n",
       "India                     1\n",
       "Romania                   1\n",
       "Minorca                   1\n",
       "Syria                     1\n",
       "Italy - Sicily            1\n",
       "Malta                     1\n",
       "Sudan                     1\n",
       "Name: Country, dtype: int64"
      ]
     },
     "execution_count": 24,
     "metadata": {},
     "output_type": "execute_result"
    }
   ],
   "source": [
    "df['Country'].value_counts() #counts unique appearances of each value"
   ]
  },
  {
   "cell_type": "markdown",
   "id": "4000f633",
   "metadata": {},
   "source": [
    "### Set index `.set_index()`"
   ]
  },
  {
   "cell_type": "code",
   "execution_count": 25,
   "id": "75e4bd44",
   "metadata": {},
   "outputs": [
    {
     "data": {
      "text/html": [
       "<div>\n",
       "<style scoped>\n",
       "    .dataframe tbody tr th:only-of-type {\n",
       "        vertical-align: middle;\n",
       "    }\n",
       "\n",
       "    .dataframe tbody tr th {\n",
       "        vertical-align: top;\n",
       "    }\n",
       "\n",
       "    .dataframe thead th {\n",
       "        text-align: right;\n",
       "    }\n",
       "</style>\n",
       "<table border=\"1\" class=\"dataframe\">\n",
       "  <thead>\n",
       "    <tr style=\"text-align: right;\">\n",
       "      <th></th>\n",
       "      <th>Wreck ID</th>\n",
       "      <th>Strauss ID</th>\n",
       "      <th>Name</th>\n",
       "      <th>Parker Number</th>\n",
       "      <th>Sea area</th>\n",
       "      <th>Region</th>\n",
       "      <th>Latitude</th>\n",
       "      <th>Longitude</th>\n",
       "      <th>Min depth</th>\n",
       "      <th>Max depth</th>\n",
       "      <th>Depth</th>\n",
       "      <th>Period</th>\n",
       "      <th>Dating</th>\n",
       "      <th>Earliest date</th>\n",
       "      <th>Latest date</th>\n",
       "      <th>Date range</th>\n",
       "      <th>Mid point of date range</th>\n",
       "      <th>Probability</th>\n",
       "      <th>Place of origin</th>\n",
       "      <th>Place of destination</th>\n",
       "      <th>Reference</th>\n",
       "      <th>Comments</th>\n",
       "      <th>Amphorae</th>\n",
       "      <th>Marble</th>\n",
       "      <th>Columns etc</th>\n",
       "      <th>Sarcophagi</th>\n",
       "      <th>Blocks</th>\n",
       "      <th>Marble type</th>\n",
       "      <th>Other cargo</th>\n",
       "      <th>Hull remains</th>\n",
       "      <th>Shipboard paraphernalia</th>\n",
       "      <th>Ship equipment</th>\n",
       "      <th>Estimated tonnage</th>\n",
       "      <th>Amphora type</th>\n",
       "    </tr>\n",
       "    <tr>\n",
       "      <th>Country</th>\n",
       "      <th></th>\n",
       "      <th></th>\n",
       "      <th></th>\n",
       "      <th></th>\n",
       "      <th></th>\n",
       "      <th></th>\n",
       "      <th></th>\n",
       "      <th></th>\n",
       "      <th></th>\n",
       "      <th></th>\n",
       "      <th></th>\n",
       "      <th></th>\n",
       "      <th></th>\n",
       "      <th></th>\n",
       "      <th></th>\n",
       "      <th></th>\n",
       "      <th></th>\n",
       "      <th></th>\n",
       "      <th></th>\n",
       "      <th></th>\n",
       "      <th></th>\n",
       "      <th></th>\n",
       "      <th></th>\n",
       "      <th></th>\n",
       "      <th></th>\n",
       "      <th></th>\n",
       "      <th></th>\n",
       "      <th></th>\n",
       "      <th></th>\n",
       "      <th></th>\n",
       "      <th></th>\n",
       "      <th></th>\n",
       "      <th></th>\n",
       "      <th></th>\n",
       "    </tr>\n",
       "  </thead>\n",
       "  <tbody>\n",
       "    <tr>\n",
       "      <th>Croatia</th>\n",
       "      <td>1</td>\n",
       "      <td>331</td>\n",
       "      <td>Komiza</td>\n",
       "      <td>NaN</td>\n",
       "      <td>Adriatic</td>\n",
       "      <td>Vis Island</td>\n",
       "      <td>43.03333</td>\n",
       "      <td>16.08333</td>\n",
       "      <td>30.0</td>\n",
       "      <td>30.0</td>\n",
       "      <td>30m</td>\n",
       "      <td>Roman Imperial</td>\n",
       "      <td>C1st-2nd AD</td>\n",
       "      <td>1.0</td>\n",
       "      <td>200.0</td>\n",
       "      <td>NaN</td>\n",
       "      <td>NaN</td>\n",
       "      <td>NaN</td>\n",
       "      <td>Egypt</td>\n",
       "      <td>Northern Italy</td>\n",
       "      <td>M. Jurišić, Ancient Shipwrecks of the Adriatic...</td>\n",
       "      <td>Completely looted site with sherds of Egyptian...</td>\n",
       "      <td>True</td>\n",
       "      <td>False</td>\n",
       "      <td>False</td>\n",
       "      <td>False</td>\n",
       "      <td>False</td>\n",
       "      <td>NaN</td>\n",
       "      <td>NaN</td>\n",
       "      <td>NaN</td>\n",
       "      <td>NaN</td>\n",
       "      <td>NaN</td>\n",
       "      <td>NaN</td>\n",
       "      <td>NaN</td>\n",
       "    </tr>\n",
       "    <tr>\n",
       "      <th>Croatia</th>\n",
       "      <td>2</td>\n",
       "      <td>328</td>\n",
       "      <td>Lokunji</td>\n",
       "      <td>NaN</td>\n",
       "      <td>Adriatic</td>\n",
       "      <td>Kvarner region</td>\n",
       "      <td>44.70000</td>\n",
       "      <td>14.28333</td>\n",
       "      <td>4.0</td>\n",
       "      <td>12.0</td>\n",
       "      <td>12m</td>\n",
       "      <td>Roman Imperial</td>\n",
       "      <td>C 1st AD</td>\n",
       "      <td>1.0</td>\n",
       "      <td>100.0</td>\n",
       "      <td>NaN</td>\n",
       "      <td>NaN</td>\n",
       "      <td>NaN</td>\n",
       "      <td>Cos</td>\n",
       "      <td>Northern Italy</td>\n",
       "      <td>D. Vrsalović, Istraživanja i Zaštita Podmorški...</td>\n",
       "      <td>NaN</td>\n",
       "      <td>True</td>\n",
       "      <td>False</td>\n",
       "      <td>False</td>\n",
       "      <td>False</td>\n",
       "      <td>False</td>\n",
       "      <td>NaN</td>\n",
       "      <td>NaN</td>\n",
       "      <td>NaN</td>\n",
       "      <td>NaN</td>\n",
       "      <td>NaN</td>\n",
       "      <td>NaN</td>\n",
       "      <td>NaN</td>\n",
       "    </tr>\n",
       "    <tr>\n",
       "      <th>Croatia</th>\n",
       "      <td>3</td>\n",
       "      <td>329</td>\n",
       "      <td>Maharac Cape</td>\n",
       "      <td>NaN</td>\n",
       "      <td>Adriatic</td>\n",
       "      <td>Mljet island</td>\n",
       "      <td>42.73333</td>\n",
       "      <td>17.66666</td>\n",
       "      <td>3.0</td>\n",
       "      <td>20.0</td>\n",
       "      <td>3-20m</td>\n",
       "      <td>Roman Imperial</td>\n",
       "      <td>C 1st AD</td>\n",
       "      <td>1.0</td>\n",
       "      <td>100.0</td>\n",
       "      <td>NaN</td>\n",
       "      <td>NaN</td>\n",
       "      <td>NaN</td>\n",
       "      <td>Rhodes</td>\n",
       "      <td>Northern Italy</td>\n",
       "      <td>D. Vrsalović, PhD thesis (unpublished; 1979), ...</td>\n",
       "      <td>NaN</td>\n",
       "      <td>True</td>\n",
       "      <td>False</td>\n",
       "      <td>False</td>\n",
       "      <td>False</td>\n",
       "      <td>False</td>\n",
       "      <td>NaN</td>\n",
       "      <td>Eastern coarse ware pottery of biconical dishe...</td>\n",
       "      <td>NaN</td>\n",
       "      <td>NaN</td>\n",
       "      <td>NaN</td>\n",
       "      <td>NaN</td>\n",
       "      <td>NaN</td>\n",
       "    </tr>\n",
       "    <tr>\n",
       "      <th>Croatia</th>\n",
       "      <td>4</td>\n",
       "      <td>330</td>\n",
       "      <td>Mlin</td>\n",
       "      <td>702</td>\n",
       "      <td>Adriatic</td>\n",
       "      <td>Split channel</td>\n",
       "      <td>43.45000</td>\n",
       "      <td>16.23333</td>\n",
       "      <td>25.0</td>\n",
       "      <td>40.0</td>\n",
       "      <td>40m</td>\n",
       "      <td>Roman Imperial</td>\n",
       "      <td>C 1st-2nd AD</td>\n",
       "      <td>1.0</td>\n",
       "      <td>200.0</td>\n",
       "      <td>NaN</td>\n",
       "      <td>NaN</td>\n",
       "      <td>NaN</td>\n",
       "      <td>Aegean</td>\n",
       "      <td>Northern Italy</td>\n",
       "      <td>D. Vrsalović, Istraživanja i Zaštita Podmorški...</td>\n",
       "      <td>A heavily looted mixed cargo of Greek amphorae...</td>\n",
       "      <td>True</td>\n",
       "      <td>False</td>\n",
       "      <td>False</td>\n",
       "      <td>False</td>\n",
       "      <td>False</td>\n",
       "      <td>NaN</td>\n",
       "      <td>NaN</td>\n",
       "      <td>Remains of the hull.</td>\n",
       "      <td>NaN</td>\n",
       "      <td>Two lead anchor stocks, though possibly not fr...</td>\n",
       "      <td>NaN</td>\n",
       "      <td>NaN</td>\n",
       "    </tr>\n",
       "    <tr>\n",
       "      <th>Croatia</th>\n",
       "      <td>5</td>\n",
       "      <td>322</td>\n",
       "      <td>Plavac B</td>\n",
       "      <td>832</td>\n",
       "      <td>Adriatic</td>\n",
       "      <td>Zlarin Island, central Dalmatia</td>\n",
       "      <td>NaN</td>\n",
       "      <td>NaN</td>\n",
       "      <td>NaN</td>\n",
       "      <td>NaN</td>\n",
       "      <td>NaN</td>\n",
       "      <td>Roman Imperial</td>\n",
       "      <td>C1st AD</td>\n",
       "      <td>1.0</td>\n",
       "      <td>100.0</td>\n",
       "      <td>NaN</td>\n",
       "      <td>NaN</td>\n",
       "      <td>NaN</td>\n",
       "      <td>NaN</td>\n",
       "      <td>NaN</td>\n",
       "      <td>NaN</td>\n",
       "      <td>NaN</td>\n",
       "      <td>False</td>\n",
       "      <td>False</td>\n",
       "      <td>False</td>\n",
       "      <td>False</td>\n",
       "      <td>False</td>\n",
       "      <td>NaN</td>\n",
       "      <td>NaN</td>\n",
       "      <td>NaN</td>\n",
       "      <td>NaN</td>\n",
       "      <td>.</td>\n",
       "      <td>NaN</td>\n",
       "      <td>NaN</td>\n",
       "    </tr>\n",
       "    <tr>\n",
       "      <th>...</th>\n",
       "      <td>...</td>\n",
       "      <td>...</td>\n",
       "      <td>...</td>\n",
       "      <td>...</td>\n",
       "      <td>...</td>\n",
       "      <td>...</td>\n",
       "      <td>...</td>\n",
       "      <td>...</td>\n",
       "      <td>...</td>\n",
       "      <td>...</td>\n",
       "      <td>...</td>\n",
       "      <td>...</td>\n",
       "      <td>...</td>\n",
       "      <td>...</td>\n",
       "      <td>...</td>\n",
       "      <td>...</td>\n",
       "      <td>...</td>\n",
       "      <td>...</td>\n",
       "      <td>...</td>\n",
       "      <td>...</td>\n",
       "      <td>...</td>\n",
       "      <td>...</td>\n",
       "      <td>...</td>\n",
       "      <td>...</td>\n",
       "      <td>...</td>\n",
       "      <td>...</td>\n",
       "      <td>...</td>\n",
       "      <td>...</td>\n",
       "      <td>...</td>\n",
       "      <td>...</td>\n",
       "      <td>...</td>\n",
       "      <td>...</td>\n",
       "      <td>...</td>\n",
       "      <td>...</td>\n",
       "    </tr>\n",
       "    <tr>\n",
       "      <th>Italy</th>\n",
       "      <td>9058</td>\n",
       "      <td>0</td>\n",
       "      <td>Olbia Late Roman 2</td>\n",
       "      <td>NaN</td>\n",
       "      <td>NaN</td>\n",
       "      <td>Sardinia</td>\n",
       "      <td>40.91148</td>\n",
       "      <td>9.50738</td>\n",
       "      <td>0.0</td>\n",
       "      <td>0.0</td>\n",
       "      <td>0m</td>\n",
       "      <td>Late Roman</td>\n",
       "      <td>C5th AD</td>\n",
       "      <td>400.0</td>\n",
       "      <td>500.0</td>\n",
       "      <td>0.0</td>\n",
       "      <td>0.0</td>\n",
       "      <td>0.0</td>\n",
       "      <td>NaN</td>\n",
       "      <td>NaN</td>\n",
       "      <td>R. D'Oriano, Archeologia in Sardegna, 2007,  9...</td>\n",
       "      <td>Three other C5th AD wrecks found during constr...</td>\n",
       "      <td>False</td>\n",
       "      <td>False</td>\n",
       "      <td>False</td>\n",
       "      <td>False</td>\n",
       "      <td>False</td>\n",
       "      <td>NaN</td>\n",
       "      <td>NaN</td>\n",
       "      <td>NaN</td>\n",
       "      <td>NaN</td>\n",
       "      <td>NaN</td>\n",
       "      <td>0.0</td>\n",
       "      <td>NaN</td>\n",
       "    </tr>\n",
       "    <tr>\n",
       "      <th>Italy</th>\n",
       "      <td>9059</td>\n",
       "      <td>0</td>\n",
       "      <td>Olbia medieval</td>\n",
       "      <td>NaN</td>\n",
       "      <td>NaN</td>\n",
       "      <td>Sardinia</td>\n",
       "      <td>40.91148</td>\n",
       "      <td>9.50738</td>\n",
       "      <td>0.0</td>\n",
       "      <td>0.0</td>\n",
       "      <td>0m</td>\n",
       "      <td>Medieval</td>\n",
       "      <td>C11th-15th AD</td>\n",
       "      <td>1000.0</td>\n",
       "      <td>1500.0</td>\n",
       "      <td>0.0</td>\n",
       "      <td>0.0</td>\n",
       "      <td>0.0</td>\n",
       "      <td>NaN</td>\n",
       "      <td>NaN</td>\n",
       "      <td>R. D'Oriano, Archeologia in Sardegna, 2007,  9...</td>\n",
       "      <td>Five small wrecks from the eleventh, fourteent...</td>\n",
       "      <td>False</td>\n",
       "      <td>False</td>\n",
       "      <td>False</td>\n",
       "      <td>False</td>\n",
       "      <td>False</td>\n",
       "      <td>NaN</td>\n",
       "      <td>NaN</td>\n",
       "      <td>NaN</td>\n",
       "      <td>NaN</td>\n",
       "      <td>NaN</td>\n",
       "      <td>0.0</td>\n",
       "      <td>NaN</td>\n",
       "    </tr>\n",
       "    <tr>\n",
       "      <th>Italy</th>\n",
       "      <td>9060</td>\n",
       "      <td>0</td>\n",
       "      <td>Isola della Gallinara (Savona)</td>\n",
       "      <td>NaN</td>\n",
       "      <td>NaN</td>\n",
       "      <td>Liguria</td>\n",
       "      <td>44.02648</td>\n",
       "      <td>8.22996</td>\n",
       "      <td>50.0</td>\n",
       "      <td>50.0</td>\n",
       "      <td>50m</td>\n",
       "      <td>Roman Republic</td>\n",
       "      <td>C1st BC</td>\n",
       "      <td>-100.0</td>\n",
       "      <td>-1.0</td>\n",
       "      <td>0.0</td>\n",
       "      <td>0.0</td>\n",
       "      <td>0.0</td>\n",
       "      <td>Campania</td>\n",
       "      <td>NaN</td>\n",
       "      <td>http://www.archeosub.it/news2003/news0311.htm#...</td>\n",
       "      <td>A mound of intact Dr 1 amphorae and 'other car...</td>\n",
       "      <td>True</td>\n",
       "      <td>False</td>\n",
       "      <td>False</td>\n",
       "      <td>False</td>\n",
       "      <td>False</td>\n",
       "      <td>NaN</td>\n",
       "      <td>NaN</td>\n",
       "      <td>NaN</td>\n",
       "      <td>NaN</td>\n",
       "      <td>NaN</td>\n",
       "      <td>0.0</td>\n",
       "      <td>NaN</td>\n",
       "    </tr>\n",
       "    <tr>\n",
       "      <th>Italy</th>\n",
       "      <td>9061</td>\n",
       "      <td>0</td>\n",
       "      <td>San Vito Lo Capo</td>\n",
       "      <td>NaN</td>\n",
       "      <td>NaN</td>\n",
       "      <td>Sicily</td>\n",
       "      <td>38.18825</td>\n",
       "      <td>12.74551</td>\n",
       "      <td>0.0</td>\n",
       "      <td>0.0</td>\n",
       "      <td>NaN</td>\n",
       "      <td>Norman</td>\n",
       "      <td>C12th AD</td>\n",
       "      <td>1100.0</td>\n",
       "      <td>1200.0</td>\n",
       "      <td>0.0</td>\n",
       "      <td>0.0</td>\n",
       "      <td>0.0</td>\n",
       "      <td>NaN</td>\n",
       "      <td>NaN</td>\n",
       "      <td>F. Faccenna, Il Relitto di San Vito Lo Capo (2...</td>\n",
       "      <td>A local Sicilian ship carrying amphorae and ja...</td>\n",
       "      <td>True</td>\n",
       "      <td>False</td>\n",
       "      <td>False</td>\n",
       "      <td>False</td>\n",
       "      <td>False</td>\n",
       "      <td>NaN</td>\n",
       "      <td>NaN</td>\n",
       "      <td>NaN</td>\n",
       "      <td>NaN</td>\n",
       "      <td>NaN</td>\n",
       "      <td>0.0</td>\n",
       "      <td>NaN</td>\n",
       "    </tr>\n",
       "    <tr>\n",
       "      <th>Italy</th>\n",
       "      <td>9063</td>\n",
       "      <td>0</td>\n",
       "      <td>Capo Colonna and Capo Alfieri</td>\n",
       "      <td>NaN</td>\n",
       "      <td>NaN</td>\n",
       "      <td>Calabria</td>\n",
       "      <td>38.95399</td>\n",
       "      <td>17.17163</td>\n",
       "      <td>0.0</td>\n",
       "      <td>0.0</td>\n",
       "      <td>shallow</td>\n",
       "      <td>Late Roman</td>\n",
       "      <td>C4th-5th AD</td>\n",
       "      <td>300.0</td>\n",
       "      <td>500.0</td>\n",
       "      <td>0.0</td>\n",
       "      <td>0.0</td>\n",
       "      <td>0.0</td>\n",
       "      <td>NaN</td>\n",
       "      <td>NaN</td>\n",
       "      <td>http://www.archeomar.it/templates/archeomar/at...</td>\n",
       "      <td>A probable Late Roman shipwreck of amphorae.</td>\n",
       "      <td>True</td>\n",
       "      <td>False</td>\n",
       "      <td>False</td>\n",
       "      <td>False</td>\n",
       "      <td>False</td>\n",
       "      <td>NaN</td>\n",
       "      <td>NaN</td>\n",
       "      <td>NaN</td>\n",
       "      <td>NaN</td>\n",
       "      <td>NaN</td>\n",
       "      <td>0.0</td>\n",
       "      <td>NaN</td>\n",
       "    </tr>\n",
       "  </tbody>\n",
       "</table>\n",
       "<p>1784 rows × 34 columns</p>\n",
       "</div>"
      ],
      "text/plain": [
       "         Wreck ID  Strauss ID                            Name Parker Number  Sea area                           Region  Latitude  Longitude  Min depth  Max depth    Depth          Period         Dating  Earliest date  Latest date  Date range  Mid point of date range  Probability Place of origin Place of destination                                          Reference                                           Comments  Amphorae  Marble  Columns etc  Sarcophagi  Blocks Marble type                                        Other cargo          Hull remains Shipboard paraphernalia                                     Ship equipment  Estimated tonnage Amphora type\n",
       "Country                                                                                                                                                                                                                                                                                                                                                                                                                                                                                                                                                                                                                                                                              \n",
       "Croatia         1         331                          Komiza           NaN  Adriatic                       Vis Island  43.03333   16.08333       30.0       30.0      30m  Roman Imperial    C1st-2nd AD            1.0        200.0         NaN                      NaN          NaN           Egypt       Northern Italy  M. Jurišić, Ancient Shipwrecks of the Adriatic...  Completely looted site with sherds of Egyptian...      True   False        False       False   False         NaN                                                NaN                   NaN                     NaN                                                NaN                NaN          NaN\n",
       "Croatia         2         328                         Lokunji           NaN  Adriatic                   Kvarner region  44.70000   14.28333        4.0       12.0      12m  Roman Imperial       C 1st AD            1.0        100.0         NaN                      NaN          NaN             Cos       Northern Italy  D. Vrsalović, Istraživanja i Zaštita Podmorški...                                                NaN      True   False        False       False   False         NaN                                                NaN                   NaN                     NaN                                                NaN                NaN          NaN\n",
       "Croatia         3         329                    Maharac Cape           NaN  Adriatic                     Mljet island  42.73333   17.66666        3.0       20.0    3-20m  Roman Imperial       C 1st AD            1.0        100.0         NaN                      NaN          NaN          Rhodes       Northern Italy  D. Vrsalović, PhD thesis (unpublished; 1979), ...                                                NaN      True   False        False       False   False         NaN  Eastern coarse ware pottery of biconical dishe...                   NaN                     NaN                                                NaN                NaN          NaN\n",
       "Croatia         4         330                            Mlin           702  Adriatic                    Split channel  43.45000   16.23333       25.0       40.0      40m  Roman Imperial   C 1st-2nd AD            1.0        200.0         NaN                      NaN          NaN          Aegean       Northern Italy  D. Vrsalović, Istraživanja i Zaštita Podmorški...  A heavily looted mixed cargo of Greek amphorae...      True   False        False       False   False         NaN                                                NaN  Remains of the hull.                     NaN  Two lead anchor stocks, though possibly not fr...                NaN          NaN\n",
       "Croatia         5         322                        Plavac B           832  Adriatic  Zlarin Island, central Dalmatia       NaN        NaN        NaN        NaN      NaN  Roman Imperial        C1st AD            1.0        100.0         NaN                      NaN          NaN             NaN                  NaN                                                NaN                                                NaN     False   False        False       False   False         NaN                                                NaN                   NaN                     NaN                                                  .                NaN          NaN\n",
       "...           ...         ...                             ...           ...       ...                              ...       ...        ...        ...        ...      ...             ...            ...            ...          ...         ...                      ...          ...             ...                  ...                                                ...                                                ...       ...     ...          ...         ...     ...         ...                                                ...                   ...                     ...                                                ...                ...          ...\n",
       "Italy        9058           0              Olbia Late Roman 2           NaN       NaN                         Sardinia  40.91148    9.50738        0.0        0.0       0m      Late Roman        C5th AD          400.0        500.0         0.0                      0.0          0.0             NaN                  NaN  R. D'Oriano, Archeologia in Sardegna, 2007,  9...  Three other C5th AD wrecks found during constr...     False   False        False       False   False         NaN                                                NaN                   NaN                     NaN                                                NaN                0.0          NaN\n",
       "Italy        9059           0                  Olbia medieval           NaN       NaN                         Sardinia  40.91148    9.50738        0.0        0.0       0m        Medieval  C11th-15th AD         1000.0       1500.0         0.0                      0.0          0.0             NaN                  NaN  R. D'Oriano, Archeologia in Sardegna, 2007,  9...  Five small wrecks from the eleventh, fourteent...     False   False        False       False   False         NaN                                                NaN                   NaN                     NaN                                                NaN                0.0          NaN\n",
       "Italy        9060           0  Isola della Gallinara (Savona)           NaN       NaN                          Liguria  44.02648    8.22996       50.0       50.0      50m  Roman Republic        C1st BC         -100.0         -1.0         0.0                      0.0          0.0        Campania                  NaN  http://www.archeosub.it/news2003/news0311.htm#...  A mound of intact Dr 1 amphorae and 'other car...      True   False        False       False   False         NaN                                                NaN                   NaN                     NaN                                                NaN                0.0          NaN\n",
       "Italy        9061           0                San Vito Lo Capo           NaN       NaN                           Sicily  38.18825   12.74551        0.0        0.0      NaN          Norman       C12th AD         1100.0       1200.0         0.0                      0.0          0.0             NaN                  NaN  F. Faccenna, Il Relitto di San Vito Lo Capo (2...  A local Sicilian ship carrying amphorae and ja...      True   False        False       False   False         NaN                                                NaN                   NaN                     NaN                                                NaN                0.0          NaN\n",
       "Italy        9063           0   Capo Colonna and Capo Alfieri           NaN       NaN                         Calabria  38.95399   17.17163        0.0        0.0  shallow      Late Roman    C4th-5th AD          300.0        500.0         0.0                      0.0          0.0             NaN                  NaN  http://www.archeomar.it/templates/archeomar/at...       A probable Late Roman shipwreck of amphorae.      True   False        False       False   False         NaN                                                NaN                   NaN                     NaN                                                NaN                0.0          NaN\n",
       "\n",
       "[1784 rows x 34 columns]"
      ]
     },
     "execution_count": 25,
     "metadata": {},
     "output_type": "execute_result"
    }
   ],
   "source": [
    "#sorts by a certain argument - assigns that argument to be the index -- \n",
    "# (\"index\" is the name of the internally assigned numeration)\n",
    "df.set_index('Country')"
   ]
  },
  {
   "cell_type": "markdown",
   "id": "d2b877ab",
   "metadata": {},
   "source": [
    "#### Did the original dataframe change?"
   ]
  },
  {
   "cell_type": "code",
   "execution_count": 26,
   "id": "1d64f4ae",
   "metadata": {},
   "outputs": [],
   "source": [
    "# no\n",
    "# df"
   ]
  },
  {
   "cell_type": "markdown",
   "id": "c7d15d54",
   "metadata": {},
   "source": [
    "#### let's put the parameter `inplace=True`"
   ]
  },
  {
   "cell_type": "code",
   "execution_count": 27,
   "id": "c49b90f6",
   "metadata": {},
   "outputs": [],
   "source": [
    "df.set_index('Country', inplace=True)"
   ]
  },
  {
   "cell_type": "markdown",
   "id": "9036e00b",
   "metadata": {},
   "source": [
    "#### What will happen of I look for `df.loc[0]`?"
   ]
  },
  {
   "cell_type": "code",
   "execution_count": 28,
   "id": "d3957d9e",
   "metadata": {},
   "outputs": [
    {
     "ename": "KeyError",
     "evalue": "0",
     "output_type": "error",
     "traceback": [
      "\u001b[1;31m---------------------------------------------------------------------------\u001b[0m",
      "\u001b[1;31mKeyError\u001b[0m                                  Traceback (most recent call last)",
      "File \u001b[1;32m~\\anaconda3\\Lib\\site-packages\\pandas\\core\\indexes\\base.py:3802\u001b[0m, in \u001b[0;36mIndex.get_loc\u001b[1;34m(self, key, method, tolerance)\u001b[0m\n\u001b[0;32m   3801\u001b[0m \u001b[38;5;28;01mtry\u001b[39;00m:\n\u001b[1;32m-> 3802\u001b[0m     \u001b[38;5;28;01mreturn\u001b[39;00m \u001b[38;5;28mself\u001b[39m\u001b[38;5;241m.\u001b[39m_engine\u001b[38;5;241m.\u001b[39mget_loc(casted_key)\n\u001b[0;32m   3803\u001b[0m \u001b[38;5;28;01mexcept\u001b[39;00m \u001b[38;5;167;01mKeyError\u001b[39;00m \u001b[38;5;28;01mas\u001b[39;00m err:\n",
      "File \u001b[1;32m~\\anaconda3\\Lib\\site-packages\\pandas\\_libs\\index.pyx:138\u001b[0m, in \u001b[0;36mpandas._libs.index.IndexEngine.get_loc\u001b[1;34m()\u001b[0m\n",
      "File \u001b[1;32m~\\anaconda3\\Lib\\site-packages\\pandas\\_libs\\index.pyx:162\u001b[0m, in \u001b[0;36mpandas._libs.index.IndexEngine.get_loc\u001b[1;34m()\u001b[0m\n",
      "File \u001b[1;32m~\\anaconda3\\Lib\\site-packages\\pandas\\_libs\\index.pyx:203\u001b[0m, in \u001b[0;36mpandas._libs.index.IndexEngine._get_loc_duplicates\u001b[1;34m()\u001b[0m\n",
      "File \u001b[1;32m~\\anaconda3\\Lib\\site-packages\\pandas\\_libs\\index.pyx:211\u001b[0m, in \u001b[0;36mpandas._libs.index.IndexEngine._maybe_get_bool_indexer\u001b[1;34m()\u001b[0m\n",
      "File \u001b[1;32m~\\anaconda3\\Lib\\site-packages\\pandas\\_libs\\index.pyx:107\u001b[0m, in \u001b[0;36mpandas._libs.index._unpack_bool_indexer\u001b[1;34m()\u001b[0m\n",
      "\u001b[1;31mKeyError\u001b[0m: 0",
      "\nThe above exception was the direct cause of the following exception:\n",
      "\u001b[1;31mKeyError\u001b[0m                                  Traceback (most recent call last)",
      "Cell \u001b[1;32mIn[28], line 1\u001b[0m\n\u001b[1;32m----> 1\u001b[0m df\u001b[38;5;241m.\u001b[39mloc[\u001b[38;5;241m0\u001b[39m]\n",
      "File \u001b[1;32m~\\anaconda3\\Lib\\site-packages\\pandas\\core\\indexing.py:1073\u001b[0m, in \u001b[0;36m_LocationIndexer.__getitem__\u001b[1;34m(self, key)\u001b[0m\n\u001b[0;32m   1070\u001b[0m axis \u001b[38;5;241m=\u001b[39m \u001b[38;5;28mself\u001b[39m\u001b[38;5;241m.\u001b[39maxis \u001b[38;5;129;01mor\u001b[39;00m \u001b[38;5;241m0\u001b[39m\n\u001b[0;32m   1072\u001b[0m maybe_callable \u001b[38;5;241m=\u001b[39m com\u001b[38;5;241m.\u001b[39mapply_if_callable(key, \u001b[38;5;28mself\u001b[39m\u001b[38;5;241m.\u001b[39mobj)\n\u001b[1;32m-> 1073\u001b[0m \u001b[38;5;28;01mreturn\u001b[39;00m \u001b[38;5;28mself\u001b[39m\u001b[38;5;241m.\u001b[39m_getitem_axis(maybe_callable, axis\u001b[38;5;241m=\u001b[39maxis)\n",
      "File \u001b[1;32m~\\anaconda3\\Lib\\site-packages\\pandas\\core\\indexing.py:1312\u001b[0m, in \u001b[0;36m_LocIndexer._getitem_axis\u001b[1;34m(self, key, axis)\u001b[0m\n\u001b[0;32m   1310\u001b[0m \u001b[38;5;66;03m# fall thru to straight lookup\u001b[39;00m\n\u001b[0;32m   1311\u001b[0m \u001b[38;5;28mself\u001b[39m\u001b[38;5;241m.\u001b[39m_validate_key(key, axis)\n\u001b[1;32m-> 1312\u001b[0m \u001b[38;5;28;01mreturn\u001b[39;00m \u001b[38;5;28mself\u001b[39m\u001b[38;5;241m.\u001b[39m_get_label(key, axis\u001b[38;5;241m=\u001b[39maxis)\n",
      "File \u001b[1;32m~\\anaconda3\\Lib\\site-packages\\pandas\\core\\indexing.py:1260\u001b[0m, in \u001b[0;36m_LocIndexer._get_label\u001b[1;34m(self, label, axis)\u001b[0m\n\u001b[0;32m   1258\u001b[0m \u001b[38;5;28;01mdef\u001b[39;00m \u001b[38;5;21m_get_label\u001b[39m(\u001b[38;5;28mself\u001b[39m, label, axis: \u001b[38;5;28mint\u001b[39m):\n\u001b[0;32m   1259\u001b[0m     \u001b[38;5;66;03m# GH#5567 this will fail if the label is not present in the axis.\u001b[39;00m\n\u001b[1;32m-> 1260\u001b[0m     \u001b[38;5;28;01mreturn\u001b[39;00m \u001b[38;5;28mself\u001b[39m\u001b[38;5;241m.\u001b[39mobj\u001b[38;5;241m.\u001b[39mxs(label, axis\u001b[38;5;241m=\u001b[39maxis)\n",
      "File \u001b[1;32m~\\anaconda3\\Lib\\site-packages\\pandas\\core\\generic.py:4056\u001b[0m, in \u001b[0;36mNDFrame.xs\u001b[1;34m(self, key, axis, level, drop_level)\u001b[0m\n\u001b[0;32m   4054\u001b[0m             new_index \u001b[38;5;241m=\u001b[39m index[loc]\n\u001b[0;32m   4055\u001b[0m \u001b[38;5;28;01melse\u001b[39;00m:\n\u001b[1;32m-> 4056\u001b[0m     loc \u001b[38;5;241m=\u001b[39m index\u001b[38;5;241m.\u001b[39mget_loc(key)\n\u001b[0;32m   4058\u001b[0m     \u001b[38;5;28;01mif\u001b[39;00m \u001b[38;5;28misinstance\u001b[39m(loc, np\u001b[38;5;241m.\u001b[39mndarray):\n\u001b[0;32m   4059\u001b[0m         \u001b[38;5;28;01mif\u001b[39;00m loc\u001b[38;5;241m.\u001b[39mdtype \u001b[38;5;241m==\u001b[39m np\u001b[38;5;241m.\u001b[39mbool_:\n",
      "File \u001b[1;32m~\\anaconda3\\Lib\\site-packages\\pandas\\core\\indexes\\base.py:3804\u001b[0m, in \u001b[0;36mIndex.get_loc\u001b[1;34m(self, key, method, tolerance)\u001b[0m\n\u001b[0;32m   3802\u001b[0m     \u001b[38;5;28;01mreturn\u001b[39;00m \u001b[38;5;28mself\u001b[39m\u001b[38;5;241m.\u001b[39m_engine\u001b[38;5;241m.\u001b[39mget_loc(casted_key)\n\u001b[0;32m   3803\u001b[0m \u001b[38;5;28;01mexcept\u001b[39;00m \u001b[38;5;167;01mKeyError\u001b[39;00m \u001b[38;5;28;01mas\u001b[39;00m err:\n\u001b[1;32m-> 3804\u001b[0m     \u001b[38;5;28;01mraise\u001b[39;00m \u001b[38;5;167;01mKeyError\u001b[39;00m(key) \u001b[38;5;28;01mfrom\u001b[39;00m \u001b[38;5;21;01merr\u001b[39;00m\n\u001b[0;32m   3805\u001b[0m \u001b[38;5;28;01mexcept\u001b[39;00m \u001b[38;5;167;01mTypeError\u001b[39;00m:\n\u001b[0;32m   3806\u001b[0m     \u001b[38;5;66;03m# If we have a listlike key, _check_indexing_error will raise\u001b[39;00m\n\u001b[0;32m   3807\u001b[0m     \u001b[38;5;66;03m#  InvalidIndexError. Otherwise we fall through and re-raise\u001b[39;00m\n\u001b[0;32m   3808\u001b[0m     \u001b[38;5;66;03m#  the TypeError.\u001b[39;00m\n\u001b[0;32m   3809\u001b[0m     \u001b[38;5;28mself\u001b[39m\u001b[38;5;241m.\u001b[39m_check_indexing_error(key)\n",
      "\u001b[1;31mKeyError\u001b[0m: 0"
     ]
    }
   ],
   "source": [
    "df.loc[0] #there is no more index with 1"
   ]
  },
  {
   "cell_type": "markdown",
   "id": "814583c8",
   "metadata": {},
   "source": [
    "#### Let's reset the index"
   ]
  },
  {
   "cell_type": "code",
   "execution_count": null,
   "id": "3e7856a5",
   "metadata": {},
   "outputs": [],
   "source": [
    "df.reset_index(inplace = True)"
   ]
  },
  {
   "cell_type": "code",
   "execution_count": null,
   "id": "77214750",
   "metadata": {},
   "outputs": [],
   "source": [
    "# df"
   ]
  },
  {
   "cell_type": "markdown",
   "id": "9bf59354",
   "metadata": {},
   "source": [
    "### Sort `.sort_index(ascending=False)`"
   ]
  },
  {
   "cell_type": "code",
   "execution_count": null,
   "id": "8cd2087a",
   "metadata": {},
   "outputs": [],
   "source": [
    "df.sort_index(ascending=False)"
   ]
  },
  {
   "cell_type": "code",
   "execution_count": null,
   "id": "c65b7d6f",
   "metadata": {},
   "outputs": [],
   "source": [
    "# because no inplace = true , this doesn't change the dataframe. Just changes the way one is looking at it"
   ]
  },
  {
   "cell_type": "markdown",
   "id": "f19a6463",
   "metadata": {},
   "source": [
    "## Filter"
   ]
  },
  {
   "cell_type": "markdown",
   "id": "8fa0cb2a",
   "metadata": {},
   "source": [
    "#### what's the result of the below statement?"
   ]
  },
  {
   "cell_type": "code",
   "execution_count": null,
   "id": "4af4ac34",
   "metadata": {},
   "outputs": [],
   "source": [
    "df['Country'] == 'Greece' #the filter returns every row's value at this variable"
   ]
  },
  {
   "cell_type": "code",
   "execution_count": null,
   "id": "8dd3a0f2",
   "metadata": {},
   "outputs": [],
   "source": [
    "df[(df['Country'] == 'Greece')] #filters for Greece"
   ]
  },
  {
   "cell_type": "code",
   "execution_count": null,
   "id": "a4fad877",
   "metadata": {},
   "outputs": [],
   "source": [
    "df[(df['Wreck ID'] == 100)] #filters for Wreck ID = 100 ---- note the data type!"
   ]
  },
  {
   "cell_type": "code",
   "execution_count": null,
   "id": "0616f005",
   "metadata": {},
   "outputs": [],
   "source": [
    "df[(df['Country'] == 'Greece') & (df['Period'] == 'Roman Imperial')] #filters for Greece & Roman Imperial"
   ]
  },
  {
   "cell_type": "markdown",
   "id": "d24b350e",
   "metadata": {},
   "source": [
    "#### What about if we want everything but Greece?"
   ]
  },
  {
   "cell_type": "code",
   "execution_count": null,
   "id": "b2c7eee7",
   "metadata": {},
   "outputs": [],
   "source": [
    "df[~(df['Country'] == 'Greece')] #filters for not Greece\n",
    "# df[~(df['Country'] != 'Greece')] does the same thing"
   ]
  },
  {
   "cell_type": "code",
   "execution_count": null,
   "id": "aaceda8b",
   "metadata": {},
   "outputs": [],
   "source": [
    "df[~(df['Wreck ID'] > 100)]"
   ]
  },
  {
   "cell_type": "markdown",
   "id": "08f21096",
   "metadata": {},
   "source": [
    "#### Combine two filters with `&` = `and`"
   ]
  },
  {
   "cell_type": "code",
   "execution_count": null,
   "id": "57fa41c7",
   "metadata": {},
   "outputs": [],
   "source": [
    "df[(df['Country'] == 'Greece') & (df['Period'] == 'Roman Imperial')] #filters for Greece & Roman Imperial"
   ]
  },
  {
   "cell_type": "markdown",
   "id": "ab73c361",
   "metadata": {},
   "source": [
    "#### Combine two filters with `|` = `or`"
   ]
  },
  {
   "cell_type": "code",
   "execution_count": null,
   "id": "509fd5ba",
   "metadata": {},
   "outputs": [],
   "source": [
    "df[(df['Country'] == 'Greece') | (df['Country'] == 'Italy')] #filters for Greece or Italy"
   ]
  },
  {
   "cell_type": "code",
   "execution_count": null,
   "id": "7d012e7a",
   "metadata": {},
   "outputs": [],
   "source": []
  }
 ],
 "metadata": {
  "kernelspec": {
   "display_name": "Python 3 (ipykernel)",
   "language": "python",
   "name": "python3"
  },
  "language_info": {
   "codemirror_mode": {
    "name": "ipython",
    "version": 3
   },
   "file_extension": ".py",
   "mimetype": "text/x-python",
   "name": "python",
   "nbconvert_exporter": "python",
   "pygments_lexer": "ipython3",
   "version": "3.11.4"
  }
 },
 "nbformat": 4,
 "nbformat_minor": 5
}
