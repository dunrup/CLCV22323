{
 "cells": [
  {
   "cell_type": "markdown",
   "id": "091e3550",
   "metadata": {},
   "source": [
    "# Recursion"
   ]
  },
  {
   "cell_type": "code",
   "execution_count": 41,
   "id": "4adff4aa",
   "metadata": {},
   "outputs": [],
   "source": [
    "import time"
   ]
  },
  {
   "cell_type": "markdown",
   "id": "3d2758ba",
   "metadata": {},
   "source": [
    "#### Write a recursive function to calculate the factorial of a given number."
   ]
  },
  {
   "cell_type": "code",
   "execution_count": 42,
   "id": "1cb4ee6b",
   "metadata": {},
   "outputs": [
    {
     "data": {
      "text/plain": [
       "720"
      ]
     },
     "execution_count": 42,
     "metadata": {},
     "output_type": "execute_result"
    }
   ],
   "source": [
    "def fact(n):\n",
    "    if n == 1 :\n",
    "        return 1\n",
    "    else : \n",
    "        return n * fact(n-1)\n",
    "\n",
    "fact(6)"
   ]
  },
  {
   "cell_type": "code",
   "execution_count": 3,
   "id": "8b2ee458",
   "metadata": {},
   "outputs": [],
   "source": [
    "# start = time.time()\n",
    "# [fact(2000)*100 for _ in range(10000)]  \n",
    "# end = time.time()\n",
    "# print(end - start)    "
   ]
  },
  {
   "cell_type": "markdown",
   "id": "4b97dace",
   "metadata": {},
   "source": [
    "#### Write a recursive function to calculate the $n^{th}$ [Fibonacci number](https://en.wikipedia.org/wiki/Fibonacci_number):\n",
    "\n",
    "1, 1, 2, 3, 5, 8, 13, 21, 34"
   ]
  },
  {
   "cell_type": "code",
   "execution_count": 4,
   "id": "2923fd1a",
   "metadata": {},
   "outputs": [],
   "source": [
    "def fib(n):\n",
    "    if n <= 2:\n",
    "        return 1\n",
    "    else :\n",
    "        return fib(n-1) + fib(n-2)"
   ]
  },
  {
   "cell_type": "code",
   "execution_count": 5,
   "id": "bb3f4a77",
   "metadata": {},
   "outputs": [
    {
     "data": {
      "text/plain": [
       "5"
      ]
     },
     "execution_count": 5,
     "metadata": {},
     "output_type": "execute_result"
    }
   ],
   "source": [
    "fib(5)"
   ]
  },
  {
   "cell_type": "code",
   "execution_count": 6,
   "id": "5062a316",
   "metadata": {},
   "outputs": [],
   "source": [
    "# running this will take forever\n",
    "# for i in range(100):\n",
    "#     print(f\"{i}: {fib(i)}\")"
   ]
  },
  {
   "cell_type": "markdown",
   "id": "6409cc02",
   "metadata": {},
   "source": [
    "#### Implement a recursive function to calculate the power of a number, given the base and exponent."
   ]
  },
  {
   "cell_type": "code",
   "execution_count": 7,
   "id": "5a234f06",
   "metadata": {},
   "outputs": [],
   "source": [
    "def power(base, exponent):\n",
    "    if exponent == 0:\n",
    "        if base == 0:\n",
    "            return \"undefined\"\n",
    "        else :\n",
    "            return 1\n",
    "    elif exponent == 1:\n",
    "        return base\n",
    "    return (base*power(base, exponent-1))"
   ]
  },
  {
   "cell_type": "code",
   "execution_count": 8,
   "id": "6256a040",
   "metadata": {},
   "outputs": [
    {
     "data": {
      "text/plain": [
       "'undefined'"
      ]
     },
     "execution_count": 8,
     "metadata": {},
     "output_type": "execute_result"
    }
   ],
   "source": [
    "power(0, 0)"
   ]
  },
  {
   "cell_type": "markdown",
   "id": "28165d6e",
   "metadata": {},
   "source": [
    "#### Write a recursive function to check if a given string is a palindrome."
   ]
  },
  {
   "cell_type": "code",
   "execution_count": 32,
   "id": "572af197",
   "metadata": {},
   "outputs": [],
   "source": [
    "# def is_palindrome(s):\n"
   ]
  },
  {
   "cell_type": "markdown",
   "id": "4d4c5a23",
   "metadata": {},
   "source": [
    "#### Write a recursive function to find the Greatest Common Divisor (GCD) of two numbers."
   ]
  },
  {
   "cell_type": "code",
   "execution_count": null,
   "id": "3f7d6de1",
   "metadata": {},
   "outputs": [],
   "source": [
    "def gcd(a, b):\n",
    "    if b == 0 : \n",
    "        return a\n",
    "    else :\n",
    "        return gcd(b, a % b) \n",
    "    \n",
    "gcd(5,20)"
   ]
  },
  {
   "cell_type": "markdown",
   "id": "f960a8c7",
   "metadata": {},
   "source": [
    "#### Tower of Hanoi"
   ]
  },
  {
   "cell_type": "code",
   "execution_count": 31,
   "id": "ad2cf1bc",
   "metadata": {},
   "outputs": [
    {
     "name": "stdout",
     "output_type": "stream",
     "text": [
      "Move A to C\n",
      "Move A to B\n",
      "Move C to B\n",
      "Move A to C\n",
      "Move B to A\n",
      "Move B to C\n",
      "Move A to C\n"
     ]
    }
   ],
   "source": [
    "def move(start,finish): \n",
    "    print(f\"Move {start} to {finish}\")\n",
    "          \n",
    "def hanoi(start, helper, finish, pieces) : \n",
    "    if pieces > 0 : \n",
    "        hanoi(start, finish, helper, pieces - 1)\n",
    "        move(start, finish)\n",
    "        hanoi(helper, start, finish, pieces - 1)\n",
    "\n",
    "hanoi('A', 'B', 'C', 3)"
   ]
  },
  {
   "cell_type": "markdown",
   "id": "b42d5b18",
   "metadata": {},
   "source": [
    "## Τail recursion"
   ]
  },
  {
   "cell_type": "markdown",
   "id": "e43b8b9f",
   "metadata": {},
   "source": [
    "#### Factorial with tail recursion"
   ]
  },
  {
   "cell_type": "code",
   "execution_count": 36,
   "id": "a72e9ac0",
   "metadata": {},
   "outputs": [],
   "source": [
    "# use a helper function to keep a variable each time the function runs\n",
    "\n",
    "def facthelp(n, a=1) : \n",
    "    if n == 0 :\n",
    "        return a\n",
    "    else :\n",
    "        return (facthelp(n - 1)) * (n * a)\n",
    "\n",
    "def facttail(n):\n",
    "    return facthelp(n)"
   ]
  },
  {
   "cell_type": "code",
   "execution_count": 46,
   "id": "c4ec5a73",
   "metadata": {},
   "outputs": [
    {
     "data": {
      "text/plain": [
       "24"
      ]
     },
     "execution_count": 46,
     "metadata": {},
     "output_type": "execute_result"
    }
   ],
   "source": [
    "facttail(4)"
   ]
  },
  {
   "cell_type": "code",
   "execution_count": 47,
   "id": "2d412611",
   "metadata": {},
   "outputs": [],
   "source": [
    "# start = time.time()\n",
    "# [facttail(2000)*100 for _ in range(10000)]  \n",
    "# end = time.time()\n",
    "# print(end - start)    "
   ]
  },
  {
   "cell_type": "code",
   "execution_count": null,
   "id": "fc416e30",
   "metadata": {},
   "outputs": [],
   "source": [
    "fib(20)"
   ]
  },
  {
   "cell_type": "markdown",
   "id": "431ef415",
   "metadata": {},
   "source": [
    "## Memoization"
   ]
  },
  {
   "cell_type": "markdown",
   "id": "93332f5a",
   "metadata": {},
   "source": [
    "#### Cache created manually"
   ]
  },
  {
   "cell_type": "code",
   "execution_count": 53,
   "id": "51cee33c",
   "metadata": {},
   "outputs": [],
   "source": [
    "# make a dictionary as a cache\n",
    "fib_dic = {}"
   ]
  },
  {
   "cell_type": "code",
   "execution_count": 58,
   "id": "11c27d67",
   "metadata": {},
   "outputs": [],
   "source": [
    "def fib(n):\n",
    "    if n in fib_dic:\n",
    "        return fib_dic[n] #gets the value at n in the dictionary\n",
    "    else : \n",
    "        if n <= 2:\n",
    "            fib_dic[n] = 1\n",
    "            return 1\n",
    "        else :\n",
    "            fib_dic[n] = fib(n-1) + fib(n-2)\n",
    "            return fib_dic[n]"
   ]
  },
  {
   "cell_type": "code",
   "execution_count": 59,
   "id": "bc0ca27e",
   "metadata": {},
   "outputs": [
    {
     "name": "stdout",
     "output_type": "stream",
     "text": [
      "1: 1\n",
      "2: 1\n",
      "3: 2\n",
      "4: 3\n",
      "5: 5\n",
      "6: 8\n",
      "7: 13\n",
      "8: 21\n",
      "9: 34\n",
      "10: 55\n",
      "11: 89\n",
      "12: 144\n",
      "13: 233\n",
      "14: 377\n",
      "15: 610\n",
      "16: 987\n",
      "17: 1597\n",
      "18: 2584\n",
      "19: 4181\n",
      "20: 6765\n",
      "21: 10946\n",
      "22: 17711\n",
      "23: 28657\n",
      "24: 46368\n",
      "25: 75025\n",
      "26: 121393\n",
      "27: 196418\n",
      "28: 317811\n",
      "29: 514229\n",
      "30: 832040\n",
      "31: 1346269\n",
      "32: 2178309\n",
      "33: 3524578\n",
      "34: 5702887\n",
      "35: 9227465\n",
      "36: 14930352\n",
      "37: 24157817\n",
      "38: 39088169\n",
      "39: 63245986\n",
      "40: 102334155\n",
      "41: 165580141\n",
      "42: 267914296\n",
      "43: 433494437\n",
      "44: 701408733\n",
      "45: 1134903170\n",
      "46: 1836311903\n",
      "47: 2971215073\n",
      "48: 4807526976\n",
      "49: 7778742049\n",
      "50: 12586269025\n",
      "51: 20365011074\n",
      "52: 32951280099\n",
      "53: 53316291173\n",
      "54: 86267571272\n",
      "55: 139583862445\n",
      "56: 225851433717\n",
      "57: 365435296162\n",
      "58: 591286729879\n",
      "59: 956722026041\n",
      "60: 1548008755920\n",
      "61: 2504730781961\n",
      "62: 4052739537881\n",
      "63: 6557470319842\n",
      "64: 10610209857723\n",
      "65: 17167680177565\n",
      "66: 27777890035288\n",
      "67: 44945570212853\n",
      "68: 72723460248141\n",
      "69: 117669030460994\n",
      "70: 190392490709135\n",
      "71: 308061521170129\n",
      "72: 498454011879264\n",
      "73: 806515533049393\n",
      "74: 1304969544928657\n",
      "75: 2111485077978050\n",
      "76: 3416454622906707\n",
      "77: 5527939700884757\n",
      "78: 8944394323791464\n",
      "79: 14472334024676221\n",
      "80: 23416728348467685\n",
      "81: 37889062373143906\n",
      "82: 61305790721611591\n",
      "83: 99194853094755497\n",
      "84: 160500643816367088\n",
      "85: 259695496911122585\n",
      "86: 420196140727489673\n",
      "87: 679891637638612258\n",
      "88: 1100087778366101931\n",
      "89: 1779979416004714189\n",
      "90: 2880067194370816120\n",
      "91: 4660046610375530309\n",
      "92: 7540113804746346429\n",
      "93: 12200160415121876738\n",
      "94: 19740274219868223167\n",
      "95: 31940434634990099905\n",
      "96: 51680708854858323072\n",
      "97: 83621143489848422977\n",
      "98: 135301852344706746049\n",
      "99: 218922995834555169026\n"
     ]
    }
   ],
   "source": [
    "for i in range(1, 100):\n",
    "    print(f\"{i}: {fib(i)}\")"
   ]
  },
  {
   "cell_type": "markdown",
   "id": "a8efe00e",
   "metadata": {},
   "source": [
    "#### `lru_cache` from functools"
   ]
  },
  {
   "cell_type": "code",
   "execution_count": 67,
   "id": "d09555e3",
   "metadata": {},
   "outputs": [],
   "source": [
    "# this is the 'pythonic' way to do the above\n",
    "\n",
    "from functools import lru_cache "
   ]
  },
  {
   "cell_type": "code",
   "execution_count": 70,
   "id": "c46edc32",
   "metadata": {},
   "outputs": [
    {
     "data": {
      "text/plain": [
       "9969216677189303386214405760200"
      ]
     },
     "execution_count": 70,
     "metadata": {},
     "output_type": "execute_result"
    }
   ],
   "source": [
    "# functools module provide the cache function. It's default is maxsize = 120\n",
    "# The @ is a decorator and change the behavior of function and classes.\n",
    "@lru_cache(maxsize = 120)\n",
    "def fib(n):\n",
    "    if n <= 2:\n",
    "        return 1\n",
    "    else :\n",
    "        return fib(n-1) + fib(n-2)\n",
    "    \n",
    "fib(150)\n",
    "\n",
    "# must be directly above the function that you are defining"
   ]
  },
  {
   "cell_type": "code",
   "execution_count": null,
   "id": "1fdbc060",
   "metadata": {},
   "outputs": [],
   "source": [
    "# for i in range(1, 1000):\n",
    "#     print(f\"{i}: {fib(i)}\")"
   ]
  },
  {
   "cell_type": "code",
   "execution_count": null,
   "id": "45fc88bb",
   "metadata": {},
   "outputs": [],
   "source": []
  },
  {
   "cell_type": "markdown",
   "id": "7a051fa4",
   "metadata": {},
   "source": [
    "---"
   ]
  }
 ],
 "metadata": {
  "kernelspec": {
   "display_name": "Python 3 (ipykernel)",
   "language": "python",
   "name": "python3"
  },
  "language_info": {
   "codemirror_mode": {
    "name": "ipython",
    "version": 3
   },
   "file_extension": ".py",
   "mimetype": "text/x-python",
   "name": "python",
   "nbconvert_exporter": "python",
   "pygments_lexer": "ipython3",
   "version": "3.11.4"
  }
 },
 "nbformat": 4,
 "nbformat_minor": 5
}
