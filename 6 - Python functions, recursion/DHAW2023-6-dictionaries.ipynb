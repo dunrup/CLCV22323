{
 "cells": [
  {
   "cell_type": "markdown",
   "id": "c81a9caf",
   "metadata": {},
   "source": [
    "## Dictionaries"
   ]
  },
  {
   "cell_type": "code",
   "execution_count": 1,
   "id": "9112bef3",
   "metadata": {},
   "outputs": [],
   "source": [
    "persons = {\n",
    "    \"first\" : \"Jones\",\n",
    "    \"lastname\" : \"Smith\",\n",
    "    \"email\" : \"johnsmith@gmail.com\"\n",
    "}"
   ]
  },
  {
   "cell_type": "code",
   "execution_count": 2,
   "id": "61eef1f0",
   "metadata": {},
   "outputs": [
    {
     "name": "stdout",
     "output_type": "stream",
     "text": [
      "{'first': 'Jones', 'lastname': 'Smith', 'email': 'johnsmith@gmail.com'}\n"
     ]
    }
   ],
   "source": [
    "print(persons)"
   ]
  },
  {
   "cell_type": "markdown",
   "id": "06f0ad91",
   "metadata": {},
   "source": [
    "#### Create a dictionary"
   ]
  },
  {
   "cell_type": "code",
   "execution_count": 3,
   "id": "635ec654",
   "metadata": {},
   "outputs": [
    {
     "name": "stdout",
     "output_type": "stream",
     "text": [
      "{'name': 'John', 'age': 25, 'city': 'New York', 'grade': 'A', 'is_student': True}\n"
     ]
    }
   ],
   "source": [
    "my_dict = {'name': 'John', 'age': 25, 'city': 'New York', 'grade': 'A', 'is_student': True}\n",
    "print(my_dict)"
   ]
  },
  {
   "cell_type": "markdown",
   "id": "2fbd4874",
   "metadata": {},
   "source": [
    "#### Accessing Values: Write a program that accesses and prints values from the dictionary created above"
   ]
  },
  {
   "cell_type": "code",
   "execution_count": 4,
   "id": "d4051027",
   "metadata": {},
   "outputs": [
    {
     "data": {
      "text/plain": [
       "'John'"
      ]
     },
     "execution_count": 4,
     "metadata": {},
     "output_type": "execute_result"
    }
   ],
   "source": [
    "# my_dict[0] doesn't work, because none of the 'keys' are 0\n",
    "my_dict['name']"
   ]
  },
  {
   "cell_type": "markdown",
   "id": "c8f30f99",
   "metadata": {},
   "source": [
    "#### Dictionary Manipulation: Add a new key-value pair to `my_dict`. Then, update the value of an existing key."
   ]
  },
  {
   "cell_type": "code",
   "execution_count": 5,
   "id": "37b13753",
   "metadata": {},
   "outputs": [
    {
     "data": {
      "text/plain": [
       "'red'"
      ]
     },
     "execution_count": 5,
     "metadata": {},
     "output_type": "execute_result"
    }
   ],
   "source": [
    "my_dict['age'] = 26 #updates age\n",
    "my_dict['color'] = 'red' #adds a new key-value pair\n",
    "my_dict['color']"
   ]
  },
  {
   "cell_type": "markdown",
   "id": "28a5a173",
   "metadata": {},
   "source": [
    "#### Print Keys and Values: Write a program to print all keys and values from `my_dict` separately."
   ]
  },
  {
   "cell_type": "code",
   "execution_count": 6,
   "id": "c51e2891",
   "metadata": {},
   "outputs": [
    {
     "name": "stdout",
     "output_type": "stream",
     "text": [
      "dict_keys(['name', 'age', 'city', 'grade', 'is_student', 'color'])\n",
      "dict_values(['John', 26, 'New York', 'A', True, 'red'])\n"
     ]
    }
   ],
   "source": [
    "print(my_dict.keys())\n",
    "print(my_dict.values())"
   ]
  },
  {
   "cell_type": "markdown",
   "id": "d4b87a3d",
   "metadata": {},
   "source": [
    "#### Check if Key Exists: Write a program that checks if a specific key exists in `my_dict`."
   ]
  },
  {
   "cell_type": "code",
   "execution_count": 7,
   "id": "ee82b71a",
   "metadata": {},
   "outputs": [
    {
     "name": "stdout",
     "output_type": "stream",
     "text": [
      "city\n",
      "New York\n"
     ]
    }
   ],
   "source": [
    "mykeytocheck = \"city\"\n",
    "if mykeytocheck in my_dict:\n",
    "    print(mykeytocheck)\n",
    "    print(my_dict[mykeytocheck])\n",
    "else :\n",
    "    print(\"nope\")\n",
    "# Don't need a forloop. you iterate automatically"
   ]
  },
  {
   "cell_type": "markdown",
   "id": "fdd7911a",
   "metadata": {},
   "source": [
    "#### Remove a Key: Remove one key-value pair from `my_dict` and print the updated dictionary."
   ]
  },
  {
   "cell_type": "code",
   "execution_count": 8,
   "id": "124b77bb",
   "metadata": {},
   "outputs": [
    {
     "name": "stdout",
     "output_type": "stream",
     "text": [
      "dict_keys(['name', 'age', 'city', 'grade', 'is_student', 'color'])\n"
     ]
    }
   ],
   "source": [
    "# del my_dict['grade']\n",
    "print(my_dict.keys())"
   ]
  },
  {
   "cell_type": "markdown",
   "id": "0cf92b6e",
   "metadata": {},
   "source": [
    "#### Loop Through Dictionary: Write a program that uses a for loop to iterate through all key-value pairs in `my_dict` and prints them."
   ]
  },
  {
   "cell_type": "code",
   "execution_count": 13,
   "id": "cf56deb6",
   "metadata": {},
   "outputs": [
    {
     "name": "stdout",
     "output_type": "stream",
     "text": [
      "This is the name for the John\n",
      "This is the age for the 26\n",
      "This is the city for the New York\n",
      "This is the grade for the A\n",
      "This is the is_student for the True\n",
      "This is the color for the red\n"
     ]
    }
   ],
   "source": [
    "for key, value in my_dict.items():\n",
    "    print(f\"This is the {key} for the {value}\")\n",
    "    \n",
    "#.items iterates over both keys and values\n",
    "#.keys over keys\n",
    "#.values over values"
   ]
  },
  {
   "cell_type": "markdown",
   "id": "6f133e78",
   "metadata": {},
   "source": [
    "#### Merge Dictionaries: Create a new dictionary, `new_dict`, and merge it with `my_dict`. Print the merged dictionary."
   ]
  },
  {
   "cell_type": "code",
   "execution_count": 18,
   "id": "86958dc3",
   "metadata": {},
   "outputs": [
    {
     "name": "stdout",
     "output_type": "stream",
     "text": [
      "{'name': 'John', 'age': 26, 'city': 'New York', 'grade': 'A', 'is_student': True, 'color': 'red', 'size': 'big'}\n"
     ]
    }
   ],
   "source": [
    "new_dict = {\"size\" : \"big\"}\n",
    "my_dict.update(new_dict)\n",
    "print(my_dict)"
   ]
  },
  {
   "cell_type": "markdown",
   "id": "7ff7dc07",
   "metadata": {},
   "source": [
    "#### Count Occurrences: Write a program that takes a string as input and counts the occurrences of each letter in the string using a dictionary."
   ]
  },
  {
   "cell_type": "code",
   "execution_count": null,
   "id": "7a323b30",
   "metadata": {},
   "outputs": [],
   "source": []
  },
  {
   "cell_type": "markdown",
   "id": "750a773f",
   "metadata": {},
   "source": [
    "#### Nested Dictionary: Create a nested dictionary with at least two levels. Access and print values from the nested dictionary."
   ]
  },
  {
   "cell_type": "code",
   "execution_count": 27,
   "id": "06d599fe",
   "metadata": {},
   "outputs": [
    {
     "name": "stdout",
     "output_type": "stream",
     "text": [
      "Tobias\n"
     ]
    }
   ],
   "source": [
    "child1 = {\n",
    "  \"name\" : \"Emil\",\n",
    "  \"year\" : 2004\n",
    "}\n",
    "child2 = {\n",
    "  \"name\" : \"Tobias\",\n",
    "  \"year\" : 2007\n",
    "}\n",
    "child3 = {\n",
    "  \"name\" : \"Linus\",\n",
    "  \"year\" : 2011\n",
    "}\n",
    "\n",
    "myfamily = {\n",
    "  \"child1\" : child1,\n",
    "  \"child2\" : child2,\n",
    "  \"child3\" : child3\n",
    "} \n",
    "\n",
    "print(myfamily[\"child2\"][\"name\"]) "
   ]
  },
  {
   "cell_type": "markdown",
   "id": "e9669ae7",
   "metadata": {},
   "source": [
    "---"
   ]
  }
 ],
 "metadata": {
  "kernelspec": {
   "display_name": "Python 3 (ipykernel)",
   "language": "python",
   "name": "python3"
  },
  "language_info": {
   "codemirror_mode": {
    "name": "ipython",
    "version": 3
   },
   "file_extension": ".py",
   "mimetype": "text/x-python",
   "name": "python",
   "nbconvert_exporter": "python",
   "pygments_lexer": "ipython3",
   "version": "3.11.4"
  }
 },
 "nbformat": 4,
 "nbformat_minor": 5
}
